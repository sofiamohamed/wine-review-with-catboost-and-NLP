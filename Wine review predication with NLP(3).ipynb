{
 "cells": [
  {
   "cell_type": "code",
   "execution_count": 1,
   "id": "24cf1c37",
   "metadata": {},
   "outputs": [],
   "source": [
    "import pandas as pd\n",
    "import numpy as np\n",
    "import re\n",
    "import seaborn as sns\n",
    "import matplotlib.pyplot as plt\n",
    "from sklearn.model_selection import train_test_split\n",
    "%matplotlib inline"
   ]
  },
  {
   "cell_type": "code",
   "execution_count": 2,
   "id": "203f83f4",
   "metadata": {
    "scrolled": false
   },
   "outputs": [
    {
     "data": {
      "text/html": [
       "<div>\n",
       "<style scoped>\n",
       "    .dataframe tbody tr th:only-of-type {\n",
       "        vertical-align: middle;\n",
       "    }\n",
       "\n",
       "    .dataframe tbody tr th {\n",
       "        vertical-align: top;\n",
       "    }\n",
       "\n",
       "    .dataframe thead th {\n",
       "        text-align: right;\n",
       "    }\n",
       "</style>\n",
       "<table border=\"1\" class=\"dataframe\">\n",
       "  <thead>\n",
       "    <tr style=\"text-align: right;\">\n",
       "      <th></th>\n",
       "      <th>Unnamed: 0</th>\n",
       "      <th>country</th>\n",
       "      <th>description</th>\n",
       "      <th>designation</th>\n",
       "      <th>points</th>\n",
       "      <th>price</th>\n",
       "      <th>province</th>\n",
       "      <th>region_1</th>\n",
       "      <th>region_2</th>\n",
       "      <th>taster_name</th>\n",
       "      <th>taster_twitter_handle</th>\n",
       "      <th>title</th>\n",
       "      <th>variety</th>\n",
       "      <th>winery</th>\n",
       "    </tr>\n",
       "  </thead>\n",
       "  <tbody>\n",
       "    <tr>\n",
       "      <th>0</th>\n",
       "      <td>0</td>\n",
       "      <td>Italy</td>\n",
       "      <td>Aromas include tropical fruit, broom, brimston...</td>\n",
       "      <td>Vulkà Bianco</td>\n",
       "      <td>87</td>\n",
       "      <td>NaN</td>\n",
       "      <td>Sicily &amp; Sardinia</td>\n",
       "      <td>Etna</td>\n",
       "      <td>NaN</td>\n",
       "      <td>Kerin O’Keefe</td>\n",
       "      <td>@kerinokeefe</td>\n",
       "      <td>Nicosia 2013 Vulkà Bianco  (Etna)</td>\n",
       "      <td>White Blend</td>\n",
       "      <td>Nicosia</td>\n",
       "    </tr>\n",
       "    <tr>\n",
       "      <th>1</th>\n",
       "      <td>1</td>\n",
       "      <td>Portugal</td>\n",
       "      <td>This is ripe and fruity, a wine that is smooth...</td>\n",
       "      <td>Avidagos</td>\n",
       "      <td>87</td>\n",
       "      <td>15.0</td>\n",
       "      <td>Douro</td>\n",
       "      <td>NaN</td>\n",
       "      <td>NaN</td>\n",
       "      <td>Roger Voss</td>\n",
       "      <td>@vossroger</td>\n",
       "      <td>Quinta dos Avidagos 2011 Avidagos Red (Douro)</td>\n",
       "      <td>Portuguese Red</td>\n",
       "      <td>Quinta dos Avidagos</td>\n",
       "    </tr>\n",
       "    <tr>\n",
       "      <th>2</th>\n",
       "      <td>2</td>\n",
       "      <td>US</td>\n",
       "      <td>Tart and snappy, the flavors of lime flesh and...</td>\n",
       "      <td>NaN</td>\n",
       "      <td>87</td>\n",
       "      <td>14.0</td>\n",
       "      <td>Oregon</td>\n",
       "      <td>Willamette Valley</td>\n",
       "      <td>Willamette Valley</td>\n",
       "      <td>Paul Gregutt</td>\n",
       "      <td>@paulgwine</td>\n",
       "      <td>Rainstorm 2013 Pinot Gris (Willamette Valley)</td>\n",
       "      <td>Pinot Gris</td>\n",
       "      <td>Rainstorm</td>\n",
       "    </tr>\n",
       "    <tr>\n",
       "      <th>3</th>\n",
       "      <td>3</td>\n",
       "      <td>US</td>\n",
       "      <td>Pineapple rind, lemon pith and orange blossom ...</td>\n",
       "      <td>Reserve Late Harvest</td>\n",
       "      <td>87</td>\n",
       "      <td>13.0</td>\n",
       "      <td>Michigan</td>\n",
       "      <td>Lake Michigan Shore</td>\n",
       "      <td>NaN</td>\n",
       "      <td>Alexander Peartree</td>\n",
       "      <td>NaN</td>\n",
       "      <td>St. Julian 2013 Reserve Late Harvest Riesling ...</td>\n",
       "      <td>Riesling</td>\n",
       "      <td>St. Julian</td>\n",
       "    </tr>\n",
       "    <tr>\n",
       "      <th>4</th>\n",
       "      <td>4</td>\n",
       "      <td>US</td>\n",
       "      <td>Much like the regular bottling from 2012, this...</td>\n",
       "      <td>Vintner's Reserve Wild Child Block</td>\n",
       "      <td>87</td>\n",
       "      <td>65.0</td>\n",
       "      <td>Oregon</td>\n",
       "      <td>Willamette Valley</td>\n",
       "      <td>Willamette Valley</td>\n",
       "      <td>Paul Gregutt</td>\n",
       "      <td>@paulgwine</td>\n",
       "      <td>Sweet Cheeks 2012 Vintner's Reserve Wild Child...</td>\n",
       "      <td>Pinot Noir</td>\n",
       "      <td>Sweet Cheeks</td>\n",
       "    </tr>\n",
       "    <tr>\n",
       "      <th>...</th>\n",
       "      <td>...</td>\n",
       "      <td>...</td>\n",
       "      <td>...</td>\n",
       "      <td>...</td>\n",
       "      <td>...</td>\n",
       "      <td>...</td>\n",
       "      <td>...</td>\n",
       "      <td>...</td>\n",
       "      <td>...</td>\n",
       "      <td>...</td>\n",
       "      <td>...</td>\n",
       "      <td>...</td>\n",
       "      <td>...</td>\n",
       "      <td>...</td>\n",
       "    </tr>\n",
       "    <tr>\n",
       "      <th>129966</th>\n",
       "      <td>129966</td>\n",
       "      <td>Germany</td>\n",
       "      <td>Notes of honeysuckle and cantaloupe sweeten th...</td>\n",
       "      <td>Brauneberger Juffer-Sonnenuhr Spätlese</td>\n",
       "      <td>90</td>\n",
       "      <td>28.0</td>\n",
       "      <td>Mosel</td>\n",
       "      <td>NaN</td>\n",
       "      <td>NaN</td>\n",
       "      <td>Anna Lee C. Iijima</td>\n",
       "      <td>NaN</td>\n",
       "      <td>Dr. H. Thanisch (Erben Müller-Burggraef) 2013 ...</td>\n",
       "      <td>Riesling</td>\n",
       "      <td>Dr. H. Thanisch (Erben Müller-Burggraef)</td>\n",
       "    </tr>\n",
       "    <tr>\n",
       "      <th>129967</th>\n",
       "      <td>129967</td>\n",
       "      <td>US</td>\n",
       "      <td>Citation is given as much as a decade of bottl...</td>\n",
       "      <td>NaN</td>\n",
       "      <td>90</td>\n",
       "      <td>75.0</td>\n",
       "      <td>Oregon</td>\n",
       "      <td>Oregon</td>\n",
       "      <td>Oregon Other</td>\n",
       "      <td>Paul Gregutt</td>\n",
       "      <td>@paulgwine</td>\n",
       "      <td>Citation 2004 Pinot Noir (Oregon)</td>\n",
       "      <td>Pinot Noir</td>\n",
       "      <td>Citation</td>\n",
       "    </tr>\n",
       "    <tr>\n",
       "      <th>129968</th>\n",
       "      <td>129968</td>\n",
       "      <td>France</td>\n",
       "      <td>Well-drained gravel soil gives this wine its c...</td>\n",
       "      <td>Kritt</td>\n",
       "      <td>90</td>\n",
       "      <td>30.0</td>\n",
       "      <td>Alsace</td>\n",
       "      <td>Alsace</td>\n",
       "      <td>NaN</td>\n",
       "      <td>Roger Voss</td>\n",
       "      <td>@vossroger</td>\n",
       "      <td>Domaine Gresser 2013 Kritt Gewurztraminer (Als...</td>\n",
       "      <td>Gewürztraminer</td>\n",
       "      <td>Domaine Gresser</td>\n",
       "    </tr>\n",
       "    <tr>\n",
       "      <th>129969</th>\n",
       "      <td>129969</td>\n",
       "      <td>France</td>\n",
       "      <td>A dry style of Pinot Gris, this is crisp with ...</td>\n",
       "      <td>NaN</td>\n",
       "      <td>90</td>\n",
       "      <td>32.0</td>\n",
       "      <td>Alsace</td>\n",
       "      <td>Alsace</td>\n",
       "      <td>NaN</td>\n",
       "      <td>Roger Voss</td>\n",
       "      <td>@vossroger</td>\n",
       "      <td>Domaine Marcel Deiss 2012 Pinot Gris (Alsace)</td>\n",
       "      <td>Pinot Gris</td>\n",
       "      <td>Domaine Marcel Deiss</td>\n",
       "    </tr>\n",
       "    <tr>\n",
       "      <th>129970</th>\n",
       "      <td>129970</td>\n",
       "      <td>France</td>\n",
       "      <td>Big, rich and off-dry, this is powered by inte...</td>\n",
       "      <td>Lieu-dit Harth Cuvée Caroline</td>\n",
       "      <td>90</td>\n",
       "      <td>21.0</td>\n",
       "      <td>Alsace</td>\n",
       "      <td>Alsace</td>\n",
       "      <td>NaN</td>\n",
       "      <td>Roger Voss</td>\n",
       "      <td>@vossroger</td>\n",
       "      <td>Domaine Schoffit 2012 Lieu-dit Harth Cuvée Car...</td>\n",
       "      <td>Gewürztraminer</td>\n",
       "      <td>Domaine Schoffit</td>\n",
       "    </tr>\n",
       "  </tbody>\n",
       "</table>\n",
       "<p>129971 rows × 14 columns</p>\n",
       "</div>"
      ],
      "text/plain": [
       "        Unnamed: 0   country  \\\n",
       "0                0     Italy   \n",
       "1                1  Portugal   \n",
       "2                2        US   \n",
       "3                3        US   \n",
       "4                4        US   \n",
       "...            ...       ...   \n",
       "129966      129966   Germany   \n",
       "129967      129967        US   \n",
       "129968      129968    France   \n",
       "129969      129969    France   \n",
       "129970      129970    France   \n",
       "\n",
       "                                              description  \\\n",
       "0       Aromas include tropical fruit, broom, brimston...   \n",
       "1       This is ripe and fruity, a wine that is smooth...   \n",
       "2       Tart and snappy, the flavors of lime flesh and...   \n",
       "3       Pineapple rind, lemon pith and orange blossom ...   \n",
       "4       Much like the regular bottling from 2012, this...   \n",
       "...                                                   ...   \n",
       "129966  Notes of honeysuckle and cantaloupe sweeten th...   \n",
       "129967  Citation is given as much as a decade of bottl...   \n",
       "129968  Well-drained gravel soil gives this wine its c...   \n",
       "129969  A dry style of Pinot Gris, this is crisp with ...   \n",
       "129970  Big, rich and off-dry, this is powered by inte...   \n",
       "\n",
       "                                   designation  points  price  \\\n",
       "0                                 Vulkà Bianco      87    NaN   \n",
       "1                                     Avidagos      87   15.0   \n",
       "2                                          NaN      87   14.0   \n",
       "3                         Reserve Late Harvest      87   13.0   \n",
       "4           Vintner's Reserve Wild Child Block      87   65.0   \n",
       "...                                        ...     ...    ...   \n",
       "129966  Brauneberger Juffer-Sonnenuhr Spätlese      90   28.0   \n",
       "129967                                     NaN      90   75.0   \n",
       "129968                                   Kritt      90   30.0   \n",
       "129969                                     NaN      90   32.0   \n",
       "129970           Lieu-dit Harth Cuvée Caroline      90   21.0   \n",
       "\n",
       "                 province             region_1           region_2  \\\n",
       "0       Sicily & Sardinia                 Etna                NaN   \n",
       "1                   Douro                  NaN                NaN   \n",
       "2                  Oregon    Willamette Valley  Willamette Valley   \n",
       "3                Michigan  Lake Michigan Shore                NaN   \n",
       "4                  Oregon    Willamette Valley  Willamette Valley   \n",
       "...                   ...                  ...                ...   \n",
       "129966              Mosel                  NaN                NaN   \n",
       "129967             Oregon               Oregon       Oregon Other   \n",
       "129968             Alsace               Alsace                NaN   \n",
       "129969             Alsace               Alsace                NaN   \n",
       "129970             Alsace               Alsace                NaN   \n",
       "\n",
       "               taster_name taster_twitter_handle  \\\n",
       "0            Kerin O’Keefe          @kerinokeefe   \n",
       "1               Roger Voss            @vossroger   \n",
       "2             Paul Gregutt           @paulgwine    \n",
       "3       Alexander Peartree                   NaN   \n",
       "4             Paul Gregutt           @paulgwine    \n",
       "...                    ...                   ...   \n",
       "129966  Anna Lee C. Iijima                   NaN   \n",
       "129967        Paul Gregutt           @paulgwine    \n",
       "129968          Roger Voss            @vossroger   \n",
       "129969          Roger Voss            @vossroger   \n",
       "129970          Roger Voss            @vossroger   \n",
       "\n",
       "                                                    title         variety  \\\n",
       "0                       Nicosia 2013 Vulkà Bianco  (Etna)     White Blend   \n",
       "1           Quinta dos Avidagos 2011 Avidagos Red (Douro)  Portuguese Red   \n",
       "2           Rainstorm 2013 Pinot Gris (Willamette Valley)      Pinot Gris   \n",
       "3       St. Julian 2013 Reserve Late Harvest Riesling ...        Riesling   \n",
       "4       Sweet Cheeks 2012 Vintner's Reserve Wild Child...      Pinot Noir   \n",
       "...                                                   ...             ...   \n",
       "129966  Dr. H. Thanisch (Erben Müller-Burggraef) 2013 ...        Riesling   \n",
       "129967                  Citation 2004 Pinot Noir (Oregon)      Pinot Noir   \n",
       "129968  Domaine Gresser 2013 Kritt Gewurztraminer (Als...  Gewürztraminer   \n",
       "129969      Domaine Marcel Deiss 2012 Pinot Gris (Alsace)      Pinot Gris   \n",
       "129970  Domaine Schoffit 2012 Lieu-dit Harth Cuvée Car...  Gewürztraminer   \n",
       "\n",
       "                                          winery  \n",
       "0                                        Nicosia  \n",
       "1                            Quinta dos Avidagos  \n",
       "2                                      Rainstorm  \n",
       "3                                     St. Julian  \n",
       "4                                   Sweet Cheeks  \n",
       "...                                          ...  \n",
       "129966  Dr. H. Thanisch (Erben Müller-Burggraef)  \n",
       "129967                                  Citation  \n",
       "129968                           Domaine Gresser  \n",
       "129969                      Domaine Marcel Deiss  \n",
       "129970                          Domaine Schoffit  \n",
       "\n",
       "[129971 rows x 14 columns]"
      ]
     },
     "execution_count": 2,
     "metadata": {},
     "output_type": "execute_result"
    }
   ],
   "source": [
    "data=pd.read_csv(r'C:\\Users\\M.dhiinesh\\Desktop\\sofia\\sem2\\wine.csv')\n",
    "data"
   ]
  },
  {
   "cell_type": "code",
   "execution_count": 3,
   "id": "1d60c83b",
   "metadata": {
    "scrolled": false
   },
   "outputs": [
    {
     "data": {
      "text/html": [
       "<div>\n",
       "<style scoped>\n",
       "    .dataframe tbody tr th:only-of-type {\n",
       "        vertical-align: middle;\n",
       "    }\n",
       "\n",
       "    .dataframe tbody tr th {\n",
       "        vertical-align: top;\n",
       "    }\n",
       "\n",
       "    .dataframe thead th {\n",
       "        text-align: right;\n",
       "    }\n",
       "</style>\n",
       "<table border=\"1\" class=\"dataframe\">\n",
       "  <thead>\n",
       "    <tr style=\"text-align: right;\">\n",
       "      <th></th>\n",
       "      <th>Unnamed: 0</th>\n",
       "      <th>country</th>\n",
       "      <th>description</th>\n",
       "      <th>designation</th>\n",
       "      <th>points</th>\n",
       "      <th>price</th>\n",
       "      <th>province</th>\n",
       "      <th>region_1</th>\n",
       "      <th>region_2</th>\n",
       "      <th>taster_name</th>\n",
       "      <th>taster_twitter_handle</th>\n",
       "      <th>title</th>\n",
       "      <th>variety</th>\n",
       "      <th>winery</th>\n",
       "    </tr>\n",
       "  </thead>\n",
       "  <tbody>\n",
       "    <tr>\n",
       "      <th>0</th>\n",
       "      <td>0</td>\n",
       "      <td>Italy</td>\n",
       "      <td>Aromas include tropical fruit, broom, brimston...</td>\n",
       "      <td>Vulkà Bianco</td>\n",
       "      <td>87</td>\n",
       "      <td>NaN</td>\n",
       "      <td>Sicily &amp; Sardinia</td>\n",
       "      <td>Etna</td>\n",
       "      <td>NaN</td>\n",
       "      <td>Kerin O’Keefe</td>\n",
       "      <td>@kerinokeefe</td>\n",
       "      <td>Nicosia 2013 Vulkà Bianco  (Etna)</td>\n",
       "      <td>White Blend</td>\n",
       "      <td>Nicosia</td>\n",
       "    </tr>\n",
       "    <tr>\n",
       "      <th>1</th>\n",
       "      <td>1</td>\n",
       "      <td>Portugal</td>\n",
       "      <td>This is ripe and fruity, a wine that is smooth...</td>\n",
       "      <td>Avidagos</td>\n",
       "      <td>87</td>\n",
       "      <td>15.0</td>\n",
       "      <td>Douro</td>\n",
       "      <td>NaN</td>\n",
       "      <td>NaN</td>\n",
       "      <td>Roger Voss</td>\n",
       "      <td>@vossroger</td>\n",
       "      <td>Quinta dos Avidagos 2011 Avidagos Red (Douro)</td>\n",
       "      <td>Portuguese Red</td>\n",
       "      <td>Quinta dos Avidagos</td>\n",
       "    </tr>\n",
       "    <tr>\n",
       "      <th>2</th>\n",
       "      <td>2</td>\n",
       "      <td>US</td>\n",
       "      <td>Tart and snappy, the flavors of lime flesh and...</td>\n",
       "      <td>NaN</td>\n",
       "      <td>87</td>\n",
       "      <td>14.0</td>\n",
       "      <td>Oregon</td>\n",
       "      <td>Willamette Valley</td>\n",
       "      <td>Willamette Valley</td>\n",
       "      <td>Paul Gregutt</td>\n",
       "      <td>@paulgwine</td>\n",
       "      <td>Rainstorm 2013 Pinot Gris (Willamette Valley)</td>\n",
       "      <td>Pinot Gris</td>\n",
       "      <td>Rainstorm</td>\n",
       "    </tr>\n",
       "    <tr>\n",
       "      <th>3</th>\n",
       "      <td>3</td>\n",
       "      <td>US</td>\n",
       "      <td>Pineapple rind, lemon pith and orange blossom ...</td>\n",
       "      <td>Reserve Late Harvest</td>\n",
       "      <td>87</td>\n",
       "      <td>13.0</td>\n",
       "      <td>Michigan</td>\n",
       "      <td>Lake Michigan Shore</td>\n",
       "      <td>NaN</td>\n",
       "      <td>Alexander Peartree</td>\n",
       "      <td>NaN</td>\n",
       "      <td>St. Julian 2013 Reserve Late Harvest Riesling ...</td>\n",
       "      <td>Riesling</td>\n",
       "      <td>St. Julian</td>\n",
       "    </tr>\n",
       "    <tr>\n",
       "      <th>4</th>\n",
       "      <td>4</td>\n",
       "      <td>US</td>\n",
       "      <td>Much like the regular bottling from 2012, this...</td>\n",
       "      <td>Vintner's Reserve Wild Child Block</td>\n",
       "      <td>87</td>\n",
       "      <td>65.0</td>\n",
       "      <td>Oregon</td>\n",
       "      <td>Willamette Valley</td>\n",
       "      <td>Willamette Valley</td>\n",
       "      <td>Paul Gregutt</td>\n",
       "      <td>@paulgwine</td>\n",
       "      <td>Sweet Cheeks 2012 Vintner's Reserve Wild Child...</td>\n",
       "      <td>Pinot Noir</td>\n",
       "      <td>Sweet Cheeks</td>\n",
       "    </tr>\n",
       "    <tr>\n",
       "      <th>5</th>\n",
       "      <td>5</td>\n",
       "      <td>Spain</td>\n",
       "      <td>Blackberry and raspberry aromas show a typical...</td>\n",
       "      <td>Ars In Vitro</td>\n",
       "      <td>87</td>\n",
       "      <td>15.0</td>\n",
       "      <td>Northern Spain</td>\n",
       "      <td>Navarra</td>\n",
       "      <td>NaN</td>\n",
       "      <td>Michael Schachner</td>\n",
       "      <td>@wineschach</td>\n",
       "      <td>Tandem 2011 Ars In Vitro Tempranillo-Merlot (N...</td>\n",
       "      <td>Tempranillo-Merlot</td>\n",
       "      <td>Tandem</td>\n",
       "    </tr>\n",
       "    <tr>\n",
       "      <th>6</th>\n",
       "      <td>6</td>\n",
       "      <td>Italy</td>\n",
       "      <td>Here's a bright, informal red that opens with ...</td>\n",
       "      <td>Belsito</td>\n",
       "      <td>87</td>\n",
       "      <td>16.0</td>\n",
       "      <td>Sicily &amp; Sardinia</td>\n",
       "      <td>Vittoria</td>\n",
       "      <td>NaN</td>\n",
       "      <td>Kerin O’Keefe</td>\n",
       "      <td>@kerinokeefe</td>\n",
       "      <td>Terre di Giurfo 2013 Belsito Frappato (Vittoria)</td>\n",
       "      <td>Frappato</td>\n",
       "      <td>Terre di Giurfo</td>\n",
       "    </tr>\n",
       "    <tr>\n",
       "      <th>7</th>\n",
       "      <td>7</td>\n",
       "      <td>France</td>\n",
       "      <td>This dry and restrained wine offers spice in p...</td>\n",
       "      <td>NaN</td>\n",
       "      <td>87</td>\n",
       "      <td>24.0</td>\n",
       "      <td>Alsace</td>\n",
       "      <td>Alsace</td>\n",
       "      <td>NaN</td>\n",
       "      <td>Roger Voss</td>\n",
       "      <td>@vossroger</td>\n",
       "      <td>Trimbach 2012 Gewurztraminer (Alsace)</td>\n",
       "      <td>Gewürztraminer</td>\n",
       "      <td>Trimbach</td>\n",
       "    </tr>\n",
       "    <tr>\n",
       "      <th>8</th>\n",
       "      <td>8</td>\n",
       "      <td>Germany</td>\n",
       "      <td>Savory dried thyme notes accent sunnier flavor...</td>\n",
       "      <td>Shine</td>\n",
       "      <td>87</td>\n",
       "      <td>12.0</td>\n",
       "      <td>Rheinhessen</td>\n",
       "      <td>NaN</td>\n",
       "      <td>NaN</td>\n",
       "      <td>Anna Lee C. Iijima</td>\n",
       "      <td>NaN</td>\n",
       "      <td>Heinz Eifel 2013 Shine Gewürztraminer (Rheinhe...</td>\n",
       "      <td>Gewürztraminer</td>\n",
       "      <td>Heinz Eifel</td>\n",
       "    </tr>\n",
       "    <tr>\n",
       "      <th>9</th>\n",
       "      <td>9</td>\n",
       "      <td>France</td>\n",
       "      <td>This has great depth of flavor with its fresh ...</td>\n",
       "      <td>Les Natures</td>\n",
       "      <td>87</td>\n",
       "      <td>27.0</td>\n",
       "      <td>Alsace</td>\n",
       "      <td>Alsace</td>\n",
       "      <td>NaN</td>\n",
       "      <td>Roger Voss</td>\n",
       "      <td>@vossroger</td>\n",
       "      <td>Jean-Baptiste Adam 2012 Les Natures Pinot Gris...</td>\n",
       "      <td>Pinot Gris</td>\n",
       "      <td>Jean-Baptiste Adam</td>\n",
       "    </tr>\n",
       "  </tbody>\n",
       "</table>\n",
       "</div>"
      ],
      "text/plain": [
       "   Unnamed: 0   country                                        description  \\\n",
       "0           0     Italy  Aromas include tropical fruit, broom, brimston...   \n",
       "1           1  Portugal  This is ripe and fruity, a wine that is smooth...   \n",
       "2           2        US  Tart and snappy, the flavors of lime flesh and...   \n",
       "3           3        US  Pineapple rind, lemon pith and orange blossom ...   \n",
       "4           4        US  Much like the regular bottling from 2012, this...   \n",
       "5           5     Spain  Blackberry and raspberry aromas show a typical...   \n",
       "6           6     Italy  Here's a bright, informal red that opens with ...   \n",
       "7           7    France  This dry and restrained wine offers spice in p...   \n",
       "8           8   Germany  Savory dried thyme notes accent sunnier flavor...   \n",
       "9           9    France  This has great depth of flavor with its fresh ...   \n",
       "\n",
       "                          designation  points  price           province  \\\n",
       "0                        Vulkà Bianco      87    NaN  Sicily & Sardinia   \n",
       "1                            Avidagos      87   15.0              Douro   \n",
       "2                                 NaN      87   14.0             Oregon   \n",
       "3                Reserve Late Harvest      87   13.0           Michigan   \n",
       "4  Vintner's Reserve Wild Child Block      87   65.0             Oregon   \n",
       "5                        Ars In Vitro      87   15.0     Northern Spain   \n",
       "6                             Belsito      87   16.0  Sicily & Sardinia   \n",
       "7                                 NaN      87   24.0             Alsace   \n",
       "8                               Shine      87   12.0        Rheinhessen   \n",
       "9                         Les Natures      87   27.0             Alsace   \n",
       "\n",
       "              region_1           region_2         taster_name  \\\n",
       "0                 Etna                NaN       Kerin O’Keefe   \n",
       "1                  NaN                NaN          Roger Voss   \n",
       "2    Willamette Valley  Willamette Valley        Paul Gregutt   \n",
       "3  Lake Michigan Shore                NaN  Alexander Peartree   \n",
       "4    Willamette Valley  Willamette Valley        Paul Gregutt   \n",
       "5              Navarra                NaN   Michael Schachner   \n",
       "6             Vittoria                NaN       Kerin O’Keefe   \n",
       "7               Alsace                NaN          Roger Voss   \n",
       "8                  NaN                NaN  Anna Lee C. Iijima   \n",
       "9               Alsace                NaN          Roger Voss   \n",
       "\n",
       "  taster_twitter_handle                                              title  \\\n",
       "0          @kerinokeefe                  Nicosia 2013 Vulkà Bianco  (Etna)   \n",
       "1            @vossroger      Quinta dos Avidagos 2011 Avidagos Red (Douro)   \n",
       "2           @paulgwine       Rainstorm 2013 Pinot Gris (Willamette Valley)   \n",
       "3                   NaN  St. Julian 2013 Reserve Late Harvest Riesling ...   \n",
       "4           @paulgwine   Sweet Cheeks 2012 Vintner's Reserve Wild Child...   \n",
       "5           @wineschach  Tandem 2011 Ars In Vitro Tempranillo-Merlot (N...   \n",
       "6          @kerinokeefe   Terre di Giurfo 2013 Belsito Frappato (Vittoria)   \n",
       "7            @vossroger              Trimbach 2012 Gewurztraminer (Alsace)   \n",
       "8                   NaN  Heinz Eifel 2013 Shine Gewürztraminer (Rheinhe...   \n",
       "9            @vossroger  Jean-Baptiste Adam 2012 Les Natures Pinot Gris...   \n",
       "\n",
       "              variety               winery  \n",
       "0         White Blend              Nicosia  \n",
       "1      Portuguese Red  Quinta dos Avidagos  \n",
       "2          Pinot Gris            Rainstorm  \n",
       "3            Riesling           St. Julian  \n",
       "4          Pinot Noir         Sweet Cheeks  \n",
       "5  Tempranillo-Merlot               Tandem  \n",
       "6            Frappato      Terre di Giurfo  \n",
       "7      Gewürztraminer             Trimbach  \n",
       "8      Gewürztraminer          Heinz Eifel  \n",
       "9          Pinot Gris   Jean-Baptiste Adam  "
      ]
     },
     "execution_count": 3,
     "metadata": {},
     "output_type": "execute_result"
    }
   ],
   "source": [
    "data.head(10)"
   ]
  },
  {
   "cell_type": "code",
   "execution_count": 4,
   "id": "0fefd4a6",
   "metadata": {},
   "outputs": [
    {
     "data": {
      "text/html": [
       "<div>\n",
       "<style scoped>\n",
       "    .dataframe tbody tr th:only-of-type {\n",
       "        vertical-align: middle;\n",
       "    }\n",
       "\n",
       "    .dataframe tbody tr th {\n",
       "        vertical-align: top;\n",
       "    }\n",
       "\n",
       "    .dataframe thead th {\n",
       "        text-align: right;\n",
       "    }\n",
       "</style>\n",
       "<table border=\"1\" class=\"dataframe\">\n",
       "  <thead>\n",
       "    <tr style=\"text-align: right;\">\n",
       "      <th></th>\n",
       "      <th>Unnamed: 0</th>\n",
       "      <th>country</th>\n",
       "      <th>description</th>\n",
       "      <th>designation</th>\n",
       "      <th>points</th>\n",
       "      <th>price</th>\n",
       "      <th>province</th>\n",
       "      <th>region_1</th>\n",
       "      <th>region_2</th>\n",
       "      <th>taster_name</th>\n",
       "      <th>taster_twitter_handle</th>\n",
       "      <th>title</th>\n",
       "      <th>variety</th>\n",
       "      <th>winery</th>\n",
       "    </tr>\n",
       "  </thead>\n",
       "  <tbody>\n",
       "    <tr>\n",
       "      <th>129966</th>\n",
       "      <td>129966</td>\n",
       "      <td>Germany</td>\n",
       "      <td>Notes of honeysuckle and cantaloupe sweeten th...</td>\n",
       "      <td>Brauneberger Juffer-Sonnenuhr Spätlese</td>\n",
       "      <td>90</td>\n",
       "      <td>28.0</td>\n",
       "      <td>Mosel</td>\n",
       "      <td>NaN</td>\n",
       "      <td>NaN</td>\n",
       "      <td>Anna Lee C. Iijima</td>\n",
       "      <td>NaN</td>\n",
       "      <td>Dr. H. Thanisch (Erben Müller-Burggraef) 2013 ...</td>\n",
       "      <td>Riesling</td>\n",
       "      <td>Dr. H. Thanisch (Erben Müller-Burggraef)</td>\n",
       "    </tr>\n",
       "    <tr>\n",
       "      <th>129967</th>\n",
       "      <td>129967</td>\n",
       "      <td>US</td>\n",
       "      <td>Citation is given as much as a decade of bottl...</td>\n",
       "      <td>NaN</td>\n",
       "      <td>90</td>\n",
       "      <td>75.0</td>\n",
       "      <td>Oregon</td>\n",
       "      <td>Oregon</td>\n",
       "      <td>Oregon Other</td>\n",
       "      <td>Paul Gregutt</td>\n",
       "      <td>@paulgwine</td>\n",
       "      <td>Citation 2004 Pinot Noir (Oregon)</td>\n",
       "      <td>Pinot Noir</td>\n",
       "      <td>Citation</td>\n",
       "    </tr>\n",
       "    <tr>\n",
       "      <th>129968</th>\n",
       "      <td>129968</td>\n",
       "      <td>France</td>\n",
       "      <td>Well-drained gravel soil gives this wine its c...</td>\n",
       "      <td>Kritt</td>\n",
       "      <td>90</td>\n",
       "      <td>30.0</td>\n",
       "      <td>Alsace</td>\n",
       "      <td>Alsace</td>\n",
       "      <td>NaN</td>\n",
       "      <td>Roger Voss</td>\n",
       "      <td>@vossroger</td>\n",
       "      <td>Domaine Gresser 2013 Kritt Gewurztraminer (Als...</td>\n",
       "      <td>Gewürztraminer</td>\n",
       "      <td>Domaine Gresser</td>\n",
       "    </tr>\n",
       "    <tr>\n",
       "      <th>129969</th>\n",
       "      <td>129969</td>\n",
       "      <td>France</td>\n",
       "      <td>A dry style of Pinot Gris, this is crisp with ...</td>\n",
       "      <td>NaN</td>\n",
       "      <td>90</td>\n",
       "      <td>32.0</td>\n",
       "      <td>Alsace</td>\n",
       "      <td>Alsace</td>\n",
       "      <td>NaN</td>\n",
       "      <td>Roger Voss</td>\n",
       "      <td>@vossroger</td>\n",
       "      <td>Domaine Marcel Deiss 2012 Pinot Gris (Alsace)</td>\n",
       "      <td>Pinot Gris</td>\n",
       "      <td>Domaine Marcel Deiss</td>\n",
       "    </tr>\n",
       "    <tr>\n",
       "      <th>129970</th>\n",
       "      <td>129970</td>\n",
       "      <td>France</td>\n",
       "      <td>Big, rich and off-dry, this is powered by inte...</td>\n",
       "      <td>Lieu-dit Harth Cuvée Caroline</td>\n",
       "      <td>90</td>\n",
       "      <td>21.0</td>\n",
       "      <td>Alsace</td>\n",
       "      <td>Alsace</td>\n",
       "      <td>NaN</td>\n",
       "      <td>Roger Voss</td>\n",
       "      <td>@vossroger</td>\n",
       "      <td>Domaine Schoffit 2012 Lieu-dit Harth Cuvée Car...</td>\n",
       "      <td>Gewürztraminer</td>\n",
       "      <td>Domaine Schoffit</td>\n",
       "    </tr>\n",
       "  </tbody>\n",
       "</table>\n",
       "</div>"
      ],
      "text/plain": [
       "        Unnamed: 0  country  \\\n",
       "129966      129966  Germany   \n",
       "129967      129967       US   \n",
       "129968      129968   France   \n",
       "129969      129969   France   \n",
       "129970      129970   France   \n",
       "\n",
       "                                              description  \\\n",
       "129966  Notes of honeysuckle and cantaloupe sweeten th...   \n",
       "129967  Citation is given as much as a decade of bottl...   \n",
       "129968  Well-drained gravel soil gives this wine its c...   \n",
       "129969  A dry style of Pinot Gris, this is crisp with ...   \n",
       "129970  Big, rich and off-dry, this is powered by inte...   \n",
       "\n",
       "                                   designation  points  price province  \\\n",
       "129966  Brauneberger Juffer-Sonnenuhr Spätlese      90   28.0    Mosel   \n",
       "129967                                     NaN      90   75.0   Oregon   \n",
       "129968                                   Kritt      90   30.0   Alsace   \n",
       "129969                                     NaN      90   32.0   Alsace   \n",
       "129970           Lieu-dit Harth Cuvée Caroline      90   21.0   Alsace   \n",
       "\n",
       "       region_1      region_2         taster_name taster_twitter_handle  \\\n",
       "129966      NaN           NaN  Anna Lee C. Iijima                   NaN   \n",
       "129967   Oregon  Oregon Other        Paul Gregutt           @paulgwine    \n",
       "129968   Alsace           NaN          Roger Voss            @vossroger   \n",
       "129969   Alsace           NaN          Roger Voss            @vossroger   \n",
       "129970   Alsace           NaN          Roger Voss            @vossroger   \n",
       "\n",
       "                                                    title         variety  \\\n",
       "129966  Dr. H. Thanisch (Erben Müller-Burggraef) 2013 ...        Riesling   \n",
       "129967                  Citation 2004 Pinot Noir (Oregon)      Pinot Noir   \n",
       "129968  Domaine Gresser 2013 Kritt Gewurztraminer (Als...  Gewürztraminer   \n",
       "129969      Domaine Marcel Deiss 2012 Pinot Gris (Alsace)      Pinot Gris   \n",
       "129970  Domaine Schoffit 2012 Lieu-dit Harth Cuvée Car...  Gewürztraminer   \n",
       "\n",
       "                                          winery  \n",
       "129966  Dr. H. Thanisch (Erben Müller-Burggraef)  \n",
       "129967                                  Citation  \n",
       "129968                           Domaine Gresser  \n",
       "129969                      Domaine Marcel Deiss  \n",
       "129970                          Domaine Schoffit  "
      ]
     },
     "execution_count": 4,
     "metadata": {},
     "output_type": "execute_result"
    }
   ],
   "source": [
    "data.tail(5)"
   ]
  },
  {
   "cell_type": "markdown",
   "id": "7adcb153",
   "metadata": {},
   "source": [
    "# Exploring the dataframe"
   ]
  },
  {
   "cell_type": "code",
   "execution_count": 5,
   "id": "7f8a1a44",
   "metadata": {},
   "outputs": [
    {
     "name": "stdout",
     "output_type": "stream",
     "text": [
      "<class 'pandas.core.frame.DataFrame'>\n",
      "RangeIndex: 129971 entries, 0 to 129970\n",
      "Data columns (total 14 columns):\n",
      " #   Column                 Non-Null Count   Dtype  \n",
      "---  ------                 --------------   -----  \n",
      " 0   Unnamed: 0             129971 non-null  int64  \n",
      " 1   country                129908 non-null  object \n",
      " 2   description            129971 non-null  object \n",
      " 3   designation            92506 non-null   object \n",
      " 4   points                 129971 non-null  int64  \n",
      " 5   price                  120975 non-null  float64\n",
      " 6   province               129908 non-null  object \n",
      " 7   region_1               108724 non-null  object \n",
      " 8   region_2               50511 non-null   object \n",
      " 9   taster_name            103727 non-null  object \n",
      " 10  taster_twitter_handle  98758 non-null   object \n",
      " 11  title                  129971 non-null  object \n",
      " 12  variety                129970 non-null  object \n",
      " 13  winery                 129971 non-null  object \n",
      "dtypes: float64(1), int64(2), object(11)\n",
      "memory usage: 13.9+ MB\n"
     ]
    }
   ],
   "source": [
    "data.info()"
   ]
  },
  {
   "cell_type": "code",
   "execution_count": 6,
   "id": "dc01fdcb",
   "metadata": {},
   "outputs": [
    {
     "data": {
      "text/plain": [
       "(129971, 14)"
      ]
     },
     "execution_count": 6,
     "metadata": {},
     "output_type": "execute_result"
    }
   ],
   "source": [
    "data.shape"
   ]
  },
  {
   "cell_type": "code",
   "execution_count": 7,
   "id": "a25c894c",
   "metadata": {},
   "outputs": [
    {
     "data": {
      "text/html": [
       "<div>\n",
       "<style scoped>\n",
       "    .dataframe tbody tr th:only-of-type {\n",
       "        vertical-align: middle;\n",
       "    }\n",
       "\n",
       "    .dataframe tbody tr th {\n",
       "        vertical-align: top;\n",
       "    }\n",
       "\n",
       "    .dataframe thead th {\n",
       "        text-align: right;\n",
       "    }\n",
       "</style>\n",
       "<table border=\"1\" class=\"dataframe\">\n",
       "  <thead>\n",
       "    <tr style=\"text-align: right;\">\n",
       "      <th></th>\n",
       "      <th>Unnamed: 0</th>\n",
       "      <th>points</th>\n",
       "      <th>price</th>\n",
       "    </tr>\n",
       "  </thead>\n",
       "  <tbody>\n",
       "    <tr>\n",
       "      <th>count</th>\n",
       "      <td>129971.000000</td>\n",
       "      <td>129971.000000</td>\n",
       "      <td>120975.000000</td>\n",
       "    </tr>\n",
       "    <tr>\n",
       "      <th>mean</th>\n",
       "      <td>64985.000000</td>\n",
       "      <td>88.447138</td>\n",
       "      <td>35.363389</td>\n",
       "    </tr>\n",
       "    <tr>\n",
       "      <th>std</th>\n",
       "      <td>37519.540256</td>\n",
       "      <td>3.039730</td>\n",
       "      <td>41.022218</td>\n",
       "    </tr>\n",
       "    <tr>\n",
       "      <th>min</th>\n",
       "      <td>0.000000</td>\n",
       "      <td>80.000000</td>\n",
       "      <td>4.000000</td>\n",
       "    </tr>\n",
       "    <tr>\n",
       "      <th>25%</th>\n",
       "      <td>32492.500000</td>\n",
       "      <td>86.000000</td>\n",
       "      <td>17.000000</td>\n",
       "    </tr>\n",
       "    <tr>\n",
       "      <th>50%</th>\n",
       "      <td>64985.000000</td>\n",
       "      <td>88.000000</td>\n",
       "      <td>25.000000</td>\n",
       "    </tr>\n",
       "    <tr>\n",
       "      <th>75%</th>\n",
       "      <td>97477.500000</td>\n",
       "      <td>91.000000</td>\n",
       "      <td>42.000000</td>\n",
       "    </tr>\n",
       "    <tr>\n",
       "      <th>max</th>\n",
       "      <td>129970.000000</td>\n",
       "      <td>100.000000</td>\n",
       "      <td>3300.000000</td>\n",
       "    </tr>\n",
       "  </tbody>\n",
       "</table>\n",
       "</div>"
      ],
      "text/plain": [
       "          Unnamed: 0         points          price\n",
       "count  129971.000000  129971.000000  120975.000000\n",
       "mean    64985.000000      88.447138      35.363389\n",
       "std     37519.540256       3.039730      41.022218\n",
       "min         0.000000      80.000000       4.000000\n",
       "25%     32492.500000      86.000000      17.000000\n",
       "50%     64985.000000      88.000000      25.000000\n",
       "75%     97477.500000      91.000000      42.000000\n",
       "max    129970.000000     100.000000    3300.000000"
      ]
     },
     "execution_count": 7,
     "metadata": {},
     "output_type": "execute_result"
    }
   ],
   "source": [
    "data.describe()"
   ]
  },
  {
   "cell_type": "code",
   "execution_count": 8,
   "id": "47533b1f",
   "metadata": {},
   "outputs": [
    {
     "data": {
      "text/plain": [
       "Index(['Unnamed: 0', 'country', 'description', 'designation', 'points',\n",
       "       'price', 'province', 'region_1', 'region_2', 'taster_name',\n",
       "       'taster_twitter_handle', 'title', 'variety', 'winery'],\n",
       "      dtype='object')"
      ]
     },
     "execution_count": 8,
     "metadata": {},
     "output_type": "execute_result"
    }
   ],
   "source": [
    "data.columns"
   ]
  },
  {
   "cell_type": "code",
   "execution_count": 9,
   "id": "d303b56f",
   "metadata": {},
   "outputs": [
    {
     "data": {
      "text/plain": [
       "Unnamed: 0                 int64\n",
       "country                   object\n",
       "description               object\n",
       "designation               object\n",
       "points                     int64\n",
       "price                    float64\n",
       "province                  object\n",
       "region_1                  object\n",
       "region_2                  object\n",
       "taster_name               object\n",
       "taster_twitter_handle     object\n",
       "title                     object\n",
       "variety                   object\n",
       "winery                    object\n",
       "dtype: object"
      ]
     },
     "execution_count": 9,
     "metadata": {},
     "output_type": "execute_result"
    }
   ],
   "source": [
    "data.dtypes"
   ]
  },
  {
   "cell_type": "markdown",
   "id": "82b9b964",
   "metadata": {},
   "source": [
    "# Cleaning the data"
   ]
  },
  {
   "cell_type": "code",
   "execution_count": 10,
   "id": "5367802b",
   "metadata": {},
   "outputs": [
    {
     "data": {
      "text/plain": [
       "0"
      ]
     },
     "execution_count": 10,
     "metadata": {},
     "output_type": "execute_result"
    }
   ],
   "source": [
    "data.duplicated().sum()"
   ]
  },
  {
   "cell_type": "code",
   "execution_count": 11,
   "id": "de8a792e",
   "metadata": {},
   "outputs": [
    {
     "data": {
      "text/plain": [
       "False"
      ]
     },
     "execution_count": 11,
     "metadata": {},
     "output_type": "execute_result"
    }
   ],
   "source": [
    "data.duplicated().any()"
   ]
  },
  {
   "cell_type": "code",
   "execution_count": 12,
   "id": "912450d9",
   "metadata": {},
   "outputs": [
    {
     "data": {
      "text/plain": [
       "Unnamed: 0                   0\n",
       "country                     63\n",
       "description                  0\n",
       "designation              37465\n",
       "points                       0\n",
       "price                     8996\n",
       "province                    63\n",
       "region_1                 21247\n",
       "region_2                 79460\n",
       "taster_name              26244\n",
       "taster_twitter_handle    31213\n",
       "title                        0\n",
       "variety                      1\n",
       "winery                       0\n",
       "dtype: int64"
      ]
     },
     "execution_count": 12,
     "metadata": {},
     "output_type": "execute_result"
    }
   ],
   "source": [
    "data.isnull().sum()"
   ]
  },
  {
   "cell_type": "code",
   "execution_count": 13,
   "id": "fd5c23d3",
   "metadata": {},
   "outputs": [],
   "source": [
    "# cleaning the feature \n",
    "data['title']=data['title'].apply(lambda x: x.split('(')[-1])"
   ]
  },
  {
   "cell_type": "code",
   "execution_count": 14,
   "id": "cf3cc6a3",
   "metadata": {},
   "outputs": [],
   "source": [
    "data['title']=data['title'].apply(lambda x: x.split(')')[0])"
   ]
  },
  {
   "cell_type": "code",
   "execution_count": 15,
   "id": "bd3bba5f",
   "metadata": {},
   "outputs": [
    {
     "data": {
      "text/plain": [
       "0                   Etna\n",
       "1                  Douro\n",
       "2      Willamette Valley\n",
       "3    Lake Michigan Shore\n",
       "4      Willamette Valley\n",
       "Name: title, dtype: object"
      ]
     },
     "execution_count": 15,
     "metadata": {},
     "output_type": "execute_result"
    }
   ],
   "source": [
    "data['title'].head()"
   ]
  },
  {
   "cell_type": "code",
   "execution_count": 16,
   "id": "4b53a356",
   "metadata": {},
   "outputs": [
    {
     "data": {
      "text/plain": [
       "array(['Etna', 'Douro', 'Willamette Valley', ..., 'Psagot 2014 Merlot',\n",
       "       'Col Vetoraz Spumanti NV  Prosecco Superiore di Cartizze',\n",
       "       'Henri de Villamont 2005  Grands-Echezeaux'], dtype=object)"
      ]
     },
     "execution_count": 16,
     "metadata": {},
     "output_type": "execute_result"
    }
   ],
   "source": [
    "data['title'].unique()"
   ]
  },
  {
   "cell_type": "code",
   "execution_count": 17,
   "id": "9d322854",
   "metadata": {},
   "outputs": [
    {
     "data": {
      "text/plain": [
       "WA                                                        5276\n",
       "Napa Valley                                               4480\n",
       "Russian River Valley                                      3091\n",
       "California                                                2629\n",
       "Paso Robles                                               2350\n",
       "                                                          ... \n",
       "Château Latour-Laguens 2012  Bordeaux Blanc                  1\n",
       "Château la France 2012  Bordeaux Blanc                       1\n",
       "Elizabeth Chambers 2012 Lazy River Vineyard Pinot Noir       1\n",
       "Louis Latour 2006  Chassagne-Montrachet                      1\n",
       "Henri de Villamont 2005  Grands-Echezeaux                    1\n",
       "Name: title, Length: 11018, dtype: int64"
      ]
     },
     "execution_count": 17,
     "metadata": {},
     "output_type": "execute_result"
    }
   ],
   "source": [
    "data['title'].value_counts()"
   ]
  },
  {
   "cell_type": "markdown",
   "id": "364e7b8d",
   "metadata": {},
   "source": [
    "# Droping the Columns"
   ]
  },
  {
   "cell_type": "code",
   "execution_count": 18,
   "id": "653d0d37",
   "metadata": {},
   "outputs": [],
   "source": [
    "# droping columns for general requriment and these columns won't be that much useful for our analysis.\n",
    "data.drop(['Unnamed: 0','region_1','designation',\n",
    "           'taster_name','taster_twitter_handle'],axis=1, inplace=True)"
   ]
  },
  {
   "cell_type": "code",
   "execution_count": 19,
   "id": "c412c9a6",
   "metadata": {},
   "outputs": [],
   "source": [
    "# droping columns for 60% of null value \n",
    "data.drop(['region_2'],axis=1,inplace=True)"
   ]
  },
  {
   "cell_type": "code",
   "execution_count": 20,
   "id": "882a94dc",
   "metadata": {},
   "outputs": [
    {
     "name": "stdout",
     "output_type": "stream",
     "text": [
      "<class 'pandas.core.frame.DataFrame'>\n",
      "RangeIndex: 129971 entries, 0 to 129970\n",
      "Data columns (total 8 columns):\n",
      " #   Column       Non-Null Count   Dtype  \n",
      "---  ------       --------------   -----  \n",
      " 0   country      129908 non-null  object \n",
      " 1   description  129971 non-null  object \n",
      " 2   points       129971 non-null  int64  \n",
      " 3   price        120975 non-null  float64\n",
      " 4   province     129908 non-null  object \n",
      " 5   title        129971 non-null  object \n",
      " 6   variety      129970 non-null  object \n",
      " 7   winery       129971 non-null  object \n",
      "dtypes: float64(1), int64(1), object(6)\n",
      "memory usage: 7.9+ MB\n"
     ]
    }
   ],
   "source": [
    "data.info()"
   ]
  },
  {
   "cell_type": "code",
   "execution_count": 21,
   "id": "3d91c204",
   "metadata": {},
   "outputs": [
    {
     "data": {
      "text/plain": [
       "country          63\n",
       "description       0\n",
       "points            0\n",
       "price          8996\n",
       "province         63\n",
       "title             0\n",
       "variety           1\n",
       "winery            0\n",
       "dtype: int64"
      ]
     },
     "execution_count": 21,
     "metadata": {},
     "output_type": "execute_result"
    }
   ],
   "source": [
    "data.isnull().sum()"
   ]
  },
  {
   "cell_type": "code",
   "execution_count": 22,
   "id": "0fff808f",
   "metadata": {},
   "outputs": [
    {
     "data": {
      "text/plain": [
       "(129971, 8)"
      ]
     },
     "execution_count": 22,
     "metadata": {},
     "output_type": "execute_result"
    }
   ],
   "source": [
    "data.shape"
   ]
  },
  {
   "cell_type": "markdown",
   "id": "0849a518",
   "metadata": {},
   "source": [
    "# Feature Engineering"
   ]
  },
  {
   "cell_type": "markdown",
   "id": "58b9d096",
   "metadata": {},
   "source": [
    "##   Imputation"
   ]
  },
  {
   "cell_type": "code",
   "execution_count": 23,
   "id": "2e8be508",
   "metadata": {},
   "outputs": [
    {
     "name": "stderr",
     "output_type": "stream",
     "text": [
      "F:\\sofia\\lib\\site-packages\\seaborn\\_decorators.py:36: FutureWarning: Pass the following variable as a keyword arg: x. From version 0.12, the only valid positional argument will be `data`, and passing other arguments without an explicit keyword will result in an error or misinterpretation.\n",
      "  warnings.warn(\n"
     ]
    },
    {
     "data": {
      "image/png": "[encoded data removed]",
      "text/plain": [
       "<Figure size 432x288 with 1 Axes>"
      ]
     },
     "metadata": {
      "needs_background": "light"
     },
     "output_type": "display_data"
    }
   ],
   "source": [
    "# checking outliers in price to decide for mean or median to fill our missing values \n",
    "sns.boxplot(data['price'])\n",
    "plt.show()"
   ]
  },
  {
   "cell_type": "code",
   "execution_count": 24,
   "id": "1a942a59",
   "metadata": {},
   "outputs": [],
   "source": [
    "data['price'].fillna(data['price'].median(), inplace = True)"
   ]
  },
  {
   "cell_type": "code",
   "execution_count": 25,
   "id": "05b50607",
   "metadata": {},
   "outputs": [
    {
     "data": {
      "text/plain": [
       "'California'"
      ]
     },
     "execution_count": 25,
     "metadata": {},
     "output_type": "execute_result"
    }
   ],
   "source": [
    "data['province'].mode()[0]"
   ]
  },
  {
   "cell_type": "code",
   "execution_count": 26,
   "id": "163e283e",
   "metadata": {},
   "outputs": [],
   "source": [
    "data['province']=data['province'].fillna(data['province'].mode()[0])"
   ]
  },
  {
   "cell_type": "code",
   "execution_count": 27,
   "id": "2f4affd1",
   "metadata": {},
   "outputs": [
    {
     "data": {
      "text/plain": [
       "'Pinot Noir'"
      ]
     },
     "execution_count": 27,
     "metadata": {},
     "output_type": "execute_result"
    }
   ],
   "source": [
    "data['variety'].mode()[0]"
   ]
  },
  {
   "cell_type": "code",
   "execution_count": 28,
   "id": "417a8971",
   "metadata": {},
   "outputs": [],
   "source": [
    "data['variety']=data['variety'].fillna(data['variety'].mode()[0])"
   ]
  },
  {
   "cell_type": "code",
   "execution_count": 29,
   "id": "6ed30ab1",
   "metadata": {},
   "outputs": [
    {
     "data": {
      "text/plain": [
       "country        63\n",
       "description     0\n",
       "points          0\n",
       "price           0\n",
       "province        0\n",
       "title           0\n",
       "variety         0\n",
       "winery          0\n",
       "dtype: int64"
      ]
     },
     "execution_count": 29,
     "metadata": {},
     "output_type": "execute_result"
    }
   ],
   "source": [
    "data.isnull().sum()"
   ]
  },
  {
   "cell_type": "code",
   "execution_count": 30,
   "id": "346b4837",
   "metadata": {},
   "outputs": [
    {
     "data": {
      "text/plain": [
       "US                        54504\n",
       "France                    22093\n",
       "Italy                     19540\n",
       "Spain                      6645\n",
       "Portugal                   5691\n",
       "Chile                      4472\n",
       "Argentina                  3800\n",
       "Austria                    3345\n",
       "Australia                  2329\n",
       "Germany                    2165\n",
       "New Zealand                1419\n",
       "South Africa               1401\n",
       "Israel                      505\n",
       "Greece                      466\n",
       "Canada                      257\n",
       "Hungary                     146\n",
       "Bulgaria                    141\n",
       "Romania                     120\n",
       "Uruguay                     109\n",
       "Turkey                       90\n",
       "Slovenia                     87\n",
       "Georgia                      86\n",
       "England                      74\n",
       "Croatia                      73\n",
       "Mexico                       70\n",
       "Moldova                      59\n",
       "Brazil                       52\n",
       "Lebanon                      35\n",
       "Morocco                      28\n",
       "Peru                         16\n",
       "Ukraine                      14\n",
       "Serbia                       12\n",
       "Czech Republic               12\n",
       "Macedonia                    12\n",
       "Cyprus                       11\n",
       "India                         9\n",
       "Switzerland                   7\n",
       "Luxembourg                    6\n",
       "Bosnia and Herzegovina        2\n",
       "Armenia                       2\n",
       "Slovakia                      1\n",
       "China                         1\n",
       "Egypt                         1\n",
       "Name: country, dtype: int64"
      ]
     },
     "execution_count": 30,
     "metadata": {},
     "output_type": "execute_result"
    }
   ],
   "source": [
    "data['country'].value_counts()"
   ]
  },
  {
   "cell_type": "code",
   "execution_count": 31,
   "id": "77706689",
   "metadata": {},
   "outputs": [
    {
     "data": {
      "text/plain": [
       "'US'"
      ]
     },
     "execution_count": 31,
     "metadata": {},
     "output_type": "execute_result"
    }
   ],
   "source": [
    "data['country'].mode()[0]"
   ]
  },
  {
   "cell_type": "code",
   "execution_count": 32,
   "id": "4762f82a",
   "metadata": {},
   "outputs": [],
   "source": [
    "data['country']=data['country'].fillna(data['country'].mode()[0])"
   ]
  },
  {
   "cell_type": "code",
   "execution_count": 33,
   "id": "c1e620a3",
   "metadata": {},
   "outputs": [
    {
     "data": {
      "text/plain": [
       "country        0\n",
       "description    0\n",
       "points         0\n",
       "price          0\n",
       "province       0\n",
       "title          0\n",
       "variety        0\n",
       "winery         0\n",
       "dtype: int64"
      ]
     },
     "execution_count": 33,
     "metadata": {},
     "output_type": "execute_result"
    }
   ],
   "source": [
    "data.isnull().sum()"
   ]
  },
  {
   "cell_type": "markdown",
   "id": "4fafdaaa",
   "metadata": {},
   "source": [
    "# Handling outliers"
   ]
  },
  {
   "cell_type": "code",
   "execution_count": 34,
   "id": "75e225eb",
   "metadata": {},
   "outputs": [
    {
     "data": {
      "text/html": [
       "<div>\n",
       "<style scoped>\n",
       "    .dataframe tbody tr th:only-of-type {\n",
       "        vertical-align: middle;\n",
       "    }\n",
       "\n",
       "    .dataframe tbody tr th {\n",
       "        vertical-align: top;\n",
       "    }\n",
       "\n",
       "    .dataframe thead th {\n",
       "        text-align: right;\n",
       "    }\n",
       "</style>\n",
       "<table border=\"1\" class=\"dataframe\">\n",
       "  <thead>\n",
       "    <tr style=\"text-align: right;\">\n",
       "      <th></th>\n",
       "      <th>points</th>\n",
       "      <th>price</th>\n",
       "    </tr>\n",
       "  </thead>\n",
       "  <tbody>\n",
       "    <tr>\n",
       "      <th>0</th>\n",
       "      <td>87</td>\n",
       "      <td>25.0</td>\n",
       "    </tr>\n",
       "    <tr>\n",
       "      <th>1</th>\n",
       "      <td>87</td>\n",
       "      <td>15.0</td>\n",
       "    </tr>\n",
       "  </tbody>\n",
       "</table>\n",
       "</div>"
      ],
      "text/plain": [
       "   points  price\n",
       "0      87   25.0\n",
       "1      87   15.0"
      ]
     },
     "execution_count": 34,
     "metadata": {},
     "output_type": "execute_result"
    }
   ],
   "source": [
    "# distribution of numerical data\n",
    "data_num = data.select_dtypes(include = np.number)\n",
    "data_num.head(2)"
   ]
  },
  {
   "cell_type": "code",
   "execution_count": 35,
   "id": "ae5aa4bf",
   "metadata": {},
   "outputs": [
    {
     "name": "stderr",
     "output_type": "stream",
     "text": [
      "F:\\sofia\\lib\\site-packages\\seaborn\\_decorators.py:36: FutureWarning: Pass the following variable as a keyword arg: x. From version 0.12, the only valid positional argument will be `data`, and passing other arguments without an explicit keyword will result in an error or misinterpretation.\n",
      "  warnings.warn(\n"
     ]
    },
    {
     "data": {
      "image/png": "[encoded data removed]",
      "text/plain": [
       "<Figure size 720x432 with 1 Axes>"
      ]
     },
     "metadata": {
      "needs_background": "light"
     },
     "output_type": "display_data"
    },
    {
     "name": "stderr",
     "output_type": "stream",
     "text": [
      "F:\\sofia\\lib\\site-packages\\seaborn\\_decorators.py:36: FutureWarning: Pass the following variable as a keyword arg: x. From version 0.12, the only valid positional argument will be `data`, and passing other arguments without an explicit keyword will result in an error or misinterpretation.\n",
      "  warnings.warn(\n"
     ]
    },
    {
     "data": {
      "image/png": "[encoded data removed]",
      "text/plain": [
       "<Figure size 432x288 with 1 Axes>"
      ]
     },
     "metadata": {
      "needs_background": "light"
     },
     "output_type": "display_data"
    }
   ],
   "source": [
    "# there is only two numerical feature in the data set let check the outliers by boxplot\n",
    "# before outliers\n",
    "\n",
    "plt.figure(figsize = (10, 6))\n",
    "\n",
    "for i in data_num.columns:\n",
    "    sns.boxplot(data[i])\n",
    "    plt.show()"
   ]
  },
  {
   "cell_type": "code",
   "execution_count": 36,
   "id": "95c0f48f",
   "metadata": {},
   "outputs": [],
   "source": [
    "# Outlier Treatment for points\n",
    "\n",
    "Q1 = data.points.quantile(0.25)\n",
    "Q3 = data.points.quantile(0.75)\n",
    "\n",
    "IQR = Q3 - Q1\n",
    "data = data[(data.points >= Q1 - 1.5*IQR) & (data.points <= Q3 + 1.5*IQR)]"
   ]
  },
  {
   "cell_type": "code",
   "execution_count": 37,
   "id": "582a766a",
   "metadata": {},
   "outputs": [],
   "source": [
    "# Outlier Treatment for price \n",
    "\n",
    "Q1 = data.price.quantile(0.25)\n",
    "Q3 = data.price.quantile(0.75)\n",
    "\n",
    "IQR = Q3 - Q1\n",
    "data = data[(data.price >= Q1 - 1.5*IQR) & (data.price <= Q3 + 1.5*IQR)]"
   ]
  },
  {
   "cell_type": "code",
   "execution_count": 38,
   "id": "f6ebb398",
   "metadata": {},
   "outputs": [
    {
     "name": "stderr",
     "output_type": "stream",
     "text": [
      "F:\\sofia\\lib\\site-packages\\seaborn\\_decorators.py:36: FutureWarning: Pass the following variable as a keyword arg: x. From version 0.12, the only valid positional argument will be `data`, and passing other arguments without an explicit keyword will result in an error or misinterpretation.\n",
      "  warnings.warn(\n"
     ]
    },
    {
     "data": {
      "image/png": "[encoded data removed]",
      "text/plain": [
       "<Figure size 720x432 with 1 Axes>"
      ]
     },
     "metadata": {
      "needs_background": "light"
     },
     "output_type": "display_data"
    },
    {
     "name": "stderr",
     "output_type": "stream",
     "text": [
      "F:\\sofia\\lib\\site-packages\\seaborn\\_decorators.py:36: FutureWarning: Pass the following variable as a keyword arg: x. From version 0.12, the only valid positional argument will be `data`, and passing other arguments without an explicit keyword will result in an error or misinterpretation.\n",
      "  warnings.warn(\n"
     ]
    },
    {
     "data": {
      "image/png": "[encoded data removed]",
      "text/plain": [
       "<Figure size 432x288 with 1 Axes>"
      ]
     },
     "metadata": {
      "needs_background": "light"
     },
     "output_type": "display_data"
    }
   ],
   "source": [
    "#after outlier\n",
    "plt.figure(figsize = (10, 6))\n",
    "\n",
    "for i in data_num.columns:\n",
    "    sns.boxplot(data[i])\n",
    "    plt.show()"
   ]
  },
  {
   "cell_type": "code",
   "execution_count": 39,
   "id": "87ad0aa5",
   "metadata": {},
   "outputs": [
    {
     "data": {
      "text/plain": [
       "(120912, 8)"
      ]
     },
     "execution_count": 39,
     "metadata": {},
     "output_type": "execute_result"
    }
   ],
   "source": [
    "# after handling missing value and outliers our data shape \n",
    "data.shape"
   ]
  },
  {
   "cell_type": "markdown",
   "id": "20c2ebe1",
   "metadata": {},
   "source": [
    "# Explortory Data Analysis"
   ]
  },
  {
   "cell_type": "code",
   "execution_count": 40,
   "id": "5a2d0eab",
   "metadata": {},
   "outputs": [
    {
     "data": {
      "text/plain": [
       "Index(['country', 'description', 'points', 'price', 'province', 'title',\n",
       "       'variety', 'winery'],\n",
       "      dtype='object')"
      ]
     },
     "execution_count": 40,
     "metadata": {},
     "output_type": "execute_result"
    }
   ],
   "source": [
    "data.columns"
   ]
  },
  {
   "cell_type": "code",
   "execution_count": 41,
   "id": "5815ec64",
   "metadata": {},
   "outputs": [
    {
     "data": {
      "text/plain": [
       "<AxesSubplot:xlabel='points', ylabel='price'>"
      ]
     },
     "execution_count": 41,
     "metadata": {},
     "output_type": "execute_result"
    },
    {
     "data": {
      "image/png": "[encoded data removed]",
      "text/plain": [
       "<Figure size 432x288 with 1 Axes>"
      ]
     },
     "metadata": {
      "needs_background": "light"
     },
     "output_type": "display_data"
    }
   ],
   "source": [
    "sns.barplot(x = 'points', y = 'price', data = data)"
   ]
  },
  {
   "cell_type": "code",
   "execution_count": 42,
   "id": "3d214648",
   "metadata": {},
   "outputs": [
    {
     "name": "stdout",
     "output_type": "stream",
     "text": [
      "number of country list in data 43\n"
     ]
    },
    {
     "data": {
      "text/plain": [
       "Text(0.5, 1.0, 'distribution of wine reviews by top 20 countries')"
      ]
     },
     "execution_count": 42,
     "metadata": {},
     "output_type": "execute_result"
    },
    {
     "data": {
      "image/png": "[encoded data removed]",
      "text/plain": [
       "<Figure size 1008x864 with 1 Axes>"
      ]
     },
     "metadata": {
      "needs_background": "light"
     },
     "output_type": "display_data"
    }
   ],
   "source": [
    "print('number of country list in data',data['country'].nunique())\n",
    "plt.figure(figsize=(14,12))\n",
    "cnt=data['country'].value_counts().to_frame()[0:20]\n",
    "sns.barplot(x=cnt['country'], y=cnt.index, data=cnt, palette='ocean',orient='h')\n",
    "plt.title('distribution of wine reviews by top 20 countries')"
   ]
  },
  {
   "cell_type": "markdown",
   "id": "89d2c63e",
   "metadata": {},
   "source": [
    "The US is the largest producer of wines.It has 54504 types of wines.It is about 41% of the entire dataset."
   ]
  },
  {
   "cell_type": "code",
   "execution_count": 43,
   "id": "d49286cd",
   "metadata": {},
   "outputs": [
    {
     "data": {
      "text/html": [
       "<div>\n",
       "<style scoped>\n",
       "    .dataframe tbody tr th:only-of-type {\n",
       "        vertical-align: middle;\n",
       "    }\n",
       "\n",
       "    .dataframe tbody tr th {\n",
       "        vertical-align: top;\n",
       "    }\n",
       "\n",
       "    .dataframe thead th {\n",
       "        text-align: right;\n",
       "    }\n",
       "</style>\n",
       "<table border=\"1\" class=\"dataframe\">\n",
       "  <thead>\n",
       "    <tr style=\"text-align: right;\">\n",
       "      <th></th>\n",
       "      <th>price</th>\n",
       "    </tr>\n",
       "    <tr>\n",
       "      <th>country</th>\n",
       "      <th></th>\n",
       "    </tr>\n",
       "  </thead>\n",
       "  <tbody>\n",
       "    <tr>\n",
       "      <th>England</th>\n",
       "      <td>45.140625</td>\n",
       "    </tr>\n",
       "    <tr>\n",
       "      <th>US</th>\n",
       "      <td>31.680865</td>\n",
       "    </tr>\n",
       "    <tr>\n",
       "      <th>Canada</th>\n",
       "      <td>31.563025</td>\n",
       "    </tr>\n",
       "    <tr>\n",
       "      <th>Italy</th>\n",
       "      <td>29.470968</td>\n",
       "    </tr>\n",
       "    <tr>\n",
       "      <th>Israel</th>\n",
       "      <td>29.259794</td>\n",
       "    </tr>\n",
       "    <tr>\n",
       "      <th>Switzerland</th>\n",
       "      <td>29.250000</td>\n",
       "    </tr>\n",
       "    <tr>\n",
       "      <th>Germany</th>\n",
       "      <td>28.697615</td>\n",
       "    </tr>\n",
       "    <tr>\n",
       "      <th>Austria</th>\n",
       "      <td>27.583282</td>\n",
       "    </tr>\n",
       "    <tr>\n",
       "      <th>Hungary</th>\n",
       "      <td>27.496183</td>\n",
       "    </tr>\n",
       "    <tr>\n",
       "      <th>France</th>\n",
       "      <td>26.609781</td>\n",
       "    </tr>\n",
       "    <tr>\n",
       "      <th>Lebanon</th>\n",
       "      <td>26.531250</td>\n",
       "    </tr>\n",
       "    <tr>\n",
       "      <th>Croatia</th>\n",
       "      <td>25.438356</td>\n",
       "    </tr>\n",
       "    <tr>\n",
       "      <th>Australia</th>\n",
       "      <td>25.350852</td>\n",
       "    </tr>\n",
       "    <tr>\n",
       "      <th>Egypt</th>\n",
       "      <td>25.000000</td>\n",
       "    </tr>\n",
       "    <tr>\n",
       "      <th>New Zealand</th>\n",
       "      <td>24.626277</td>\n",
       "    </tr>\n",
       "    <tr>\n",
       "      <th>Uruguay</th>\n",
       "      <td>24.560748</td>\n",
       "    </tr>\n",
       "    <tr>\n",
       "      <th>Mexico</th>\n",
       "      <td>24.514706</td>\n",
       "    </tr>\n",
       "    <tr>\n",
       "      <th>Serbia</th>\n",
       "      <td>24.500000</td>\n",
       "    </tr>\n",
       "    <tr>\n",
       "      <th>Czech Republic</th>\n",
       "      <td>24.250000</td>\n",
       "    </tr>\n",
       "    <tr>\n",
       "      <th>Slovenia</th>\n",
       "      <td>24.069767</td>\n",
       "    </tr>\n",
       "    <tr>\n",
       "      <th>Brazil</th>\n",
       "      <td>23.884615</td>\n",
       "    </tr>\n",
       "    <tr>\n",
       "      <th>Turkey</th>\n",
       "      <td>23.561798</td>\n",
       "    </tr>\n",
       "    <tr>\n",
       "      <th>Luxembourg</th>\n",
       "      <td>23.333333</td>\n",
       "    </tr>\n",
       "    <tr>\n",
       "      <th>South Africa</th>\n",
       "      <td>22.194853</td>\n",
       "    </tr>\n",
       "    <tr>\n",
       "      <th>Greece</th>\n",
       "      <td>22.148707</td>\n",
       "    </tr>\n",
       "    <tr>\n",
       "      <th>Spain</th>\n",
       "      <td>21.875559</td>\n",
       "    </tr>\n",
       "    <tr>\n",
       "      <th>Portugal</th>\n",
       "      <td>21.536020</td>\n",
       "    </tr>\n",
       "    <tr>\n",
       "      <th>Argentina</th>\n",
       "      <td>20.303315</td>\n",
       "    </tr>\n",
       "    <tr>\n",
       "      <th>Morocco</th>\n",
       "      <td>19.500000</td>\n",
       "    </tr>\n",
       "    <tr>\n",
       "      <th>Georgia</th>\n",
       "      <td>19.453488</td>\n",
       "    </tr>\n",
       "    <tr>\n",
       "      <th>Peru</th>\n",
       "      <td>18.062500</td>\n",
       "    </tr>\n",
       "    <tr>\n",
       "      <th>China</th>\n",
       "      <td>18.000000</td>\n",
       "    </tr>\n",
       "    <tr>\n",
       "      <th>Chile</th>\n",
       "      <td>17.953370</td>\n",
       "    </tr>\n",
       "    <tr>\n",
       "      <th>Moldova</th>\n",
       "      <td>16.745763</td>\n",
       "    </tr>\n",
       "    <tr>\n",
       "      <th>Cyprus</th>\n",
       "      <td>16.272727</td>\n",
       "    </tr>\n",
       "    <tr>\n",
       "      <th>Slovakia</th>\n",
       "      <td>16.000000</td>\n",
       "    </tr>\n",
       "    <tr>\n",
       "      <th>Macedonia</th>\n",
       "      <td>15.583333</td>\n",
       "    </tr>\n",
       "    <tr>\n",
       "      <th>Armenia</th>\n",
       "      <td>14.500000</td>\n",
       "    </tr>\n",
       "    <tr>\n",
       "      <th>Bulgaria</th>\n",
       "      <td>14.035714</td>\n",
       "    </tr>\n",
       "    <tr>\n",
       "      <th>India</th>\n",
       "      <td>13.333333</td>\n",
       "    </tr>\n",
       "    <tr>\n",
       "      <th>Bosnia and Herzegovina</th>\n",
       "      <td>12.500000</td>\n",
       "    </tr>\n",
       "    <tr>\n",
       "      <th>Romania</th>\n",
       "      <td>11.940678</td>\n",
       "    </tr>\n",
       "    <tr>\n",
       "      <th>Ukraine</th>\n",
       "      <td>9.214286</td>\n",
       "    </tr>\n",
       "  </tbody>\n",
       "</table>\n",
       "</div>"
      ],
      "text/plain": [
       "                            price\n",
       "country                          \n",
       "England                 45.140625\n",
       "US                      31.680865\n",
       "Canada                  31.563025\n",
       "Italy                   29.470968\n",
       "Israel                  29.259794\n",
       "Switzerland             29.250000\n",
       "Germany                 28.697615\n",
       "Austria                 27.583282\n",
       "Hungary                 27.496183\n",
       "France                  26.609781\n",
       "Lebanon                 26.531250\n",
       "Croatia                 25.438356\n",
       "Australia               25.350852\n",
       "Egypt                   25.000000\n",
       "New Zealand             24.626277\n",
       "Uruguay                 24.560748\n",
       "Mexico                  24.514706\n",
       "Serbia                  24.500000\n",
       "Czech Republic          24.250000\n",
       "Slovenia                24.069767\n",
       "Brazil                  23.884615\n",
       "Turkey                  23.561798\n",
       "Luxembourg              23.333333\n",
       "South Africa            22.194853\n",
       "Greece                  22.148707\n",
       "Spain                   21.875559\n",
       "Portugal                21.536020\n",
       "Argentina               20.303315\n",
       "Morocco                 19.500000\n",
       "Georgia                 19.453488\n",
       "Peru                    18.062500\n",
       "China                   18.000000\n",
       "Chile                   17.953370\n",
       "Moldova                 16.745763\n",
       "Cyprus                  16.272727\n",
       "Slovakia                16.000000\n",
       "Macedonia               15.583333\n",
       "Armenia                 14.500000\n",
       "Bulgaria                14.035714\n",
       "India                   13.333333\n",
       "Bosnia and Herzegovina  12.500000\n",
       "Romania                 11.940678\n",
       "Ukraine                  9.214286"
      ]
     },
     "execution_count": 43,
     "metadata": {},
     "output_type": "execute_result"
    }
   ],
   "source": [
    "data.pivot_table(values='price',index='country').sort_values('price',ascending=False)\n"
   ]
  },
  {
   "cell_type": "markdown",
   "id": "4a18661b",
   "metadata": {},
   "source": [
    "So,typically in England wines are much costly while in Ukraine we can find the most cheaper wines available."
   ]
  },
  {
   "cell_type": "code",
   "execution_count": 44,
   "id": "0c976186",
   "metadata": {},
   "outputs": [
    {
     "name": "stdout",
     "output_type": "stream",
     "text": [
      "number of Province 424\n"
     ]
    },
    {
     "data": {
      "image/png": "[encoded data removed]",
      "text/plain": [
       "<Figure size 1152x720 with 2 Axes>"
      ]
     },
     "metadata": {
      "needs_background": "light"
     },
     "output_type": "display_data"
    }
   ],
   "source": [
    "print('number of Province',data['province'].nunique())\n",
    "f,ax=plt.subplots(1,2,figsize=(16,10))\n",
    "ax1,ax2=ax.flatten()\n",
    "cnt=data.groupby(['province'])['points'].mean().sort_values(ascending=False).to_frame()[:15]\n",
    "sns.barplot(x=cnt['points'], y=cnt.index, data=cnt, palette='RdBu', ax=ax1)\n",
    "ax1.set_title('Most reviewed province')\n",
    "ax1.set_ylabel('')\n",
    "ax1.set_xlabel(' ')\n",
    "\n",
    "cnt=data.groupby(['province'])['price'].mean().sort_values(ascending=False).to_frame()[:15]\n",
    "sns.barplot(x=cnt['price'], y=cnt.index, data=cnt,palette='hot', ax=ax2)\n",
    "ax2.set_title('most Expensive wines')\n",
    "ax2.set_xlabel(' ')\n",
    "\n",
    "plt.subplots_adjust(wspace=0.5)"
   ]
  },
  {
   "cell_type": "code",
   "execution_count": 47,
   "id": "b14f0b8c",
   "metadata": {},
   "outputs": [
    {
     "name": "stderr",
     "output_type": "stream",
     "text": [
      "F:\\sofia\\lib\\site-packages\\seaborn\\distributions.py:2619: FutureWarning: `distplot` is a deprecated function and will be removed in a future version. Please adapt your code to use either `displot` (a figure-level function with similar flexibility) or `histplot` (an axes-level function for histograms).\n",
      "  warnings.warn(msg, FutureWarning)\n"
     ]
    },
    {
     "data": {
      "image/png": "[encoded data removed]",
      "text/plain": [
       "<Figure size 720x432 with 1 Axes>"
      ]
     },
     "metadata": {
      "needs_background": "light"
     },
     "output_type": "display_data"
    },
    {
     "name": "stderr",
     "output_type": "stream",
     "text": [
      "F:\\sofia\\lib\\site-packages\\seaborn\\distributions.py:2619: FutureWarning: `distplot` is a deprecated function and will be removed in a future version. Please adapt your code to use either `displot` (a figure-level function with similar flexibility) or `histplot` (an axes-level function for histograms).\n",
      "  warnings.warn(msg, FutureWarning)\n"
     ]
    },
    {
     "data": {
      "image/png": "[encoded data removed]",
      "text/plain": [
       "<Figure size 432x288 with 1 Axes>"
      ]
     },
     "metadata": {
      "needs_background": "light"
     },
     "output_type": "display_data"
    }
   ],
   "source": [
    "plt.figure(figsize = (10, 6))\n",
    "\n",
    "for i in data_num.columns:\n",
    "    sns.distplot(data[i], color = 'red')\n",
    "    plt.show()"
   ]
  },
  {
   "cell_type": "code",
   "execution_count": 48,
   "id": "7c670cbf",
   "metadata": {},
   "outputs": [],
   "source": [
    "import klib"
   ]
  },
  {
   "cell_type": "code",
   "execution_count": 49,
   "id": "aeb8765a",
   "metadata": {},
   "outputs": [
    {
     "name": "stdout",
     "output_type": "stream",
     "text": [
      "Large dataset detected, using 10000 random samples for the plots. Summary statistics are still based on the entire dataset.\n"
     ]
    },
    {
     "data": {
      "text/plain": [
       "<AxesSubplot:xlabel='price', ylabel='Density'>"
      ]
     },
     "execution_count": 49,
     "metadata": {},
     "output_type": "execute_result"
    },
    {
     "data": {
      "image/png": "[encoded data removed]",
      "text/plain": [
       "<Figure size 1080x216 with 1 Axes>"
      ]
     },
     "metadata": {
      "needs_background": "light"
     },
     "output_type": "display_data"
    },
    {
     "data": {
      "image/png": "[encoded data removed]",
      "text/plain": [
       "<Figure size 1080x216 with 1 Axes>"
      ]
     },
     "metadata": {
      "needs_background": "light"
     },
     "output_type": "display_data"
    }
   ],
   "source": [
    "klib.dist_plot(data) # returns a distribution plot for every numeric feature"
   ]
  },
  {
   "cell_type": "markdown",
   "id": "e7fc037c",
   "metadata": {},
   "source": [
    "by the observation we can see our skew is bad and price was not normalize skew"
   ]
  },
  {
   "cell_type": "code",
   "execution_count": 50,
   "id": "4901cf30",
   "metadata": {},
   "outputs": [
    {
     "data": {
      "text/html": [
       "<div>\n",
       "<style scoped>\n",
       "    .dataframe tbody tr th:only-of-type {\n",
       "        vertical-align: middle;\n",
       "    }\n",
       "\n",
       "    .dataframe tbody tr th {\n",
       "        vertical-align: top;\n",
       "    }\n",
       "\n",
       "    .dataframe thead th {\n",
       "        text-align: right;\n",
       "    }\n",
       "</style>\n",
       "<table border=\"1\" class=\"dataframe\">\n",
       "  <thead>\n",
       "    <tr style=\"text-align: right;\">\n",
       "      <th></th>\n",
       "      <th>country</th>\n",
       "      <th>description</th>\n",
       "      <th>points</th>\n",
       "      <th>price</th>\n",
       "      <th>province</th>\n",
       "      <th>title</th>\n",
       "      <th>variety</th>\n",
       "      <th>winery</th>\n",
       "    </tr>\n",
       "  </thead>\n",
       "  <tbody>\n",
       "    <tr>\n",
       "      <th>0</th>\n",
       "      <td>Italy</td>\n",
       "      <td>Aromas include tropical fruit, broom, brimston...</td>\n",
       "      <td>87</td>\n",
       "      <td>25.0</td>\n",
       "      <td>Sicily &amp; Sardinia</td>\n",
       "      <td>Etna</td>\n",
       "      <td>White Blend</td>\n",
       "      <td>Nicosia</td>\n",
       "    </tr>\n",
       "    <tr>\n",
       "      <th>1</th>\n",
       "      <td>Portugal</td>\n",
       "      <td>This is ripe and fruity, a wine that is smooth...</td>\n",
       "      <td>87</td>\n",
       "      <td>15.0</td>\n",
       "      <td>Douro</td>\n",
       "      <td>Douro</td>\n",
       "      <td>Portuguese Red</td>\n",
       "      <td>Quinta dos Avidagos</td>\n",
       "    </tr>\n",
       "    <tr>\n",
       "      <th>2</th>\n",
       "      <td>US</td>\n",
       "      <td>Tart and snappy, the flavors of lime flesh and...</td>\n",
       "      <td>87</td>\n",
       "      <td>14.0</td>\n",
       "      <td>Oregon</td>\n",
       "      <td>Willamette Valley</td>\n",
       "      <td>Pinot Gris</td>\n",
       "      <td>Rainstorm</td>\n",
       "    </tr>\n",
       "    <tr>\n",
       "      <th>3</th>\n",
       "      <td>US</td>\n",
       "      <td>Pineapple rind, lemon pith and orange blossom ...</td>\n",
       "      <td>87</td>\n",
       "      <td>13.0</td>\n",
       "      <td>Michigan</td>\n",
       "      <td>Lake Michigan Shore</td>\n",
       "      <td>Riesling</td>\n",
       "      <td>St. Julian</td>\n",
       "    </tr>\n",
       "    <tr>\n",
       "      <th>4</th>\n",
       "      <td>US</td>\n",
       "      <td>Much like the regular bottling from 2012, this...</td>\n",
       "      <td>87</td>\n",
       "      <td>65.0</td>\n",
       "      <td>Oregon</td>\n",
       "      <td>Willamette Valley</td>\n",
       "      <td>Pinot Noir</td>\n",
       "      <td>Sweet Cheeks</td>\n",
       "    </tr>\n",
       "  </tbody>\n",
       "</table>\n",
       "</div>"
      ],
      "text/plain": [
       "    country                                        description  points  price  \\\n",
       "0     Italy  Aromas include tropical fruit, broom, brimston...      87   25.0   \n",
       "1  Portugal  This is ripe and fruity, a wine that is smooth...      87   15.0   \n",
       "2        US  Tart and snappy, the flavors of lime flesh and...      87   14.0   \n",
       "3        US  Pineapple rind, lemon pith and orange blossom ...      87   13.0   \n",
       "4        US  Much like the regular bottling from 2012, this...      87   65.0   \n",
       "\n",
       "            province                title         variety               winery  \n",
       "0  Sicily & Sardinia                 Etna     White Blend              Nicosia  \n",
       "1              Douro                Douro  Portuguese Red  Quinta dos Avidagos  \n",
       "2             Oregon    Willamette Valley      Pinot Gris            Rainstorm  \n",
       "3           Michigan  Lake Michigan Shore        Riesling           St. Julian  \n",
       "4             Oregon    Willamette Valley      Pinot Noir         Sweet Cheeks  "
      ]
     },
     "execution_count": 50,
     "metadata": {},
     "output_type": "execute_result"
    }
   ],
   "source": [
    "data.head()"
   ]
  },
  {
   "cell_type": "markdown",
   "id": "6955524c",
   "metadata": {},
   "source": [
    " # Create quality column from points values to classes of bad, ok, good, and great. Below is a function to return string quality based on the points value."
   ]
  },
  {
   "cell_type": "code",
   "execution_count": 51,
   "id": "7ee02202",
   "metadata": {},
   "outputs": [],
   "source": [
    "#Function to return string quality based on points value.\n",
    "def getQuality(points):\n",
    "    if(points <= 85):\n",
    "        return 'bad'\n",
    "    elif(points<=90 ):\n",
    "        return 'ok'\n",
    "    elif(points<=95):\n",
    "        return 'good'\n",
    "    elif(points<=100):\n",
    "        return 'great'\n",
    "    else:\n",
    "        return 'If this gets hit, we did something wrong!'"
   ]
  },
  {
   "cell_type": "code",
   "execution_count": 52,
   "id": "698124c6",
   "metadata": {},
   "outputs": [],
   "source": [
    "# Next lets apply the function to the points column of the dataframe and add a new column named quality.\n",
    "data['quality'] = data['points'].apply(getQuality)"
   ]
  },
  {
   "cell_type": "code",
   "execution_count": 53,
   "id": "1a3ef1e0",
   "metadata": {},
   "outputs": [
    {
     "data": {
      "text/plain": [
       "<AxesSubplot:xlabel='quality', ylabel='price'>"
      ]
     },
     "execution_count": 53,
     "metadata": {},
     "output_type": "execute_result"
    },
    {
     "data": {
      "image/png": "[encoded data removed]",
      "text/plain": [
       "<Figure size 432x288 with 1 Axes>"
      ]
     },
     "metadata": {
      "needs_background": "light"
     },
     "output_type": "display_data"
    }
   ],
   "source": [
    "#Lets visualize our new column against the price column like we did above.\n",
    "sns.barplot(x = 'quality', y = 'price', data = data)"
   ]
  },
  {
   "cell_type": "markdown",
   "id": "b82f22a7",
   "metadata": {},
   "source": [
    "by the observation,\n",
    "\n",
    "we can see the highest quality has great"
   ]
  },
  {
   "cell_type": "markdown",
   "id": "d35bd12d",
   "metadata": {},
   "source": [
    "# Create priceRange column from price column of 1-30, 31-50, 51-100, Above 100 and 0 for columns with NaN. Below is a function to return string priceRange based on price value."
   ]
  },
  {
   "cell_type": "code",
   "execution_count": 54,
   "id": "8202ea2d",
   "metadata": {},
   "outputs": [],
   "source": [
    "def getPriceRange(price):\n",
    "    if(price <= 30):\n",
    "        return '1-30'\n",
    "    elif(price<=50):\n",
    "        return '31-50'\n",
    "    elif(price<=100): \n",
    "        return '51-100'\n",
    "    elif(math.isnan(price)):\n",
    "        return '0'\n",
    "    else:\n",
    "        return 'Above 100'"
   ]
  },
  {
   "cell_type": "code",
   "execution_count": 55,
   "id": "318c101f",
   "metadata": {},
   "outputs": [],
   "source": [
    "#Apply the function to the points column of the dataframe and add a new column named priceRange.\n",
    "data['priceRange'] = data['price'].apply(getPriceRange)"
   ]
  },
  {
   "cell_type": "code",
   "execution_count": 56,
   "id": "5546c794",
   "metadata": {},
   "outputs": [
    {
     "data": {
      "text/plain": [
       "priceRange\n",
       "1-30      82446\n",
       "31-50     27745\n",
       "51-100    10721\n",
       "dtype: int64"
      ]
     },
     "execution_count": 56,
     "metadata": {},
     "output_type": "execute_result"
    }
   ],
   "source": [
    "#Print totals for each priceRange assigned to see how the labels are distributed\n",
    "data.groupby(data['priceRange']).size()"
   ]
  },
  {
   "cell_type": "code",
   "execution_count": 57,
   "id": "86ec87da",
   "metadata": {},
   "outputs": [
    {
     "data": {
      "text/plain": [
       "<AxesSubplot:ylabel='priceRange'>"
      ]
     },
     "execution_count": 57,
     "metadata": {},
     "output_type": "execute_result"
    },
    {
     "data": {
      "image/png": "[encoded data removed]",
      "text/plain": [
       "<Figure size 504x432 with 1 Axes>"
      ]
     },
     "metadata": {},
     "output_type": "display_data"
    }
   ],
   "source": [
    "plt.figure(figsize=(7,6))\n",
    "data['priceRange'].value_counts().plot(kind = 'pie', autopct = '%0.1f%%')"
   ]
  },
  {
   "cell_type": "markdown",
   "id": "523b984e",
   "metadata": {},
   "source": [
    "by the observation,\n",
    "\n",
    "68.2% highest sales 1-30 price range "
   ]
  },
  {
   "cell_type": "code",
   "execution_count": 58,
   "id": "50a5005d",
   "metadata": {},
   "outputs": [
    {
     "data": {
      "image/png": "[encoded data removed]",
      "text/plain": [
       "<Figure size 432x288 with 2 Axes>"
      ]
     },
     "metadata": {
      "needs_background": "light"
     },
     "output_type": "display_data"
    }
   ],
   "source": [
    "sns.heatmap(data.select_dtypes(['float64' , 'int64']).corr(),annot=True) \n",
    "plt.show() "
   ]
  },
  {
   "cell_type": "markdown",
   "id": "a25ceb00",
   "metadata": {},
   "source": [
    "# Label Encoder"
   ]
  },
  {
   "cell_type": "code",
   "execution_count": 59,
   "id": "7a7b7832",
   "metadata": {},
   "outputs": [],
   "source": [
    "from sklearn.preprocessing import LabelEncoder\n",
    "\n",
    "labelEncoder = LabelEncoder()\n",
    "data['variety'] = labelEncoder.fit_transform(data['variety'])"
   ]
  },
  {
   "cell_type": "code",
   "execution_count": 60,
   "id": "8901f2ee",
   "metadata": {},
   "outputs": [],
   "source": [
    "data['country'] = labelEncoder.fit_transform(data['country'])"
   ]
  },
  {
   "cell_type": "code",
   "execution_count": 61,
   "id": "eef918e9",
   "metadata": {},
   "outputs": [],
   "source": [
    "data['province'] = labelEncoder.fit_transform(data['province'])\n",
    "data['winery'] = labelEncoder.fit_transform(data['winery'])\n",
    "data['quality'] = labelEncoder.fit_transform(data['quality'])\n",
    "data['title'] = labelEncoder.fit_transform(data['title'])"
   ]
  },
  {
   "cell_type": "code",
   "execution_count": 62,
   "id": "5bb86e5b",
   "metadata": {},
   "outputs": [
    {
     "data": {
      "text/html": [
       "<div>\n",
       "<style scoped>\n",
       "    .dataframe tbody tr th:only-of-type {\n",
       "        vertical-align: middle;\n",
       "    }\n",
       "\n",
       "    .dataframe tbody tr th {\n",
       "        vertical-align: top;\n",
       "    }\n",
       "\n",
       "    .dataframe thead th {\n",
       "        text-align: right;\n",
       "    }\n",
       "</style>\n",
       "<table border=\"1\" class=\"dataframe\">\n",
       "  <thead>\n",
       "    <tr style=\"text-align: right;\">\n",
       "      <th></th>\n",
       "      <th>country</th>\n",
       "      <th>description</th>\n",
       "      <th>points</th>\n",
       "      <th>price</th>\n",
       "      <th>province</th>\n",
       "      <th>title</th>\n",
       "      <th>variety</th>\n",
       "      <th>winery</th>\n",
       "      <th>quality</th>\n",
       "      <th>priceRange</th>\n",
       "    </tr>\n",
       "  </thead>\n",
       "  <tbody>\n",
       "    <tr>\n",
       "      <th>0</th>\n",
       "      <td>22</td>\n",
       "      <td>Aromas include tropical fruit, broom, brimston...</td>\n",
       "      <td>87</td>\n",
       "      <td>25.0</td>\n",
       "      <td>331</td>\n",
       "      <td>5632</td>\n",
       "      <td>686</td>\n",
       "      <td>11382</td>\n",
       "      <td>3</td>\n",
       "      <td>1-30</td>\n",
       "    </tr>\n",
       "    <tr>\n",
       "      <th>1</th>\n",
       "      <td>31</td>\n",
       "      <td>This is ripe and fruity, a wine that is smooth...</td>\n",
       "      <td>87</td>\n",
       "      <td>15.0</td>\n",
       "      <td>108</td>\n",
       "      <td>5529</td>\n",
       "      <td>449</td>\n",
       "      <td>12690</td>\n",
       "      <td>3</td>\n",
       "      <td>1-30</td>\n",
       "    </tr>\n",
       "    <tr>\n",
       "      <th>2</th>\n",
       "      <td>40</td>\n",
       "      <td>Tart and snappy, the flavors of lime flesh and...</td>\n",
       "      <td>87</td>\n",
       "      <td>14.0</td>\n",
       "      <td>268</td>\n",
       "      <td>10199</td>\n",
       "      <td>435</td>\n",
       "      <td>12752</td>\n",
       "      <td>3</td>\n",
       "      <td>1-30</td>\n",
       "    </tr>\n",
       "    <tr>\n",
       "      <th>3</th>\n",
       "      <td>40</td>\n",
       "      <td>Pineapple rind, lemon pith and orange blossom ...</td>\n",
       "      <td>87</td>\n",
       "      <td>13.0</td>\n",
       "      <td>218</td>\n",
       "      <td>6853</td>\n",
       "      <td>477</td>\n",
       "      <td>14094</td>\n",
       "      <td>3</td>\n",
       "      <td>1-30</td>\n",
       "    </tr>\n",
       "    <tr>\n",
       "      <th>4</th>\n",
       "      <td>40</td>\n",
       "      <td>Much like the regular bottling from 2012, this...</td>\n",
       "      <td>87</td>\n",
       "      <td>65.0</td>\n",
       "      <td>268</td>\n",
       "      <td>10199</td>\n",
       "      <td>439</td>\n",
       "      <td>14322</td>\n",
       "      <td>3</td>\n",
       "      <td>51-100</td>\n",
       "    </tr>\n",
       "  </tbody>\n",
       "</table>\n",
       "</div>"
      ],
      "text/plain": [
       "   country                                        description  points  price  \\\n",
       "0       22  Aromas include tropical fruit, broom, brimston...      87   25.0   \n",
       "1       31  This is ripe and fruity, a wine that is smooth...      87   15.0   \n",
       "2       40  Tart and snappy, the flavors of lime flesh and...      87   14.0   \n",
       "3       40  Pineapple rind, lemon pith and orange blossom ...      87   13.0   \n",
       "4       40  Much like the regular bottling from 2012, this...      87   65.0   \n",
       "\n",
       "   province  title  variety  winery  quality priceRange  \n",
       "0       331   5632      686   11382        3       1-30  \n",
       "1       108   5529      449   12690        3       1-30  \n",
       "2       268  10199      435   12752        3       1-30  \n",
       "3       218   6853      477   14094        3       1-30  \n",
       "4       268  10199      439   14322        3     51-100  "
      ]
     },
     "execution_count": 62,
     "metadata": {},
     "output_type": "execute_result"
    }
   ],
   "source": [
    "data.head()"
   ]
  },
  {
   "cell_type": "markdown",
   "id": "dcaa768e",
   "metadata": {},
   "source": [
    "for Label encoding I have selected particular column because comparative other column these featuer has 0.1 to 13.9% of unique values of data that why, we selected particular column for label encoding\n",
    "and we can't able to do one hot encoding in this feature because it will cause curse of dimensionality.other text feature will be text preprocess. "
   ]
  },
  {
   "cell_type": "markdown",
   "id": "67470923",
   "metadata": {},
   "source": [
    "# Preprocessing the Data"
   ]
  },
  {
   "cell_type": "code",
   "execution_count": 63,
   "id": "1300635d",
   "metadata": {},
   "outputs": [
    {
     "name": "stderr",
     "output_type": "stream",
     "text": [
      "C:\\Windows\\Temp\\ipykernel_3204\\2650317068.py:2: FutureWarning: Passing a negative integer is deprecated in version 1.0 and will not be supported in future version. Instead, use None to not limit the column width.\n",
      "  pd.set_option('display.max_colwidth', -1)\n"
     ]
    },
    {
     "data": {
      "text/html": [
       "<div>\n",
       "<style scoped>\n",
       "    .dataframe tbody tr th:only-of-type {\n",
       "        vertical-align: middle;\n",
       "    }\n",
       "\n",
       "    .dataframe tbody tr th {\n",
       "        vertical-align: top;\n",
       "    }\n",
       "\n",
       "    .dataframe thead th {\n",
       "        text-align: right;\n",
       "    }\n",
       "</style>\n",
       "<table border=\"1\" class=\"dataframe\">\n",
       "  <thead>\n",
       "    <tr style=\"text-align: right;\">\n",
       "      <th></th>\n",
       "      <th>description</th>\n",
       "      <th>country</th>\n",
       "    </tr>\n",
       "  </thead>\n",
       "  <tbody>\n",
       "    <tr>\n",
       "      <th>0</th>\n",
       "      <td>Aromas include tropical fruit, broom, brimstone and dried herb. The palate isn't overly expressive, offering unripened apple, citrus and dried sage alongside brisk acidity.</td>\n",
       "      <td>22</td>\n",
       "    </tr>\n",
       "    <tr>\n",
       "      <th>1</th>\n",
       "      <td>This is ripe and fruity, a wine that is smooth while still structured. Firm tannins are filled out with juicy red berry fruits and freshened with acidity. It's  already drinkable, although it will certainly be better from 2016.</td>\n",
       "      <td>31</td>\n",
       "    </tr>\n",
       "    <tr>\n",
       "      <th>2</th>\n",
       "      <td>Tart and snappy, the flavors of lime flesh and rind dominate. Some green pineapple pokes through, with crisp acidity underscoring the flavors. The wine was all stainless-steel fermented.</td>\n",
       "      <td>40</td>\n",
       "    </tr>\n",
       "    <tr>\n",
       "      <th>3</th>\n",
       "      <td>Pineapple rind, lemon pith and orange blossom start off the aromas. The palate is a bit more opulent, with notes of honey-drizzled guava and mango giving way to a slightly astringent, semidry finish.</td>\n",
       "      <td>40</td>\n",
       "    </tr>\n",
       "    <tr>\n",
       "      <th>4</th>\n",
       "      <td>Much like the regular bottling from 2012, this comes across as rather rough and tannic, with rustic, earthy, herbal characteristics. Nonetheless, if you think of it as a pleasantly unfussy country wine, it's a good companion to a hearty winter stew.</td>\n",
       "      <td>40</td>\n",
       "    </tr>\n",
       "  </tbody>\n",
       "</table>\n",
       "</div>"
      ],
      "text/plain": [
       "                                                                                                                                                                                                                                                 description  \\\n",
       "0  Aromas include tropical fruit, broom, brimstone and dried herb. The palate isn't overly expressive, offering unripened apple, citrus and dried sage alongside brisk acidity.                                                                                \n",
       "1  This is ripe and fruity, a wine that is smooth while still structured. Firm tannins are filled out with juicy red berry fruits and freshened with acidity. It's  already drinkable, although it will certainly be better from 2016.                         \n",
       "2  Tart and snappy, the flavors of lime flesh and rind dominate. Some green pineapple pokes through, with crisp acidity underscoring the flavors. The wine was all stainless-steel fermented.                                                                  \n",
       "3  Pineapple rind, lemon pith and orange blossom start off the aromas. The palate is a bit more opulent, with notes of honey-drizzled guava and mango giving way to a slightly astringent, semidry finish.                                                     \n",
       "4  Much like the regular bottling from 2012, this comes across as rather rough and tannic, with rustic, earthy, herbal characteristics. Nonetheless, if you think of it as a pleasantly unfussy country wine, it's a good companion to a hearty winter stew.   \n",
       "\n",
       "   country  \n",
       "0  22       \n",
       "1  31       \n",
       "2  40       \n",
       "3  40       \n",
       "4  40       "
      ]
     },
     "execution_count": 63,
     "metadata": {},
     "output_type": "execute_result"
    }
   ],
   "source": [
    "#expanding the dispay of text sms column\n",
    "pd.set_option('display.max_colwidth', -1)\n",
    "#using only description and v2 column\n",
    "df=data [['description','country']]\n",
    "df.head()"
   ]
  },
  {
   "cell_type": "code",
   "execution_count": 64,
   "id": "43d4acf6",
   "metadata": {},
   "outputs": [
    {
     "name": "stderr",
     "output_type": "stream",
     "text": [
      "C:\\Windows\\Temp\\ipykernel_3204\\341382306.py:1: FutureWarning: The default value of regex will change from True to False in a future version.\n",
      "  df['description'] = df['description'].str.replace('\\d+', '')\n",
      "C:\\Windows\\Temp\\ipykernel_3204\\341382306.py:1: SettingWithCopyWarning: \n",
      "A value is trying to be set on a copy of a slice from a DataFrame.\n",
      "Try using .loc[row_indexer,col_indexer] = value instead\n",
      "\n",
      "See the caveats in the documentation: https://pandas.pydata.org/pandas-docs/stable/user_guide/indexing.html#returning-a-view-versus-a-copy\n",
      "  df['description'] = df['description'].str.replace('\\d+', '')\n"
     ]
    }
   ],
   "source": [
    "df['description'] = df['description'].str.replace('\\d+', '')"
   ]
  },
  {
   "cell_type": "code",
   "execution_count": 65,
   "id": "51d5c911",
   "metadata": {},
   "outputs": [
    {
     "data": {
      "text/html": [
       "<div>\n",
       "<style scoped>\n",
       "    .dataframe tbody tr th:only-of-type {\n",
       "        vertical-align: middle;\n",
       "    }\n",
       "\n",
       "    .dataframe tbody tr th {\n",
       "        vertical-align: top;\n",
       "    }\n",
       "\n",
       "    .dataframe thead th {\n",
       "        text-align: right;\n",
       "    }\n",
       "</style>\n",
       "<table border=\"1\" class=\"dataframe\">\n",
       "  <thead>\n",
       "    <tr style=\"text-align: right;\">\n",
       "      <th></th>\n",
       "      <th>description</th>\n",
       "      <th>country</th>\n",
       "    </tr>\n",
       "  </thead>\n",
       "  <tbody>\n",
       "    <tr>\n",
       "      <th>0</th>\n",
       "      <td>Aromas include tropical fruit, broom, brimstone and dried herb. The palate isn't overly expressive, offering unripened apple, citrus and dried sage alongside brisk acidity.</td>\n",
       "      <td>22</td>\n",
       "    </tr>\n",
       "    <tr>\n",
       "      <th>1</th>\n",
       "      <td>This is ripe and fruity, a wine that is smooth while still structured. Firm tannins are filled out with juicy red berry fruits and freshened with acidity. It's  already drinkable, although it will certainly be better from .</td>\n",
       "      <td>31</td>\n",
       "    </tr>\n",
       "    <tr>\n",
       "      <th>2</th>\n",
       "      <td>Tart and snappy, the flavors of lime flesh and rind dominate. Some green pineapple pokes through, with crisp acidity underscoring the flavors. The wine was all stainless-steel fermented.</td>\n",
       "      <td>40</td>\n",
       "    </tr>\n",
       "    <tr>\n",
       "      <th>3</th>\n",
       "      <td>Pineapple rind, lemon pith and orange blossom start off the aromas. The palate is a bit more opulent, with notes of honey-drizzled guava and mango giving way to a slightly astringent, semidry finish.</td>\n",
       "      <td>40</td>\n",
       "    </tr>\n",
       "  </tbody>\n",
       "</table>\n",
       "</div>"
      ],
      "text/plain": [
       "                                                                                                                                                                                                                       description  \\\n",
       "0  Aromas include tropical fruit, broom, brimstone and dried herb. The palate isn't overly expressive, offering unripened apple, citrus and dried sage alongside brisk acidity.                                                      \n",
       "1  This is ripe and fruity, a wine that is smooth while still structured. Firm tannins are filled out with juicy red berry fruits and freshened with acidity. It's  already drinkable, although it will certainly be better from .   \n",
       "2  Tart and snappy, the flavors of lime flesh and rind dominate. Some green pineapple pokes through, with crisp acidity underscoring the flavors. The wine was all stainless-steel fermented.                                        \n",
       "3  Pineapple rind, lemon pith and orange blossom start off the aromas. The palate is a bit more opulent, with notes of honey-drizzled guava and mango giving way to a slightly astringent, semidry finish.                           \n",
       "\n",
       "   country  \n",
       "0  22       \n",
       "1  31       \n",
       "2  40       \n",
       "3  40       "
      ]
     },
     "execution_count": 65,
     "metadata": {},
     "output_type": "execute_result"
    }
   ],
   "source": [
    "df.head(4)"
   ]
  },
  {
   "cell_type": "markdown",
   "id": "55f85713",
   "metadata": {},
   "source": [
    "## Punctuation Removal:"
   ]
  },
  {
   "cell_type": "code",
   "execution_count": 66,
   "id": "efef54dd",
   "metadata": {},
   "outputs": [
    {
     "data": {
      "text/plain": [
       "'!\"#$%&\\'()*+,-./:;<=>?@[\\\\]^_`{|}~'"
      ]
     },
     "execution_count": 66,
     "metadata": {},
     "output_type": "execute_result"
    }
   ],
   "source": [
    "#library that contains punctuation\n",
    "import string\n",
    "string.punctuation"
   ]
  },
  {
   "cell_type": "code",
   "execution_count": 67,
   "id": "d051e41f",
   "metadata": {},
   "outputs": [
    {
     "name": "stderr",
     "output_type": "stream",
     "text": [
      "C:\\Windows\\Temp\\ipykernel_3204\\2003348025.py:6: SettingWithCopyWarning: \n",
      "A value is trying to be set on a copy of a slice from a DataFrame.\n",
      "Try using .loc[row_indexer,col_indexer] = value instead\n",
      "\n",
      "See the caveats in the documentation: https://pandas.pydata.org/pandas-docs/stable/user_guide/indexing.html#returning-a-view-versus-a-copy\n",
      "  df['clean_description']= df['description'].apply(lambda x:remove_punctuation(x))\n"
     ]
    },
    {
     "data": {
      "text/html": [
       "<div>\n",
       "<style scoped>\n",
       "    .dataframe tbody tr th:only-of-type {\n",
       "        vertical-align: middle;\n",
       "    }\n",
       "\n",
       "    .dataframe tbody tr th {\n",
       "        vertical-align: top;\n",
       "    }\n",
       "\n",
       "    .dataframe thead th {\n",
       "        text-align: right;\n",
       "    }\n",
       "</style>\n",
       "<table border=\"1\" class=\"dataframe\">\n",
       "  <thead>\n",
       "    <tr style=\"text-align: right;\">\n",
       "      <th></th>\n",
       "      <th>description</th>\n",
       "      <th>country</th>\n",
       "      <th>clean_description</th>\n",
       "    </tr>\n",
       "  </thead>\n",
       "  <tbody>\n",
       "    <tr>\n",
       "      <th>0</th>\n",
       "      <td>Aromas include tropical fruit, broom, brimstone and dried herb. The palate isn't overly expressive, offering unripened apple, citrus and dried sage alongside brisk acidity.</td>\n",
       "      <td>22</td>\n",
       "      <td>Aromas include tropical fruit broom brimstone and dried herb The palate isnt overly expressive offering unripened apple citrus and dried sage alongside brisk acidity</td>\n",
       "    </tr>\n",
       "    <tr>\n",
       "      <th>1</th>\n",
       "      <td>This is ripe and fruity, a wine that is smooth while still structured. Firm tannins are filled out with juicy red berry fruits and freshened with acidity. It's  already drinkable, although it will certainly be better from .</td>\n",
       "      <td>31</td>\n",
       "      <td>This is ripe and fruity a wine that is smooth while still structured Firm tannins are filled out with juicy red berry fruits and freshened with acidity Its  already drinkable although it will certainly be better from</td>\n",
       "    </tr>\n",
       "    <tr>\n",
       "      <th>2</th>\n",
       "      <td>Tart and snappy, the flavors of lime flesh and rind dominate. Some green pineapple pokes through, with crisp acidity underscoring the flavors. The wine was all stainless-steel fermented.</td>\n",
       "      <td>40</td>\n",
       "      <td>Tart and snappy the flavors of lime flesh and rind dominate Some green pineapple pokes through with crisp acidity underscoring the flavors The wine was all stainlesssteel fermented</td>\n",
       "    </tr>\n",
       "    <tr>\n",
       "      <th>3</th>\n",
       "      <td>Pineapple rind, lemon pith and orange blossom start off the aromas. The palate is a bit more opulent, with notes of honey-drizzled guava and mango giving way to a slightly astringent, semidry finish.</td>\n",
       "      <td>40</td>\n",
       "      <td>Pineapple rind lemon pith and orange blossom start off the aromas The palate is a bit more opulent with notes of honeydrizzled guava and mango giving way to a slightly astringent semidry finish</td>\n",
       "    </tr>\n",
       "    <tr>\n",
       "      <th>4</th>\n",
       "      <td>Much like the regular bottling from , this comes across as rather rough and tannic, with rustic, earthy, herbal characteristics. Nonetheless, if you think of it as a pleasantly unfussy country wine, it's a good companion to a hearty winter stew.</td>\n",
       "      <td>40</td>\n",
       "      <td>Much like the regular bottling from  this comes across as rather rough and tannic with rustic earthy herbal characteristics Nonetheless if you think of it as a pleasantly unfussy country wine its a good companion to a hearty winter stew</td>\n",
       "    </tr>\n",
       "  </tbody>\n",
       "</table>\n",
       "</div>"
      ],
      "text/plain": [
       "                                                                                                                                                                                                                                             description  \\\n",
       "0  Aromas include tropical fruit, broom, brimstone and dried herb. The palate isn't overly expressive, offering unripened apple, citrus and dried sage alongside brisk acidity.                                                                            \n",
       "1  This is ripe and fruity, a wine that is smooth while still structured. Firm tannins are filled out with juicy red berry fruits and freshened with acidity. It's  already drinkable, although it will certainly be better from .                         \n",
       "2  Tart and snappy, the flavors of lime flesh and rind dominate. Some green pineapple pokes through, with crisp acidity underscoring the flavors. The wine was all stainless-steel fermented.                                                              \n",
       "3  Pineapple rind, lemon pith and orange blossom start off the aromas. The palate is a bit more opulent, with notes of honey-drizzled guava and mango giving way to a slightly astringent, semidry finish.                                                 \n",
       "4  Much like the regular bottling from , this comes across as rather rough and tannic, with rustic, earthy, herbal characteristics. Nonetheless, if you think of it as a pleasantly unfussy country wine, it's a good companion to a hearty winter stew.   \n",
       "\n",
       "   country  \\\n",
       "0  22        \n",
       "1  31        \n",
       "2  40        \n",
       "3  40        \n",
       "4  40        \n",
       "\n",
       "                                                                                                                                                                                                                              clean_description  \n",
       "0  Aromas include tropical fruit broom brimstone and dried herb The palate isnt overly expressive offering unripened apple citrus and dried sage alongside brisk acidity                                                                         \n",
       "1  This is ripe and fruity a wine that is smooth while still structured Firm tannins are filled out with juicy red berry fruits and freshened with acidity Its  already drinkable although it will certainly be better from                      \n",
       "2  Tart and snappy the flavors of lime flesh and rind dominate Some green pineapple pokes through with crisp acidity underscoring the flavors The wine was all stainlesssteel fermented                                                          \n",
       "3  Pineapple rind lemon pith and orange blossom start off the aromas The palate is a bit more opulent with notes of honeydrizzled guava and mango giving way to a slightly astringent semidry finish                                             \n",
       "4  Much like the regular bottling from  this comes across as rather rough and tannic with rustic earthy herbal characteristics Nonetheless if you think of it as a pleasantly unfussy country wine its a good companion to a hearty winter stew  "
      ]
     },
     "execution_count": 67,
     "metadata": {},
     "output_type": "execute_result"
    }
   ],
   "source": [
    "#defining the function to remove punctuation\n",
    "def remove_punctuation(text):\n",
    "    punctuationfree=\"\".join([i for i in text if i not in string.punctuation])\n",
    "    return punctuationfree\n",
    "#storing the puntuation free text\n",
    "df['clean_description']= df['description'].apply(lambda x:remove_punctuation(x))\n",
    "df.head()"
   ]
  },
  {
   "cell_type": "markdown",
   "id": "3945c8ea",
   "metadata": {},
   "source": [
    "# Steps to clean the text\n"
   ]
  },
  {
   "cell_type": "markdown",
   "id": "1a47938a",
   "metadata": {},
   "source": [
    "# Lowering the text: "
   ]
  },
  {
   "cell_type": "code",
   "execution_count": 68,
   "id": "47fd2b23",
   "metadata": {},
   "outputs": [
    {
     "name": "stderr",
     "output_type": "stream",
     "text": [
      "C:\\Windows\\Temp\\ipykernel_3204\\3393364385.py:1: SettingWithCopyWarning: \n",
      "A value is trying to be set on a copy of a slice from a DataFrame.\n",
      "Try using .loc[row_indexer,col_indexer] = value instead\n",
      "\n",
      "See the caveats in the documentation: https://pandas.pydata.org/pandas-docs/stable/user_guide/indexing.html#returning-a-view-versus-a-copy\n",
      "  df['des_lower']= df['clean_description'].str.lower()\n"
     ]
    }
   ],
   "source": [
    "df['des_lower']= df['clean_description'].str.lower()"
   ]
  },
  {
   "cell_type": "code",
   "execution_count": 69,
   "id": "c2d7b381",
   "metadata": {},
   "outputs": [
    {
     "data": {
      "text/html": [
       "<div>\n",
       "<style scoped>\n",
       "    .dataframe tbody tr th:only-of-type {\n",
       "        vertical-align: middle;\n",
       "    }\n",
       "\n",
       "    .dataframe tbody tr th {\n",
       "        vertical-align: top;\n",
       "    }\n",
       "\n",
       "    .dataframe thead th {\n",
       "        text-align: right;\n",
       "    }\n",
       "</style>\n",
       "<table border=\"1\" class=\"dataframe\">\n",
       "  <thead>\n",
       "    <tr style=\"text-align: right;\">\n",
       "      <th></th>\n",
       "      <th>description</th>\n",
       "      <th>country</th>\n",
       "      <th>clean_description</th>\n",
       "      <th>des_lower</th>\n",
       "    </tr>\n",
       "  </thead>\n",
       "  <tbody>\n",
       "    <tr>\n",
       "      <th>0</th>\n",
       "      <td>Aromas include tropical fruit, broom, brimstone and dried herb. The palate isn't overly expressive, offering unripened apple, citrus and dried sage alongside brisk acidity.</td>\n",
       "      <td>22</td>\n",
       "      <td>Aromas include tropical fruit broom brimstone and dried herb The palate isnt overly expressive offering unripened apple citrus and dried sage alongside brisk acidity</td>\n",
       "      <td>aromas include tropical fruit broom brimstone and dried herb the palate isnt overly expressive offering unripened apple citrus and dried sage alongside brisk acidity</td>\n",
       "    </tr>\n",
       "    <tr>\n",
       "      <th>1</th>\n",
       "      <td>This is ripe and fruity, a wine that is smooth while still structured. Firm tannins are filled out with juicy red berry fruits and freshened with acidity. It's  already drinkable, although it will certainly be better from .</td>\n",
       "      <td>31</td>\n",
       "      <td>This is ripe and fruity a wine that is smooth while still structured Firm tannins are filled out with juicy red berry fruits and freshened with acidity Its  already drinkable although it will certainly be better from</td>\n",
       "      <td>this is ripe and fruity a wine that is smooth while still structured firm tannins are filled out with juicy red berry fruits and freshened with acidity its  already drinkable although it will certainly be better from</td>\n",
       "    </tr>\n",
       "    <tr>\n",
       "      <th>2</th>\n",
       "      <td>Tart and snappy, the flavors of lime flesh and rind dominate. Some green pineapple pokes through, with crisp acidity underscoring the flavors. The wine was all stainless-steel fermented.</td>\n",
       "      <td>40</td>\n",
       "      <td>Tart and snappy the flavors of lime flesh and rind dominate Some green pineapple pokes through with crisp acidity underscoring the flavors The wine was all stainlesssteel fermented</td>\n",
       "      <td>tart and snappy the flavors of lime flesh and rind dominate some green pineapple pokes through with crisp acidity underscoring the flavors the wine was all stainlesssteel fermented</td>\n",
       "    </tr>\n",
       "    <tr>\n",
       "      <th>3</th>\n",
       "      <td>Pineapple rind, lemon pith and orange blossom start off the aromas. The palate is a bit more opulent, with notes of honey-drizzled guava and mango giving way to a slightly astringent, semidry finish.</td>\n",
       "      <td>40</td>\n",
       "      <td>Pineapple rind lemon pith and orange blossom start off the aromas The palate is a bit more opulent with notes of honeydrizzled guava and mango giving way to a slightly astringent semidry finish</td>\n",
       "      <td>pineapple rind lemon pith and orange blossom start off the aromas the palate is a bit more opulent with notes of honeydrizzled guava and mango giving way to a slightly astringent semidry finish</td>\n",
       "    </tr>\n",
       "    <tr>\n",
       "      <th>4</th>\n",
       "      <td>Much like the regular bottling from , this comes across as rather rough and tannic, with rustic, earthy, herbal characteristics. Nonetheless, if you think of it as a pleasantly unfussy country wine, it's a good companion to a hearty winter stew.</td>\n",
       "      <td>40</td>\n",
       "      <td>Much like the regular bottling from  this comes across as rather rough and tannic with rustic earthy herbal characteristics Nonetheless if you think of it as a pleasantly unfussy country wine its a good companion to a hearty winter stew</td>\n",
       "      <td>much like the regular bottling from  this comes across as rather rough and tannic with rustic earthy herbal characteristics nonetheless if you think of it as a pleasantly unfussy country wine its a good companion to a hearty winter stew</td>\n",
       "    </tr>\n",
       "  </tbody>\n",
       "</table>\n",
       "</div>"
      ],
      "text/plain": [
       "                                                                                                                                                                                                                                             description  \\\n",
       "0  Aromas include tropical fruit, broom, brimstone and dried herb. The palate isn't overly expressive, offering unripened apple, citrus and dried sage alongside brisk acidity.                                                                            \n",
       "1  This is ripe and fruity, a wine that is smooth while still structured. Firm tannins are filled out with juicy red berry fruits and freshened with acidity. It's  already drinkable, although it will certainly be better from .                         \n",
       "2  Tart and snappy, the flavors of lime flesh and rind dominate. Some green pineapple pokes through, with crisp acidity underscoring the flavors. The wine was all stainless-steel fermented.                                                              \n",
       "3  Pineapple rind, lemon pith and orange blossom start off the aromas. The palate is a bit more opulent, with notes of honey-drizzled guava and mango giving way to a slightly astringent, semidry finish.                                                 \n",
       "4  Much like the regular bottling from , this comes across as rather rough and tannic, with rustic, earthy, herbal characteristics. Nonetheless, if you think of it as a pleasantly unfussy country wine, it's a good companion to a hearty winter stew.   \n",
       "\n",
       "   country  \\\n",
       "0  22        \n",
       "1  31        \n",
       "2  40        \n",
       "3  40        \n",
       "4  40        \n",
       "\n",
       "                                                                                                                                                                                                                              clean_description  \\\n",
       "0  Aromas include tropical fruit broom brimstone and dried herb The palate isnt overly expressive offering unripened apple citrus and dried sage alongside brisk acidity                                                                          \n",
       "1  This is ripe and fruity a wine that is smooth while still structured Firm tannins are filled out with juicy red berry fruits and freshened with acidity Its  already drinkable although it will certainly be better from                       \n",
       "2  Tart and snappy the flavors of lime flesh and rind dominate Some green pineapple pokes through with crisp acidity underscoring the flavors The wine was all stainlesssteel fermented                                                           \n",
       "3  Pineapple rind lemon pith and orange blossom start off the aromas The palate is a bit more opulent with notes of honeydrizzled guava and mango giving way to a slightly astringent semidry finish                                              \n",
       "4  Much like the regular bottling from  this comes across as rather rough and tannic with rustic earthy herbal characteristics Nonetheless if you think of it as a pleasantly unfussy country wine its a good companion to a hearty winter stew   \n",
       "\n",
       "                                                                                                                                                                                                                                      des_lower  \n",
       "0  aromas include tropical fruit broom brimstone and dried herb the palate isnt overly expressive offering unripened apple citrus and dried sage alongside brisk acidity                                                                         \n",
       "1  this is ripe and fruity a wine that is smooth while still structured firm tannins are filled out with juicy red berry fruits and freshened with acidity its  already drinkable although it will certainly be better from                      \n",
       "2  tart and snappy the flavors of lime flesh and rind dominate some green pineapple pokes through with crisp acidity underscoring the flavors the wine was all stainlesssteel fermented                                                          \n",
       "3  pineapple rind lemon pith and orange blossom start off the aromas the palate is a bit more opulent with notes of honeydrizzled guava and mango giving way to a slightly astringent semidry finish                                             \n",
       "4  much like the regular bottling from  this comes across as rather rough and tannic with rustic earthy herbal characteristics nonetheless if you think of it as a pleasantly unfussy country wine its a good companion to a hearty winter stew  "
      ]
     },
     "execution_count": 69,
     "metadata": {},
     "output_type": "execute_result"
    }
   ],
   "source": [
    "df.head()"
   ]
  },
  {
   "cell_type": "markdown",
   "id": "8722281b",
   "metadata": {},
   "source": [
    "# Tokenization:"
   ]
  },
  {
   "cell_type": "code",
   "execution_count": 70,
   "id": "b10eaa8d",
   "metadata": {},
   "outputs": [],
   "source": [
    "from nltk.tokenize import word_tokenize  "
   ]
  },
  {
   "cell_type": "code",
   "execution_count": 71,
   "id": "53b06f6b",
   "metadata": {},
   "outputs": [
    {
     "name": "stderr",
     "output_type": "stream",
     "text": [
      "C:\\Windows\\Temp\\ipykernel_3204\\2949121610.py:7: SettingWithCopyWarning: \n",
      "A value is trying to be set on a copy of a slice from a DataFrame.\n",
      "Try using .loc[row_indexer,col_indexer] = value instead\n",
      "\n",
      "See the caveats in the documentation: https://pandas.pydata.org/pandas-docs/stable/user_guide/indexing.html#returning-a-view-versus-a-copy\n",
      "  df['des_tokenied']= df['des_lower'].apply(lambda x: word_tokenize(x))\n"
     ]
    }
   ],
   "source": [
    "#defining function for tokenization\n",
    "import re\n",
    "def tokenization(text):\n",
    "    tokens = re.split('W+',text)\n",
    "    return tokens\n",
    "#applying function to the column\n",
    "df['des_tokenied']= df['des_lower'].apply(lambda x: word_tokenize(x))"
   ]
  },
  {
   "cell_type": "code",
   "execution_count": 72,
   "id": "9d018aef",
   "metadata": {},
   "outputs": [
    {
     "data": {
      "text/html": [
       "<div>\n",
       "<style scoped>\n",
       "    .dataframe tbody tr th:only-of-type {\n",
       "        vertical-align: middle;\n",
       "    }\n",
       "\n",
       "    .dataframe tbody tr th {\n",
       "        vertical-align: top;\n",
       "    }\n",
       "\n",
       "    .dataframe thead th {\n",
       "        text-align: right;\n",
       "    }\n",
       "</style>\n",
       "<table border=\"1\" class=\"dataframe\">\n",
       "  <thead>\n",
       "    <tr style=\"text-align: right;\">\n",
       "      <th></th>\n",
       "      <th>description</th>\n",
       "      <th>country</th>\n",
       "      <th>clean_description</th>\n",
       "      <th>des_lower</th>\n",
       "      <th>des_tokenied</th>\n",
       "    </tr>\n",
       "  </thead>\n",
       "  <tbody>\n",
       "    <tr>\n",
       "      <th>0</th>\n",
       "      <td>Aromas include tropical fruit, broom, brimstone and dried herb. The palate isn't overly expressive, offering unripened apple, citrus and dried sage alongside brisk acidity.</td>\n",
       "      <td>22</td>\n",
       "      <td>Aromas include tropical fruit broom brimstone and dried herb The palate isnt overly expressive offering unripened apple citrus and dried sage alongside brisk acidity</td>\n",
       "      <td>aromas include tropical fruit broom brimstone and dried herb the palate isnt overly expressive offering unripened apple citrus and dried sage alongside brisk acidity</td>\n",
       "      <td>[aromas, include, tropical, fruit, broom, brimstone, and, dried, herb, the, palate, isnt, overly, expressive, offering, unripened, apple, citrus, and, dried, sage, alongside, brisk, acidity]</td>\n",
       "    </tr>\n",
       "    <tr>\n",
       "      <th>1</th>\n",
       "      <td>This is ripe and fruity, a wine that is smooth while still structured. Firm tannins are filled out with juicy red berry fruits and freshened with acidity. It's  already drinkable, although it will certainly be better from .</td>\n",
       "      <td>31</td>\n",
       "      <td>This is ripe and fruity a wine that is smooth while still structured Firm tannins are filled out with juicy red berry fruits and freshened with acidity Its  already drinkable although it will certainly be better from</td>\n",
       "      <td>this is ripe and fruity a wine that is smooth while still structured firm tannins are filled out with juicy red berry fruits and freshened with acidity its  already drinkable although it will certainly be better from</td>\n",
       "      <td>[this, is, ripe, and, fruity, a, wine, that, is, smooth, while, still, structured, firm, tannins, are, filled, out, with, juicy, red, berry, fruits, and, freshened, with, acidity, its, already, drinkable, although, it, will, certainly, be, better, from]</td>\n",
       "    </tr>\n",
       "    <tr>\n",
       "      <th>2</th>\n",
       "      <td>Tart and snappy, the flavors of lime flesh and rind dominate. Some green pineapple pokes through, with crisp acidity underscoring the flavors. The wine was all stainless-steel fermented.</td>\n",
       "      <td>40</td>\n",
       "      <td>Tart and snappy the flavors of lime flesh and rind dominate Some green pineapple pokes through with crisp acidity underscoring the flavors The wine was all stainlesssteel fermented</td>\n",
       "      <td>tart and snappy the flavors of lime flesh and rind dominate some green pineapple pokes through with crisp acidity underscoring the flavors the wine was all stainlesssteel fermented</td>\n",
       "      <td>[tart, and, snappy, the, flavors, of, lime, flesh, and, rind, dominate, some, green, pineapple, pokes, through, with, crisp, acidity, underscoring, the, flavors, the, wine, was, all, stainlesssteel, fermented]</td>\n",
       "    </tr>\n",
       "    <tr>\n",
       "      <th>3</th>\n",
       "      <td>Pineapple rind, lemon pith and orange blossom start off the aromas. The palate is a bit more opulent, with notes of honey-drizzled guava and mango giving way to a slightly astringent, semidry finish.</td>\n",
       "      <td>40</td>\n",
       "      <td>Pineapple rind lemon pith and orange blossom start off the aromas The palate is a bit more opulent with notes of honeydrizzled guava and mango giving way to a slightly astringent semidry finish</td>\n",
       "      <td>pineapple rind lemon pith and orange blossom start off the aromas the palate is a bit more opulent with notes of honeydrizzled guava and mango giving way to a slightly astringent semidry finish</td>\n",
       "      <td>[pineapple, rind, lemon, pith, and, orange, blossom, start, off, the, aromas, the, palate, is, a, bit, more, opulent, with, notes, of, honeydrizzled, guava, and, mango, giving, way, to, a, slightly, astringent, semidry, finish]</td>\n",
       "    </tr>\n",
       "    <tr>\n",
       "      <th>4</th>\n",
       "      <td>Much like the regular bottling from , this comes across as rather rough and tannic, with rustic, earthy, herbal characteristics. Nonetheless, if you think of it as a pleasantly unfussy country wine, it's a good companion to a hearty winter stew.</td>\n",
       "      <td>40</td>\n",
       "      <td>Much like the regular bottling from  this comes across as rather rough and tannic with rustic earthy herbal characteristics Nonetheless if you think of it as a pleasantly unfussy country wine its a good companion to a hearty winter stew</td>\n",
       "      <td>much like the regular bottling from  this comes across as rather rough and tannic with rustic earthy herbal characteristics nonetheless if you think of it as a pleasantly unfussy country wine its a good companion to a hearty winter stew</td>\n",
       "      <td>[much, like, the, regular, bottling, from, this, comes, across, as, rather, rough, and, tannic, with, rustic, earthy, herbal, characteristics, nonetheless, if, you, think, of, it, as, a, pleasantly, unfussy, country, wine, its, a, good, companion, to, a, hearty, winter, stew]</td>\n",
       "    </tr>\n",
       "  </tbody>\n",
       "</table>\n",
       "</div>"
      ],
      "text/plain": [
       "                                                                                                                                                                                                                                             description  \\\n",
       "0  Aromas include tropical fruit, broom, brimstone and dried herb. The palate isn't overly expressive, offering unripened apple, citrus and dried sage alongside brisk acidity.                                                                            \n",
       "1  This is ripe and fruity, a wine that is smooth while still structured. Firm tannins are filled out with juicy red berry fruits and freshened with acidity. It's  already drinkable, although it will certainly be better from .                         \n",
       "2  Tart and snappy, the flavors of lime flesh and rind dominate. Some green pineapple pokes through, with crisp acidity underscoring the flavors. The wine was all stainless-steel fermented.                                                              \n",
       "3  Pineapple rind, lemon pith and orange blossom start off the aromas. The palate is a bit more opulent, with notes of honey-drizzled guava and mango giving way to a slightly astringent, semidry finish.                                                 \n",
       "4  Much like the regular bottling from , this comes across as rather rough and tannic, with rustic, earthy, herbal characteristics. Nonetheless, if you think of it as a pleasantly unfussy country wine, it's a good companion to a hearty winter stew.   \n",
       "\n",
       "   country  \\\n",
       "0  22        \n",
       "1  31        \n",
       "2  40        \n",
       "3  40        \n",
       "4  40        \n",
       "\n",
       "                                                                                                                                                                                                                              clean_description  \\\n",
       "0  Aromas include tropical fruit broom brimstone and dried herb The palate isnt overly expressive offering unripened apple citrus and dried sage alongside brisk acidity                                                                          \n",
       "1  This is ripe and fruity a wine that is smooth while still structured Firm tannins are filled out with juicy red berry fruits and freshened with acidity Its  already drinkable although it will certainly be better from                       \n",
       "2  Tart and snappy the flavors of lime flesh and rind dominate Some green pineapple pokes through with crisp acidity underscoring the flavors The wine was all stainlesssteel fermented                                                           \n",
       "3  Pineapple rind lemon pith and orange blossom start off the aromas The palate is a bit more opulent with notes of honeydrizzled guava and mango giving way to a slightly astringent semidry finish                                              \n",
       "4  Much like the regular bottling from  this comes across as rather rough and tannic with rustic earthy herbal characteristics Nonetheless if you think of it as a pleasantly unfussy country wine its a good companion to a hearty winter stew   \n",
       "\n",
       "                                                                                                                                                                                                                                      des_lower  \\\n",
       "0  aromas include tropical fruit broom brimstone and dried herb the palate isnt overly expressive offering unripened apple citrus and dried sage alongside brisk acidity                                                                          \n",
       "1  this is ripe and fruity a wine that is smooth while still structured firm tannins are filled out with juicy red berry fruits and freshened with acidity its  already drinkable although it will certainly be better from                       \n",
       "2  tart and snappy the flavors of lime flesh and rind dominate some green pineapple pokes through with crisp acidity underscoring the flavors the wine was all stainlesssteel fermented                                                           \n",
       "3  pineapple rind lemon pith and orange blossom start off the aromas the palate is a bit more opulent with notes of honeydrizzled guava and mango giving way to a slightly astringent semidry finish                                              \n",
       "4  much like the regular bottling from  this comes across as rather rough and tannic with rustic earthy herbal characteristics nonetheless if you think of it as a pleasantly unfussy country wine its a good companion to a hearty winter stew   \n",
       "\n",
       "                                                                                                                                                                                                                                                                           des_tokenied  \n",
       "0  [aromas, include, tropical, fruit, broom, brimstone, and, dried, herb, the, palate, isnt, overly, expressive, offering, unripened, apple, citrus, and, dried, sage, alongside, brisk, acidity]                                                                                        \n",
       "1  [this, is, ripe, and, fruity, a, wine, that, is, smooth, while, still, structured, firm, tannins, are, filled, out, with, juicy, red, berry, fruits, and, freshened, with, acidity, its, already, drinkable, although, it, will, certainly, be, better, from]                         \n",
       "2  [tart, and, snappy, the, flavors, of, lime, flesh, and, rind, dominate, some, green, pineapple, pokes, through, with, crisp, acidity, underscoring, the, flavors, the, wine, was, all, stainlesssteel, fermented]                                                                     \n",
       "3  [pineapple, rind, lemon, pith, and, orange, blossom, start, off, the, aromas, the, palate, is, a, bit, more, opulent, with, notes, of, honeydrizzled, guava, and, mango, giving, way, to, a, slightly, astringent, semidry, finish]                                                   \n",
       "4  [much, like, the, regular, bottling, from, this, comes, across, as, rather, rough, and, tannic, with, rustic, earthy, herbal, characteristics, nonetheless, if, you, think, of, it, as, a, pleasantly, unfussy, country, wine, its, a, good, companion, to, a, hearty, winter, stew]  "
      ]
     },
     "execution_count": 72,
     "metadata": {},
     "output_type": "execute_result"
    }
   ],
   "source": [
    "df.head(5)"
   ]
  },
  {
   "cell_type": "markdown",
   "id": "b300edf9",
   "metadata": {},
   "source": [
    "# Stopwords removal: "
   ]
  },
  {
   "cell_type": "code",
   "execution_count": 73,
   "id": "bc921d3e",
   "metadata": {},
   "outputs": [],
   "source": [
    "from nltk.corpus import stopwords \n",
    "stop = set(stopwords.words('english')) \n",
    "def remove_stopword(word): \n",
    "    return word not in words "
   ]
  },
  {
   "cell_type": "code",
   "execution_count": 74,
   "id": "7715ba5c",
   "metadata": {},
   "outputs": [
    {
     "data": {
      "text/plain": [
       "['i', 'me', 'my', 'myself', 'we', 'our', 'ours', 'ourselves', 'you', \"you're\"]"
      ]
     },
     "execution_count": 74,
     "metadata": {},
     "output_type": "execute_result"
    }
   ],
   "source": [
    "#importing nlp library\n",
    "import nltk\n",
    "#Stop words present in the library\n",
    "stopwords = nltk.corpus.stopwords.words('english')\n",
    "stopwords[0:10]"
   ]
  },
  {
   "cell_type": "code",
   "execution_count": 75,
   "id": "1150b50c",
   "metadata": {},
   "outputs": [],
   "source": [
    "#defining the function to remove stopwords from tokenized text\n",
    "def remove_stopwords(word):\n",
    "    output= [i for i in word if i not in stopwords]\n",
    "    return output"
   ]
  },
  {
   "cell_type": "code",
   "execution_count": 76,
   "id": "38d43bd3",
   "metadata": {},
   "outputs": [
    {
     "name": "stderr",
     "output_type": "stream",
     "text": [
      "C:\\Windows\\Temp\\ipykernel_3204\\2680185547.py:2: SettingWithCopyWarning: \n",
      "A value is trying to be set on a copy of a slice from a DataFrame.\n",
      "Try using .loc[row_indexer,col_indexer] = value instead\n",
      "\n",
      "See the caveats in the documentation: https://pandas.pydata.org/pandas-docs/stable/user_guide/indexing.html#returning-a-view-versus-a-copy\n",
      "  df['des_stopwords']= df['des_tokenied'].apply(lambda x:remove_stopwords(x))\n"
     ]
    }
   ],
   "source": [
    "#applying the function\n",
    "df['des_stopwords']= df['des_tokenied'].apply(lambda x:remove_stopwords(x))"
   ]
  },
  {
   "cell_type": "code",
   "execution_count": 77,
   "id": "61ff0bdc",
   "metadata": {},
   "outputs": [
    {
     "data": {
      "text/plain": [
       "0    [aromas, include, tropical, fruit, broom, brimstone, dried, herb, palate, isnt, overly, expressive, offering, unripened, apple, citrus, dried, sage, alongside, brisk, acidity]                              \n",
       "1    [ripe, fruity, wine, smooth, still, structured, firm, tannins, filled, juicy, red, berry, fruits, freshened, acidity, already, drinkable, although, certainly, better]                                       \n",
       "2    [tart, snappy, flavors, lime, flesh, rind, dominate, green, pineapple, pokes, crisp, acidity, underscoring, flavors, wine, stainlesssteel, fermented]                                                        \n",
       "3    [pineapple, rind, lemon, pith, orange, blossom, start, aromas, palate, bit, opulent, notes, honeydrizzled, guava, mango, giving, way, slightly, astringent, semidry, finish]                                 \n",
       "4    [much, like, regular, bottling, comes, across, rather, rough, tannic, rustic, earthy, herbal, characteristics, nonetheless, think, pleasantly, unfussy, country, wine, good, companion, hearty, winter, stew]\n",
       "Name: des_stopwords, dtype: object"
      ]
     },
     "execution_count": 77,
     "metadata": {},
     "output_type": "execute_result"
    }
   ],
   "source": [
    "df['des_stopwords'].head()"
   ]
  },
  {
   "cell_type": "markdown",
   "id": "229fa7e3",
   "metadata": {},
   "source": [
    "# Lemmatization:"
   ]
  },
  {
   "cell_type": "code",
   "execution_count": 78,
   "id": "1e2b0bab",
   "metadata": {},
   "outputs": [],
   "source": [
    "from nltk.stem import WordNetLemmatizer"
   ]
  },
  {
   "cell_type": "code",
   "execution_count": 79,
   "id": "a829e999",
   "metadata": {},
   "outputs": [
    {
     "name": "stderr",
     "output_type": "stream",
     "text": [
      "C:\\Windows\\Temp\\ipykernel_3204\\4109398343.py:2: SettingWithCopyWarning: \n",
      "A value is trying to be set on a copy of a slice from a DataFrame.\n",
      "Try using .loc[row_indexer,col_indexer] = value instead\n",
      "\n",
      "See the caveats in the documentation: https://pandas.pydata.org/pandas-docs/stable/user_guide/indexing.html#returning-a-view-versus-a-copy\n",
      "  df['des_lemmatized'] = df['des_stopwords'].apply(lambda x: [wnl.lemmatize(word) for word in x])\n"
     ]
    },
    {
     "data": {
      "text/html": [
       "<div>\n",
       "<style scoped>\n",
       "    .dataframe tbody tr th:only-of-type {\n",
       "        vertical-align: middle;\n",
       "    }\n",
       "\n",
       "    .dataframe tbody tr th {\n",
       "        vertical-align: top;\n",
       "    }\n",
       "\n",
       "    .dataframe thead th {\n",
       "        text-align: right;\n",
       "    }\n",
       "</style>\n",
       "<table border=\"1\" class=\"dataframe\">\n",
       "  <thead>\n",
       "    <tr style=\"text-align: right;\">\n",
       "      <th></th>\n",
       "      <th>description</th>\n",
       "      <th>country</th>\n",
       "      <th>clean_description</th>\n",
       "      <th>des_lower</th>\n",
       "      <th>des_tokenied</th>\n",
       "      <th>des_stopwords</th>\n",
       "      <th>des_lemmatized</th>\n",
       "    </tr>\n",
       "  </thead>\n",
       "  <tbody>\n",
       "    <tr>\n",
       "      <th>0</th>\n",
       "      <td>Aromas include tropical fruit, broom, brimstone and dried herb. The palate isn't overly expressive, offering unripened apple, citrus and dried sage alongside brisk acidity.</td>\n",
       "      <td>22</td>\n",
       "      <td>Aromas include tropical fruit broom brimstone and dried herb The palate isnt overly expressive offering unripened apple citrus and dried sage alongside brisk acidity</td>\n",
       "      <td>aromas include tropical fruit broom brimstone and dried herb the palate isnt overly expressive offering unripened apple citrus and dried sage alongside brisk acidity</td>\n",
       "      <td>[aromas, include, tropical, fruit, broom, brimstone, and, dried, herb, the, palate, isnt, overly, expressive, offering, unripened, apple, citrus, and, dried, sage, alongside, brisk, acidity]</td>\n",
       "      <td>[aromas, include, tropical, fruit, broom, brimstone, dried, herb, palate, isnt, overly, expressive, offering, unripened, apple, citrus, dried, sage, alongside, brisk, acidity]</td>\n",
       "      <td>[aroma, include, tropical, fruit, broom, brimstone, dried, herb, palate, isnt, overly, expressive, offering, unripened, apple, citrus, dried, sage, alongside, brisk, acidity]</td>\n",
       "    </tr>\n",
       "    <tr>\n",
       "      <th>1</th>\n",
       "      <td>This is ripe and fruity, a wine that is smooth while still structured. Firm tannins are filled out with juicy red berry fruits and freshened with acidity. It's  already drinkable, although it will certainly be better from .</td>\n",
       "      <td>31</td>\n",
       "      <td>This is ripe and fruity a wine that is smooth while still structured Firm tannins are filled out with juicy red berry fruits and freshened with acidity Its  already drinkable although it will certainly be better from</td>\n",
       "      <td>this is ripe and fruity a wine that is smooth while still structured firm tannins are filled out with juicy red berry fruits and freshened with acidity its  already drinkable although it will certainly be better from</td>\n",
       "      <td>[this, is, ripe, and, fruity, a, wine, that, is, smooth, while, still, structured, firm, tannins, are, filled, out, with, juicy, red, berry, fruits, and, freshened, with, acidity, its, already, drinkable, although, it, will, certainly, be, better, from]</td>\n",
       "      <td>[ripe, fruity, wine, smooth, still, structured, firm, tannins, filled, juicy, red, berry, fruits, freshened, acidity, already, drinkable, although, certainly, better]</td>\n",
       "      <td>[ripe, fruity, wine, smooth, still, structured, firm, tannin, filled, juicy, red, berry, fruit, freshened, acidity, already, drinkable, although, certainly, better]</td>\n",
       "    </tr>\n",
       "    <tr>\n",
       "      <th>2</th>\n",
       "      <td>Tart and snappy, the flavors of lime flesh and rind dominate. Some green pineapple pokes through, with crisp acidity underscoring the flavors. The wine was all stainless-steel fermented.</td>\n",
       "      <td>40</td>\n",
       "      <td>Tart and snappy the flavors of lime flesh and rind dominate Some green pineapple pokes through with crisp acidity underscoring the flavors The wine was all stainlesssteel fermented</td>\n",
       "      <td>tart and snappy the flavors of lime flesh and rind dominate some green pineapple pokes through with crisp acidity underscoring the flavors the wine was all stainlesssteel fermented</td>\n",
       "      <td>[tart, and, snappy, the, flavors, of, lime, flesh, and, rind, dominate, some, green, pineapple, pokes, through, with, crisp, acidity, underscoring, the, flavors, the, wine, was, all, stainlesssteel, fermented]</td>\n",
       "      <td>[tart, snappy, flavors, lime, flesh, rind, dominate, green, pineapple, pokes, crisp, acidity, underscoring, flavors, wine, stainlesssteel, fermented]</td>\n",
       "      <td>[tart, snappy, flavor, lime, flesh, rind, dominate, green, pineapple, poke, crisp, acidity, underscoring, flavor, wine, stainlesssteel, fermented]</td>\n",
       "    </tr>\n",
       "    <tr>\n",
       "      <th>3</th>\n",
       "      <td>Pineapple rind, lemon pith and orange blossom start off the aromas. The palate is a bit more opulent, with notes of honey-drizzled guava and mango giving way to a slightly astringent, semidry finish.</td>\n",
       "      <td>40</td>\n",
       "      <td>Pineapple rind lemon pith and orange blossom start off the aromas The palate is a bit more opulent with notes of honeydrizzled guava and mango giving way to a slightly astringent semidry finish</td>\n",
       "      <td>pineapple rind lemon pith and orange blossom start off the aromas the palate is a bit more opulent with notes of honeydrizzled guava and mango giving way to a slightly astringent semidry finish</td>\n",
       "      <td>[pineapple, rind, lemon, pith, and, orange, blossom, start, off, the, aromas, the, palate, is, a, bit, more, opulent, with, notes, of, honeydrizzled, guava, and, mango, giving, way, to, a, slightly, astringent, semidry, finish]</td>\n",
       "      <td>[pineapple, rind, lemon, pith, orange, blossom, start, aromas, palate, bit, opulent, notes, honeydrizzled, guava, mango, giving, way, slightly, astringent, semidry, finish]</td>\n",
       "      <td>[pineapple, rind, lemon, pith, orange, blossom, start, aroma, palate, bit, opulent, note, honeydrizzled, guava, mango, giving, way, slightly, astringent, semidry, finish]</td>\n",
       "    </tr>\n",
       "    <tr>\n",
       "      <th>4</th>\n",
       "      <td>Much like the regular bottling from , this comes across as rather rough and tannic, with rustic, earthy, herbal characteristics. Nonetheless, if you think of it as a pleasantly unfussy country wine, it's a good companion to a hearty winter stew.</td>\n",
       "      <td>40</td>\n",
       "      <td>Much like the regular bottling from  this comes across as rather rough and tannic with rustic earthy herbal characteristics Nonetheless if you think of it as a pleasantly unfussy country wine its a good companion to a hearty winter stew</td>\n",
       "      <td>much like the regular bottling from  this comes across as rather rough and tannic with rustic earthy herbal characteristics nonetheless if you think of it as a pleasantly unfussy country wine its a good companion to a hearty winter stew</td>\n",
       "      <td>[much, like, the, regular, bottling, from, this, comes, across, as, rather, rough, and, tannic, with, rustic, earthy, herbal, characteristics, nonetheless, if, you, think, of, it, as, a, pleasantly, unfussy, country, wine, its, a, good, companion, to, a, hearty, winter, stew]</td>\n",
       "      <td>[much, like, regular, bottling, comes, across, rather, rough, tannic, rustic, earthy, herbal, characteristics, nonetheless, think, pleasantly, unfussy, country, wine, good, companion, hearty, winter, stew]</td>\n",
       "      <td>[much, like, regular, bottling, come, across, rather, rough, tannic, rustic, earthy, herbal, characteristic, nonetheless, think, pleasantly, unfussy, country, wine, good, companion, hearty, winter, stew]</td>\n",
       "    </tr>\n",
       "  </tbody>\n",
       "</table>\n",
       "</div>"
      ],
      "text/plain": [
       "                                                                                                                                                                                                                                             description  \\\n",
       "0  Aromas include tropical fruit, broom, brimstone and dried herb. The palate isn't overly expressive, offering unripened apple, citrus and dried sage alongside brisk acidity.                                                                            \n",
       "1  This is ripe and fruity, a wine that is smooth while still structured. Firm tannins are filled out with juicy red berry fruits and freshened with acidity. It's  already drinkable, although it will certainly be better from .                         \n",
       "2  Tart and snappy, the flavors of lime flesh and rind dominate. Some green pineapple pokes through, with crisp acidity underscoring the flavors. The wine was all stainless-steel fermented.                                                              \n",
       "3  Pineapple rind, lemon pith and orange blossom start off the aromas. The palate is a bit more opulent, with notes of honey-drizzled guava and mango giving way to a slightly astringent, semidry finish.                                                 \n",
       "4  Much like the regular bottling from , this comes across as rather rough and tannic, with rustic, earthy, herbal characteristics. Nonetheless, if you think of it as a pleasantly unfussy country wine, it's a good companion to a hearty winter stew.   \n",
       "\n",
       "   country  \\\n",
       "0  22        \n",
       "1  31        \n",
       "2  40        \n",
       "3  40        \n",
       "4  40        \n",
       "\n",
       "                                                                                                                                                                                                                              clean_description  \\\n",
       "0  Aromas include tropical fruit broom brimstone and dried herb The palate isnt overly expressive offering unripened apple citrus and dried sage alongside brisk acidity                                                                          \n",
       "1  This is ripe and fruity a wine that is smooth while still structured Firm tannins are filled out with juicy red berry fruits and freshened with acidity Its  already drinkable although it will certainly be better from                       \n",
       "2  Tart and snappy the flavors of lime flesh and rind dominate Some green pineapple pokes through with crisp acidity underscoring the flavors The wine was all stainlesssteel fermented                                                           \n",
       "3  Pineapple rind lemon pith and orange blossom start off the aromas The palate is a bit more opulent with notes of honeydrizzled guava and mango giving way to a slightly astringent semidry finish                                              \n",
       "4  Much like the regular bottling from  this comes across as rather rough and tannic with rustic earthy herbal characteristics Nonetheless if you think of it as a pleasantly unfussy country wine its a good companion to a hearty winter stew   \n",
       "\n",
       "                                                                                                                                                                                                                                      des_lower  \\\n",
       "0  aromas include tropical fruit broom brimstone and dried herb the palate isnt overly expressive offering unripened apple citrus and dried sage alongside brisk acidity                                                                          \n",
       "1  this is ripe and fruity a wine that is smooth while still structured firm tannins are filled out with juicy red berry fruits and freshened with acidity its  already drinkable although it will certainly be better from                       \n",
       "2  tart and snappy the flavors of lime flesh and rind dominate some green pineapple pokes through with crisp acidity underscoring the flavors the wine was all stainlesssteel fermented                                                           \n",
       "3  pineapple rind lemon pith and orange blossom start off the aromas the palate is a bit more opulent with notes of honeydrizzled guava and mango giving way to a slightly astringent semidry finish                                              \n",
       "4  much like the regular bottling from  this comes across as rather rough and tannic with rustic earthy herbal characteristics nonetheless if you think of it as a pleasantly unfussy country wine its a good companion to a hearty winter stew   \n",
       "\n",
       "                                                                                                                                                                                                                                                                           des_tokenied  \\\n",
       "0  [aromas, include, tropical, fruit, broom, brimstone, and, dried, herb, the, palate, isnt, overly, expressive, offering, unripened, apple, citrus, and, dried, sage, alongside, brisk, acidity]                                                                                         \n",
       "1  [this, is, ripe, and, fruity, a, wine, that, is, smooth, while, still, structured, firm, tannins, are, filled, out, with, juicy, red, berry, fruits, and, freshened, with, acidity, its, already, drinkable, although, it, will, certainly, be, better, from]                          \n",
       "2  [tart, and, snappy, the, flavors, of, lime, flesh, and, rind, dominate, some, green, pineapple, pokes, through, with, crisp, acidity, underscoring, the, flavors, the, wine, was, all, stainlesssteel, fermented]                                                                      \n",
       "3  [pineapple, rind, lemon, pith, and, orange, blossom, start, off, the, aromas, the, palate, is, a, bit, more, opulent, with, notes, of, honeydrizzled, guava, and, mango, giving, way, to, a, slightly, astringent, semidry, finish]                                                    \n",
       "4  [much, like, the, regular, bottling, from, this, comes, across, as, rather, rough, and, tannic, with, rustic, earthy, herbal, characteristics, nonetheless, if, you, think, of, it, as, a, pleasantly, unfussy, country, wine, its, a, good, companion, to, a, hearty, winter, stew]   \n",
       "\n",
       "                                                                                                                                                                                                   des_stopwords  \\\n",
       "0  [aromas, include, tropical, fruit, broom, brimstone, dried, herb, palate, isnt, overly, expressive, offering, unripened, apple, citrus, dried, sage, alongside, brisk, acidity]                                 \n",
       "1  [ripe, fruity, wine, smooth, still, structured, firm, tannins, filled, juicy, red, berry, fruits, freshened, acidity, already, drinkable, although, certainly, better]                                          \n",
       "2  [tart, snappy, flavors, lime, flesh, rind, dominate, green, pineapple, pokes, crisp, acidity, underscoring, flavors, wine, stainlesssteel, fermented]                                                           \n",
       "3  [pineapple, rind, lemon, pith, orange, blossom, start, aromas, palate, bit, opulent, notes, honeydrizzled, guava, mango, giving, way, slightly, astringent, semidry, finish]                                    \n",
       "4  [much, like, regular, bottling, comes, across, rather, rough, tannic, rustic, earthy, herbal, characteristics, nonetheless, think, pleasantly, unfussy, country, wine, good, companion, hearty, winter, stew]   \n",
       "\n",
       "                                                                                                                                                                                                des_lemmatized  \n",
       "0  [aroma, include, tropical, fruit, broom, brimstone, dried, herb, palate, isnt, overly, expressive, offering, unripened, apple, citrus, dried, sage, alongside, brisk, acidity]                               \n",
       "1  [ripe, fruity, wine, smooth, still, structured, firm, tannin, filled, juicy, red, berry, fruit, freshened, acidity, already, drinkable, although, certainly, better]                                         \n",
       "2  [tart, snappy, flavor, lime, flesh, rind, dominate, green, pineapple, poke, crisp, acidity, underscoring, flavor, wine, stainlesssteel, fermented]                                                           \n",
       "3  [pineapple, rind, lemon, pith, orange, blossom, start, aroma, palate, bit, opulent, note, honeydrizzled, guava, mango, giving, way, slightly, astringent, semidry, finish]                                   \n",
       "4  [much, like, regular, bottling, come, across, rather, rough, tannic, rustic, earthy, herbal, characteristic, nonetheless, think, pleasantly, unfussy, country, wine, good, companion, hearty, winter, stew]  "
      ]
     },
     "execution_count": 79,
     "metadata": {},
     "output_type": "execute_result"
    }
   ],
   "source": [
    "wnl = WordNetLemmatizer()\n",
    "df['des_lemmatized'] = df['des_stopwords'].apply(lambda x: [wnl.lemmatize(word) for word in x])\n",
    "df.head()"
   ]
  },
  {
   "cell_type": "code",
   "execution_count": 80,
   "id": "70b893a9",
   "metadata": {},
   "outputs": [
    {
     "data": {
      "text/plain": [
       "Index(['description', 'country', 'clean_description', 'des_lower',\n",
       "       'des_tokenied', 'des_stopwords', 'des_lemmatized'],\n",
       "      dtype='object')"
      ]
     },
     "execution_count": 80,
     "metadata": {},
     "output_type": "execute_result"
    }
   ],
   "source": [
    "df.columns"
   ]
  },
  {
   "cell_type": "code",
   "execution_count": 81,
   "id": "5f8b4be5",
   "metadata": {},
   "outputs": [
    {
     "name": "stderr",
     "output_type": "stream",
     "text": [
      "C:\\Windows\\Temp\\ipykernel_3204\\3045089038.py:2: SettingWithCopyWarning: \n",
      "A value is trying to be set on a copy of a slice from a DataFrame\n",
      "\n",
      "See the caveats in the documentation: https://pandas.pydata.org/pandas-docs/stable/user_guide/indexing.html#returning-a-view-versus-a-copy\n",
      "  df.drop(['description', 'country', 'clean_description', 'des_lower',\n"
     ]
    }
   ],
   "source": [
    "#dropping columns for the reducation of feature\n",
    "df.drop(['description', 'country', 'clean_description', 'des_lower',\n",
    "       'des_tokenied', 'des_stopwords',],axis=1,inplace=True)"
   ]
  },
  {
   "cell_type": "code",
   "execution_count": 82,
   "id": "e4a5a781",
   "metadata": {},
   "outputs": [
    {
     "data": {
      "text/html": [
       "<div>\n",
       "<style scoped>\n",
       "    .dataframe tbody tr th:only-of-type {\n",
       "        vertical-align: middle;\n",
       "    }\n",
       "\n",
       "    .dataframe tbody tr th {\n",
       "        vertical-align: top;\n",
       "    }\n",
       "\n",
       "    .dataframe thead th {\n",
       "        text-align: right;\n",
       "    }\n",
       "</style>\n",
       "<table border=\"1\" class=\"dataframe\">\n",
       "  <thead>\n",
       "    <tr style=\"text-align: right;\">\n",
       "      <th></th>\n",
       "      <th>des_lemmatized</th>\n",
       "    </tr>\n",
       "  </thead>\n",
       "  <tbody>\n",
       "    <tr>\n",
       "      <th>0</th>\n",
       "      <td>[aroma, include, tropical, fruit, broom, brimstone, dried, herb, palate, isnt, overly, expressive, offering, unripened, apple, citrus, dried, sage, alongside, brisk, acidity]</td>\n",
       "    </tr>\n",
       "    <tr>\n",
       "      <th>1</th>\n",
       "      <td>[ripe, fruity, wine, smooth, still, structured, firm, tannin, filled, juicy, red, berry, fruit, freshened, acidity, already, drinkable, although, certainly, better]</td>\n",
       "    </tr>\n",
       "    <tr>\n",
       "      <th>2</th>\n",
       "      <td>[tart, snappy, flavor, lime, flesh, rind, dominate, green, pineapple, poke, crisp, acidity, underscoring, flavor, wine, stainlesssteel, fermented]</td>\n",
       "    </tr>\n",
       "    <tr>\n",
       "      <th>3</th>\n",
       "      <td>[pineapple, rind, lemon, pith, orange, blossom, start, aroma, palate, bit, opulent, note, honeydrizzled, guava, mango, giving, way, slightly, astringent, semidry, finish]</td>\n",
       "    </tr>\n",
       "    <tr>\n",
       "      <th>4</th>\n",
       "      <td>[much, like, regular, bottling, come, across, rather, rough, tannic, rustic, earthy, herbal, characteristic, nonetheless, think, pleasantly, unfussy, country, wine, good, companion, hearty, winter, stew]</td>\n",
       "    </tr>\n",
       "    <tr>\n",
       "      <th>5</th>\n",
       "      <td>[blackberry, raspberry, aroma, show, typical, navarran, whiff, green, herb, case, horseradish, mouth, fairly, full, bodied, tomatoey, acidity, spicy, herbal, flavor, complement, dark, plum, fruit, finish, fresh, grabby]</td>\n",
       "    </tr>\n",
       "    <tr>\n",
       "      <th>6</th>\n",
       "      <td>[here, bright, informal, red, open, aroma, candied, berry, white, pepper, savory, herb, carry, palate, balanced, fresh, acidity, soft, tannin]</td>\n",
       "    </tr>\n",
       "    <tr>\n",
       "      <th>7</th>\n",
       "      <td>[dry, restrained, wine, offer, spice, profusion, balanced, acidity, firm, texture, much, food]</td>\n",
       "    </tr>\n",
       "    <tr>\n",
       "      <th>8</th>\n",
       "      <td>[savory, dried, thyme, note, accent, sunnier, flavor, preserved, peach, brisk, offdry, wine, fruity, fresh, elegant, sprightly, footprint]</td>\n",
       "    </tr>\n",
       "    <tr>\n",
       "      <th>9</th>\n",
       "      <td>[great, depth, flavor, fresh, apple, pear, fruit, touch, spice, dry, balanced, acidity, crisp, texture, drink]</td>\n",
       "    </tr>\n",
       "  </tbody>\n",
       "</table>\n",
       "</div>"
      ],
      "text/plain": [
       "                                                                                                                                                                                                                des_lemmatized\n",
       "0  [aroma, include, tropical, fruit, broom, brimstone, dried, herb, palate, isnt, overly, expressive, offering, unripened, apple, citrus, dried, sage, alongside, brisk, acidity]                                             \n",
       "1  [ripe, fruity, wine, smooth, still, structured, firm, tannin, filled, juicy, red, berry, fruit, freshened, acidity, already, drinkable, although, certainly, better]                                                       \n",
       "2  [tart, snappy, flavor, lime, flesh, rind, dominate, green, pineapple, poke, crisp, acidity, underscoring, flavor, wine, stainlesssteel, fermented]                                                                         \n",
       "3  [pineapple, rind, lemon, pith, orange, blossom, start, aroma, palate, bit, opulent, note, honeydrizzled, guava, mango, giving, way, slightly, astringent, semidry, finish]                                                 \n",
       "4  [much, like, regular, bottling, come, across, rather, rough, tannic, rustic, earthy, herbal, characteristic, nonetheless, think, pleasantly, unfussy, country, wine, good, companion, hearty, winter, stew]                \n",
       "5  [blackberry, raspberry, aroma, show, typical, navarran, whiff, green, herb, case, horseradish, mouth, fairly, full, bodied, tomatoey, acidity, spicy, herbal, flavor, complement, dark, plum, fruit, finish, fresh, grabby]\n",
       "6  [here, bright, informal, red, open, aroma, candied, berry, white, pepper, savory, herb, carry, palate, balanced, fresh, acidity, soft, tannin]                                                                             \n",
       "7  [dry, restrained, wine, offer, spice, profusion, balanced, acidity, firm, texture, much, food]                                                                                                                             \n",
       "8  [savory, dried, thyme, note, accent, sunnier, flavor, preserved, peach, brisk, offdry, wine, fruity, fresh, elegant, sprightly, footprint]                                                                                 \n",
       "9  [great, depth, flavor, fresh, apple, pear, fruit, touch, spice, dry, balanced, acidity, crisp, texture, drink]                                                                                                             "
      ]
     },
     "execution_count": 82,
     "metadata": {},
     "output_type": "execute_result"
    }
   ],
   "source": [
    "df.head(10)"
   ]
  },
  {
   "cell_type": "code",
   "execution_count": 83,
   "id": "8930348a",
   "metadata": {},
   "outputs": [],
   "source": [
    "data=pd.concat([data,df],join='outer',axis=1)\n"
   ]
  },
  {
   "cell_type": "code",
   "execution_count": 84,
   "id": "06cfe8d8",
   "metadata": {},
   "outputs": [
    {
     "data": {
      "text/html": [
       "<div>\n",
       "<style scoped>\n",
       "    .dataframe tbody tr th:only-of-type {\n",
       "        vertical-align: middle;\n",
       "    }\n",
       "\n",
       "    .dataframe tbody tr th {\n",
       "        vertical-align: top;\n",
       "    }\n",
       "\n",
       "    .dataframe thead th {\n",
       "        text-align: right;\n",
       "    }\n",
       "</style>\n",
       "<table border=\"1\" class=\"dataframe\">\n",
       "  <thead>\n",
       "    <tr style=\"text-align: right;\">\n",
       "      <th></th>\n",
       "      <th>country</th>\n",
       "      <th>description</th>\n",
       "      <th>points</th>\n",
       "      <th>price</th>\n",
       "      <th>province</th>\n",
       "      <th>title</th>\n",
       "      <th>variety</th>\n",
       "      <th>winery</th>\n",
       "      <th>quality</th>\n",
       "      <th>priceRange</th>\n",
       "      <th>des_lemmatized</th>\n",
       "    </tr>\n",
       "  </thead>\n",
       "  <tbody>\n",
       "    <tr>\n",
       "      <th>0</th>\n",
       "      <td>22</td>\n",
       "      <td>Aromas include tropical fruit, broom, brimstone and dried herb. The palate isn't overly expressive, offering unripened apple, citrus and dried sage alongside brisk acidity.</td>\n",
       "      <td>87</td>\n",
       "      <td>25.0</td>\n",
       "      <td>331</td>\n",
       "      <td>5632</td>\n",
       "      <td>686</td>\n",
       "      <td>11382</td>\n",
       "      <td>3</td>\n",
       "      <td>1-30</td>\n",
       "      <td>[aroma, include, tropical, fruit, broom, brimstone, dried, herb, palate, isnt, overly, expressive, offering, unripened, apple, citrus, dried, sage, alongside, brisk, acidity]</td>\n",
       "    </tr>\n",
       "    <tr>\n",
       "      <th>1</th>\n",
       "      <td>31</td>\n",
       "      <td>This is ripe and fruity, a wine that is smooth while still structured. Firm tannins are filled out with juicy red berry fruits and freshened with acidity. It's  already drinkable, although it will certainly be better from 2016.</td>\n",
       "      <td>87</td>\n",
       "      <td>15.0</td>\n",
       "      <td>108</td>\n",
       "      <td>5529</td>\n",
       "      <td>449</td>\n",
       "      <td>12690</td>\n",
       "      <td>3</td>\n",
       "      <td>1-30</td>\n",
       "      <td>[ripe, fruity, wine, smooth, still, structured, firm, tannin, filled, juicy, red, berry, fruit, freshened, acidity, already, drinkable, although, certainly, better]</td>\n",
       "    </tr>\n",
       "    <tr>\n",
       "      <th>2</th>\n",
       "      <td>40</td>\n",
       "      <td>Tart and snappy, the flavors of lime flesh and rind dominate. Some green pineapple pokes through, with crisp acidity underscoring the flavors. The wine was all stainless-steel fermented.</td>\n",
       "      <td>87</td>\n",
       "      <td>14.0</td>\n",
       "      <td>268</td>\n",
       "      <td>10199</td>\n",
       "      <td>435</td>\n",
       "      <td>12752</td>\n",
       "      <td>3</td>\n",
       "      <td>1-30</td>\n",
       "      <td>[tart, snappy, flavor, lime, flesh, rind, dominate, green, pineapple, poke, crisp, acidity, underscoring, flavor, wine, stainlesssteel, fermented]</td>\n",
       "    </tr>\n",
       "    <tr>\n",
       "      <th>3</th>\n",
       "      <td>40</td>\n",
       "      <td>Pineapple rind, lemon pith and orange blossom start off the aromas. The palate is a bit more opulent, with notes of honey-drizzled guava and mango giving way to a slightly astringent, semidry finish.</td>\n",
       "      <td>87</td>\n",
       "      <td>13.0</td>\n",
       "      <td>218</td>\n",
       "      <td>6853</td>\n",
       "      <td>477</td>\n",
       "      <td>14094</td>\n",
       "      <td>3</td>\n",
       "      <td>1-30</td>\n",
       "      <td>[pineapple, rind, lemon, pith, orange, blossom, start, aroma, palate, bit, opulent, note, honeydrizzled, guava, mango, giving, way, slightly, astringent, semidry, finish]</td>\n",
       "    </tr>\n",
       "    <tr>\n",
       "      <th>4</th>\n",
       "      <td>40</td>\n",
       "      <td>Much like the regular bottling from 2012, this comes across as rather rough and tannic, with rustic, earthy, herbal characteristics. Nonetheless, if you think of it as a pleasantly unfussy country wine, it's a good companion to a hearty winter stew.</td>\n",
       "      <td>87</td>\n",
       "      <td>65.0</td>\n",
       "      <td>268</td>\n",
       "      <td>10199</td>\n",
       "      <td>439</td>\n",
       "      <td>14322</td>\n",
       "      <td>3</td>\n",
       "      <td>51-100</td>\n",
       "      <td>[much, like, regular, bottling, come, across, rather, rough, tannic, rustic, earthy, herbal, characteristic, nonetheless, think, pleasantly, unfussy, country, wine, good, companion, hearty, winter, stew]</td>\n",
       "    </tr>\n",
       "  </tbody>\n",
       "</table>\n",
       "</div>"
      ],
      "text/plain": [
       "   country  \\\n",
       "0  22        \n",
       "1  31        \n",
       "2  40        \n",
       "3  40        \n",
       "4  40        \n",
       "\n",
       "                                                                                                                                                                                                                                                 description  \\\n",
       "0  Aromas include tropical fruit, broom, brimstone and dried herb. The palate isn't overly expressive, offering unripened apple, citrus and dried sage alongside brisk acidity.                                                                                \n",
       "1  This is ripe and fruity, a wine that is smooth while still structured. Firm tannins are filled out with juicy red berry fruits and freshened with acidity. It's  already drinkable, although it will certainly be better from 2016.                         \n",
       "2  Tart and snappy, the flavors of lime flesh and rind dominate. Some green pineapple pokes through, with crisp acidity underscoring the flavors. The wine was all stainless-steel fermented.                                                                  \n",
       "3  Pineapple rind, lemon pith and orange blossom start off the aromas. The palate is a bit more opulent, with notes of honey-drizzled guava and mango giving way to a slightly astringent, semidry finish.                                                     \n",
       "4  Much like the regular bottling from 2012, this comes across as rather rough and tannic, with rustic, earthy, herbal characteristics. Nonetheless, if you think of it as a pleasantly unfussy country wine, it's a good companion to a hearty winter stew.   \n",
       "\n",
       "   points  price  province  title  variety  winery  quality priceRange  \\\n",
       "0  87      25.0   331       5632   686      11382   3        1-30        \n",
       "1  87      15.0   108       5529   449      12690   3        1-30        \n",
       "2  87      14.0   268       10199  435      12752   3        1-30        \n",
       "3  87      13.0   218       6853   477      14094   3        1-30        \n",
       "4  87      65.0   268       10199  439      14322   3        51-100      \n",
       "\n",
       "                                                                                                                                                                                                des_lemmatized  \n",
       "0  [aroma, include, tropical, fruit, broom, brimstone, dried, herb, palate, isnt, overly, expressive, offering, unripened, apple, citrus, dried, sage, alongside, brisk, acidity]                               \n",
       "1  [ripe, fruity, wine, smooth, still, structured, firm, tannin, filled, juicy, red, berry, fruit, freshened, acidity, already, drinkable, although, certainly, better]                                         \n",
       "2  [tart, snappy, flavor, lime, flesh, rind, dominate, green, pineapple, poke, crisp, acidity, underscoring, flavor, wine, stainlesssteel, fermented]                                                           \n",
       "3  [pineapple, rind, lemon, pith, orange, blossom, start, aroma, palate, bit, opulent, note, honeydrizzled, guava, mango, giving, way, slightly, astringent, semidry, finish]                                   \n",
       "4  [much, like, regular, bottling, come, across, rather, rough, tannic, rustic, earthy, herbal, characteristic, nonetheless, think, pleasantly, unfussy, country, wine, good, companion, hearty, winter, stew]  "
      ]
     },
     "execution_count": 84,
     "metadata": {},
     "output_type": "execute_result"
    }
   ],
   "source": [
    "data.head()"
   ]
  },
  {
   "cell_type": "code",
   "execution_count": 85,
   "id": "4593086f",
   "metadata": {},
   "outputs": [],
   "source": [
    "#dropping the column for vectorize\n",
    "data.drop(['description'],axis=1,inplace=True)"
   ]
  },
  {
   "cell_type": "code",
   "execution_count": 86,
   "id": "86791ed7",
   "metadata": {},
   "outputs": [
    {
     "data": {
      "text/html": [
       "<div>\n",
       "<style scoped>\n",
       "    .dataframe tbody tr th:only-of-type {\n",
       "        vertical-align: middle;\n",
       "    }\n",
       "\n",
       "    .dataframe tbody tr th {\n",
       "        vertical-align: top;\n",
       "    }\n",
       "\n",
       "    .dataframe thead th {\n",
       "        text-align: right;\n",
       "    }\n",
       "</style>\n",
       "<table border=\"1\" class=\"dataframe\">\n",
       "  <thead>\n",
       "    <tr style=\"text-align: right;\">\n",
       "      <th></th>\n",
       "      <th>country</th>\n",
       "      <th>points</th>\n",
       "      <th>price</th>\n",
       "      <th>province</th>\n",
       "      <th>title</th>\n",
       "      <th>variety</th>\n",
       "      <th>winery</th>\n",
       "      <th>quality</th>\n",
       "      <th>priceRange</th>\n",
       "      <th>des_lemmatized</th>\n",
       "    </tr>\n",
       "  </thead>\n",
       "  <tbody>\n",
       "    <tr>\n",
       "      <th>0</th>\n",
       "      <td>22</td>\n",
       "      <td>87</td>\n",
       "      <td>25.0</td>\n",
       "      <td>331</td>\n",
       "      <td>5632</td>\n",
       "      <td>686</td>\n",
       "      <td>11382</td>\n",
       "      <td>3</td>\n",
       "      <td>1-30</td>\n",
       "      <td>[aroma, include, tropical, fruit, broom, brimstone, dried, herb, palate, isnt, overly, expressive, offering, unripened, apple, citrus, dried, sage, alongside, brisk, acidity]</td>\n",
       "    </tr>\n",
       "    <tr>\n",
       "      <th>1</th>\n",
       "      <td>31</td>\n",
       "      <td>87</td>\n",
       "      <td>15.0</td>\n",
       "      <td>108</td>\n",
       "      <td>5529</td>\n",
       "      <td>449</td>\n",
       "      <td>12690</td>\n",
       "      <td>3</td>\n",
       "      <td>1-30</td>\n",
       "      <td>[ripe, fruity, wine, smooth, still, structured, firm, tannin, filled, juicy, red, berry, fruit, freshened, acidity, already, drinkable, although, certainly, better]</td>\n",
       "    </tr>\n",
       "    <tr>\n",
       "      <th>2</th>\n",
       "      <td>40</td>\n",
       "      <td>87</td>\n",
       "      <td>14.0</td>\n",
       "      <td>268</td>\n",
       "      <td>10199</td>\n",
       "      <td>435</td>\n",
       "      <td>12752</td>\n",
       "      <td>3</td>\n",
       "      <td>1-30</td>\n",
       "      <td>[tart, snappy, flavor, lime, flesh, rind, dominate, green, pineapple, poke, crisp, acidity, underscoring, flavor, wine, stainlesssteel, fermented]</td>\n",
       "    </tr>\n",
       "    <tr>\n",
       "      <th>3</th>\n",
       "      <td>40</td>\n",
       "      <td>87</td>\n",
       "      <td>13.0</td>\n",
       "      <td>218</td>\n",
       "      <td>6853</td>\n",
       "      <td>477</td>\n",
       "      <td>14094</td>\n",
       "      <td>3</td>\n",
       "      <td>1-30</td>\n",
       "      <td>[pineapple, rind, lemon, pith, orange, blossom, start, aroma, palate, bit, opulent, note, honeydrizzled, guava, mango, giving, way, slightly, astringent, semidry, finish]</td>\n",
       "    </tr>\n",
       "    <tr>\n",
       "      <th>4</th>\n",
       "      <td>40</td>\n",
       "      <td>87</td>\n",
       "      <td>65.0</td>\n",
       "      <td>268</td>\n",
       "      <td>10199</td>\n",
       "      <td>439</td>\n",
       "      <td>14322</td>\n",
       "      <td>3</td>\n",
       "      <td>51-100</td>\n",
       "      <td>[much, like, regular, bottling, come, across, rather, rough, tannic, rustic, earthy, herbal, characteristic, nonetheless, think, pleasantly, unfussy, country, wine, good, companion, hearty, winter, stew]</td>\n",
       "    </tr>\n",
       "  </tbody>\n",
       "</table>\n",
       "</div>"
      ],
      "text/plain": [
       "   country  points  price  province  title  variety  winery  quality  \\\n",
       "0  22       87      25.0   331       5632   686      11382   3         \n",
       "1  31       87      15.0   108       5529   449      12690   3         \n",
       "2  40       87      14.0   268       10199  435      12752   3         \n",
       "3  40       87      13.0   218       6853   477      14094   3         \n",
       "4  40       87      65.0   268       10199  439      14322   3         \n",
       "\n",
       "  priceRange  \\\n",
       "0  1-30        \n",
       "1  1-30        \n",
       "2  1-30        \n",
       "3  1-30        \n",
       "4  51-100      \n",
       "\n",
       "                                                                                                                                                                                                des_lemmatized  \n",
       "0  [aroma, include, tropical, fruit, broom, brimstone, dried, herb, palate, isnt, overly, expressive, offering, unripened, apple, citrus, dried, sage, alongside, brisk, acidity]                               \n",
       "1  [ripe, fruity, wine, smooth, still, structured, firm, tannin, filled, juicy, red, berry, fruit, freshened, acidity, already, drinkable, although, certainly, better]                                         \n",
       "2  [tart, snappy, flavor, lime, flesh, rind, dominate, green, pineapple, poke, crisp, acidity, underscoring, flavor, wine, stainlesssteel, fermented]                                                           \n",
       "3  [pineapple, rind, lemon, pith, orange, blossom, start, aroma, palate, bit, opulent, note, honeydrizzled, guava, mango, giving, way, slightly, astringent, semidry, finish]                                   \n",
       "4  [much, like, regular, bottling, come, across, rather, rough, tannic, rustic, earthy, herbal, characteristic, nonetheless, think, pleasantly, unfussy, country, wine, good, companion, hearty, winter, stew]  "
      ]
     },
     "execution_count": 86,
     "metadata": {},
     "output_type": "execute_result"
    }
   ],
   "source": [
    "data.head(5)"
   ]
  },
  {
   "cell_type": "code",
   "execution_count": 87,
   "id": "3356d6a5",
   "metadata": {},
   "outputs": [
    {
     "data": {
      "text/plain": [
       "(120912, 10)"
      ]
     },
     "execution_count": 87,
     "metadata": {},
     "output_type": "execute_result"
    }
   ],
   "source": [
    "data.shape"
   ]
  },
  {
   "cell_type": "markdown",
   "id": "85805cff",
   "metadata": {},
   "source": [
    "# Word count"
   ]
  },
  {
   "cell_type": "code",
   "execution_count": 88,
   "id": "ac133635",
   "metadata": {},
   "outputs": [
    {
     "data": {
      "text/plain": [
       "{'wine': 75616,\n",
       " 'flavor': 64774,\n",
       " 'fruit': 54152,\n",
       " 'aroma': 38296,\n",
       " 'finish': 36164,\n",
       " 'palate': 35567,\n",
       " 'acidity': 32823,\n",
       " 'tannin': 28899,\n",
       " 'cherry': 28752,\n",
       " 'drink': 27326,\n",
       " 'ripe': 24763,\n",
       " 'note': 23334,\n",
       " 'black': 22318,\n",
       " 'spice': 19860,\n",
       " 'red': 17658}"
      ]
     },
     "execution_count": 88,
     "metadata": {},
     "output_type": "execute_result"
    }
   ],
   "source": [
    "from collections import Counter\n",
    "\n",
    "description_str_all = ' '.join(data['des_lemmatized'].str.join(' ').tolist())\n",
    "counter = Counter(description_str_all.split())\n",
    "counter = dict(sorted(counter.items(), key=lambda item: item[1], reverse=True)[:15])\n",
    "counter"
   ]
  },
  {
   "cell_type": "code",
   "execution_count": 89,
   "id": "1df1a8d8",
   "metadata": {},
   "outputs": [
    {
     "data": {
      "image/png": "[encoded data removed]",
      "text/plain": [
       "<Figure size 648x432 with 1 Axes>"
      ]
     },
     "metadata": {
      "needs_background": "light"
     },
     "output_type": "display_data"
    }
   ],
   "source": [
    "plt.figure(figsize=(9, 6))\n",
    "sns.barplot(y=list(counter.keys()), x=list(counter.values()));"
   ]
  },
  {
   "cell_type": "code",
   "execution_count": 90,
   "id": "66da85d7",
   "metadata": {},
   "outputs": [],
   "source": [
    "# to avoid the type error removed the [] and , in count vectorization\n",
    "data['des_lemmatized'] = data['des_lemmatized'].apply(lambda x: \" \".join(x) )"
   ]
  },
  {
   "cell_type": "code",
   "execution_count": 91,
   "id": "4b376f23",
   "metadata": {},
   "outputs": [],
   "source": [
    "#this help us from value error\n",
    "data['des_lemmatized'] = data['des_lemmatized'].astype(str)"
   ]
  },
  {
   "cell_type": "code",
   "execution_count": 92,
   "id": "f0e410e4",
   "metadata": {},
   "outputs": [
    {
     "data": {
      "text/html": [
       "<div>\n",
       "<style scoped>\n",
       "    .dataframe tbody tr th:only-of-type {\n",
       "        vertical-align: middle;\n",
       "    }\n",
       "\n",
       "    .dataframe tbody tr th {\n",
       "        vertical-align: top;\n",
       "    }\n",
       "\n",
       "    .dataframe thead th {\n",
       "        text-align: right;\n",
       "    }\n",
       "</style>\n",
       "<table border=\"1\" class=\"dataframe\">\n",
       "  <thead>\n",
       "    <tr style=\"text-align: right;\">\n",
       "      <th></th>\n",
       "      <th>country</th>\n",
       "      <th>points</th>\n",
       "      <th>price</th>\n",
       "      <th>province</th>\n",
       "      <th>title</th>\n",
       "      <th>variety</th>\n",
       "      <th>winery</th>\n",
       "      <th>quality</th>\n",
       "      <th>priceRange</th>\n",
       "      <th>des_lemmatized</th>\n",
       "    </tr>\n",
       "  </thead>\n",
       "  <tbody>\n",
       "    <tr>\n",
       "      <th>0</th>\n",
       "      <td>22</td>\n",
       "      <td>87</td>\n",
       "      <td>25.0</td>\n",
       "      <td>331</td>\n",
       "      <td>5632</td>\n",
       "      <td>686</td>\n",
       "      <td>11382</td>\n",
       "      <td>3</td>\n",
       "      <td>1-30</td>\n",
       "      <td>aroma include tropical fruit broom brimstone dried herb palate isnt overly expressive offering unripened apple citrus dried sage alongside brisk acidity</td>\n",
       "    </tr>\n",
       "    <tr>\n",
       "      <th>1</th>\n",
       "      <td>31</td>\n",
       "      <td>87</td>\n",
       "      <td>15.0</td>\n",
       "      <td>108</td>\n",
       "      <td>5529</td>\n",
       "      <td>449</td>\n",
       "      <td>12690</td>\n",
       "      <td>3</td>\n",
       "      <td>1-30</td>\n",
       "      <td>ripe fruity wine smooth still structured firm tannin filled juicy red berry fruit freshened acidity already drinkable although certainly better</td>\n",
       "    </tr>\n",
       "    <tr>\n",
       "      <th>2</th>\n",
       "      <td>40</td>\n",
       "      <td>87</td>\n",
       "      <td>14.0</td>\n",
       "      <td>268</td>\n",
       "      <td>10199</td>\n",
       "      <td>435</td>\n",
       "      <td>12752</td>\n",
       "      <td>3</td>\n",
       "      <td>1-30</td>\n",
       "      <td>tart snappy flavor lime flesh rind dominate green pineapple poke crisp acidity underscoring flavor wine stainlesssteel fermented</td>\n",
       "    </tr>\n",
       "    <tr>\n",
       "      <th>3</th>\n",
       "      <td>40</td>\n",
       "      <td>87</td>\n",
       "      <td>13.0</td>\n",
       "      <td>218</td>\n",
       "      <td>6853</td>\n",
       "      <td>477</td>\n",
       "      <td>14094</td>\n",
       "      <td>3</td>\n",
       "      <td>1-30</td>\n",
       "      <td>pineapple rind lemon pith orange blossom start aroma palate bit opulent note honeydrizzled guava mango giving way slightly astringent semidry finish</td>\n",
       "    </tr>\n",
       "    <tr>\n",
       "      <th>4</th>\n",
       "      <td>40</td>\n",
       "      <td>87</td>\n",
       "      <td>65.0</td>\n",
       "      <td>268</td>\n",
       "      <td>10199</td>\n",
       "      <td>439</td>\n",
       "      <td>14322</td>\n",
       "      <td>3</td>\n",
       "      <td>51-100</td>\n",
       "      <td>much like regular bottling come across rather rough tannic rustic earthy herbal characteristic nonetheless think pleasantly unfussy country wine good companion hearty winter stew</td>\n",
       "    </tr>\n",
       "  </tbody>\n",
       "</table>\n",
       "</div>"
      ],
      "text/plain": [
       "   country  points  price  province  title  variety  winery  quality  \\\n",
       "0  22       87      25.0   331       5632   686      11382   3         \n",
       "1  31       87      15.0   108       5529   449      12690   3         \n",
       "2  40       87      14.0   268       10199  435      12752   3         \n",
       "3  40       87      13.0   218       6853   477      14094   3         \n",
       "4  40       87      65.0   268       10199  439      14322   3         \n",
       "\n",
       "  priceRange  \\\n",
       "0  1-30        \n",
       "1  1-30        \n",
       "2  1-30        \n",
       "3  1-30        \n",
       "4  51-100      \n",
       "\n",
       "                                                                                                                                                                       des_lemmatized  \n",
       "0  aroma include tropical fruit broom brimstone dried herb palate isnt overly expressive offering unripened apple citrus dried sage alongside brisk acidity                            \n",
       "1  ripe fruity wine smooth still structured firm tannin filled juicy red berry fruit freshened acidity already drinkable although certainly better                                     \n",
       "2  tart snappy flavor lime flesh rind dominate green pineapple poke crisp acidity underscoring flavor wine stainlesssteel fermented                                                    \n",
       "3  pineapple rind lemon pith orange blossom start aroma palate bit opulent note honeydrizzled guava mango giving way slightly astringent semidry finish                                \n",
       "4  much like regular bottling come across rather rough tannic rustic earthy herbal characteristic nonetheless think pleasantly unfussy country wine good companion hearty winter stew  "
      ]
     },
     "execution_count": 92,
     "metadata": {},
     "output_type": "execute_result"
    }
   ],
   "source": [
    "data.head()"
   ]
  },
  {
   "cell_type": "markdown",
   "id": "d4b683e3",
   "metadata": {},
   "source": [
    "# Splitting the data"
   ]
  },
  {
   "cell_type": "code",
   "execution_count": 93,
   "id": "dd73ed58",
   "metadata": {},
   "outputs": [],
   "source": [
    "x=data.drop(['quality'],axis=1)\n",
    "target=data['quality']"
   ]
  },
  {
   "cell_type": "code",
   "execution_count": 94,
   "id": "18f0b7ce",
   "metadata": {},
   "outputs": [
    {
     "data": {
      "text/html": [
       "<div>\n",
       "<style scoped>\n",
       "    .dataframe tbody tr th:only-of-type {\n",
       "        vertical-align: middle;\n",
       "    }\n",
       "\n",
       "    .dataframe tbody tr th {\n",
       "        vertical-align: top;\n",
       "    }\n",
       "\n",
       "    .dataframe thead th {\n",
       "        text-align: right;\n",
       "    }\n",
       "</style>\n",
       "<table border=\"1\" class=\"dataframe\">\n",
       "  <thead>\n",
       "    <tr style=\"text-align: right;\">\n",
       "      <th></th>\n",
       "      <th>country</th>\n",
       "      <th>points</th>\n",
       "      <th>price</th>\n",
       "      <th>province</th>\n",
       "      <th>title</th>\n",
       "      <th>variety</th>\n",
       "      <th>winery</th>\n",
       "      <th>priceRange</th>\n",
       "      <th>des_lemmatized</th>\n",
       "    </tr>\n",
       "  </thead>\n",
       "  <tbody>\n",
       "    <tr>\n",
       "      <th>0</th>\n",
       "      <td>22</td>\n",
       "      <td>87</td>\n",
       "      <td>25.0</td>\n",
       "      <td>331</td>\n",
       "      <td>5632</td>\n",
       "      <td>686</td>\n",
       "      <td>11382</td>\n",
       "      <td>1-30</td>\n",
       "      <td>aroma include tropical fruit broom brimstone dried herb palate isnt overly expressive offering unripened apple citrus dried sage alongside brisk acidity</td>\n",
       "    </tr>\n",
       "    <tr>\n",
       "      <th>1</th>\n",
       "      <td>31</td>\n",
       "      <td>87</td>\n",
       "      <td>15.0</td>\n",
       "      <td>108</td>\n",
       "      <td>5529</td>\n",
       "      <td>449</td>\n",
       "      <td>12690</td>\n",
       "      <td>1-30</td>\n",
       "      <td>ripe fruity wine smooth still structured firm tannin filled juicy red berry fruit freshened acidity already drinkable although certainly better</td>\n",
       "    </tr>\n",
       "    <tr>\n",
       "      <th>2</th>\n",
       "      <td>40</td>\n",
       "      <td>87</td>\n",
       "      <td>14.0</td>\n",
       "      <td>268</td>\n",
       "      <td>10199</td>\n",
       "      <td>435</td>\n",
       "      <td>12752</td>\n",
       "      <td>1-30</td>\n",
       "      <td>tart snappy flavor lime flesh rind dominate green pineapple poke crisp acidity underscoring flavor wine stainlesssteel fermented</td>\n",
       "    </tr>\n",
       "    <tr>\n",
       "      <th>3</th>\n",
       "      <td>40</td>\n",
       "      <td>87</td>\n",
       "      <td>13.0</td>\n",
       "      <td>218</td>\n",
       "      <td>6853</td>\n",
       "      <td>477</td>\n",
       "      <td>14094</td>\n",
       "      <td>1-30</td>\n",
       "      <td>pineapple rind lemon pith orange blossom start aroma palate bit opulent note honeydrizzled guava mango giving way slightly astringent semidry finish</td>\n",
       "    </tr>\n",
       "    <tr>\n",
       "      <th>4</th>\n",
       "      <td>40</td>\n",
       "      <td>87</td>\n",
       "      <td>65.0</td>\n",
       "      <td>268</td>\n",
       "      <td>10199</td>\n",
       "      <td>439</td>\n",
       "      <td>14322</td>\n",
       "      <td>51-100</td>\n",
       "      <td>much like regular bottling come across rather rough tannic rustic earthy herbal characteristic nonetheless think pleasantly unfussy country wine good companion hearty winter stew</td>\n",
       "    </tr>\n",
       "    <tr>\n",
       "      <th>...</th>\n",
       "      <td>...</td>\n",
       "      <td>...</td>\n",
       "      <td>...</td>\n",
       "      <td>...</td>\n",
       "      <td>...</td>\n",
       "      <td>...</td>\n",
       "      <td>...</td>\n",
       "      <td>...</td>\n",
       "      <td>...</td>\n",
       "    </tr>\n",
       "    <tr>\n",
       "      <th>129965</th>\n",
       "      <td>15</td>\n",
       "      <td>90</td>\n",
       "      <td>28.0</td>\n",
       "      <td>11</td>\n",
       "      <td>167</td>\n",
       "      <td>435</td>\n",
       "      <td>5984</td>\n",
       "      <td>1-30</td>\n",
       "      <td>rich beautiful dry wine also offer considerable freshness acidity cut easily ripe white fruit pear red apple allowing room spice provides contrasting aftertaste</td>\n",
       "    </tr>\n",
       "    <tr>\n",
       "      <th>129966</th>\n",
       "      <td>17</td>\n",
       "      <td>90</td>\n",
       "      <td>28.0</td>\n",
       "      <td>232</td>\n",
       "      <td>7713</td>\n",
       "      <td>477</td>\n",
       "      <td>6518</td>\n",
       "      <td>1-30</td>\n",
       "      <td>note honeysuckle cantaloupe sweeten deliciously featherlight spätlese intensely juicy quenching palate stream tart tangerine grapefruit acidity yet wrap kiss honey peach</td>\n",
       "    </tr>\n",
       "    <tr>\n",
       "      <th>129968</th>\n",
       "      <td>15</td>\n",
       "      <td>90</td>\n",
       "      <td>30.0</td>\n",
       "      <td>11</td>\n",
       "      <td>167</td>\n",
       "      <td>208</td>\n",
       "      <td>5818</td>\n",
       "      <td>1-30</td>\n",
       "      <td>welldrained gravel soil give wine crisp dry character ripe fruity although spice subdued favor serious structure wine age couple year drink</td>\n",
       "    </tr>\n",
       "    <tr>\n",
       "      <th>129969</th>\n",
       "      <td>15</td>\n",
       "      <td>90</td>\n",
       "      <td>32.0</td>\n",
       "      <td>11</td>\n",
       "      <td>167</td>\n",
       "      <td>435</td>\n",
       "      <td>5913</td>\n",
       "      <td>31-50</td>\n",
       "      <td>dry style pinot gris crisp acidity also weight solid powerful core spice baked apple flavor structure still developing wine need age drink</td>\n",
       "    </tr>\n",
       "    <tr>\n",
       "      <th>129970</th>\n",
       "      <td>15</td>\n",
       "      <td>90</td>\n",
       "      <td>21.0</td>\n",
       "      <td>11</td>\n",
       "      <td>167</td>\n",
       "      <td>208</td>\n",
       "      <td>6025</td>\n",
       "      <td>1-30</td>\n",
       "      <td>big rich offdry powered intense spiciness rounded texture lychee dominate fruit profile giving opulent feel aftertaste drink</td>\n",
       "    </tr>\n",
       "  </tbody>\n",
       "</table>\n",
       "<p>120912 rows × 9 columns</p>\n",
       "</div>"
      ],
      "text/plain": [
       "        country  points  price  province  title  variety  winery priceRange  \\\n",
       "0       22       87      25.0   331       5632   686      11382   1-30        \n",
       "1       31       87      15.0   108       5529   449      12690   1-30        \n",
       "2       40       87      14.0   268       10199  435      12752   1-30        \n",
       "3       40       87      13.0   218       6853   477      14094   1-30        \n",
       "4       40       87      65.0   268       10199  439      14322   51-100      \n",
       "...     ..       ..       ...   ...         ...  ...        ...      ...      \n",
       "129965  15       90      28.0   11        167    435      5984    1-30        \n",
       "129966  17       90      28.0   232       7713   477      6518    1-30        \n",
       "129968  15       90      30.0   11        167    208      5818    1-30        \n",
       "129969  15       90      32.0   11        167    435      5913    31-50       \n",
       "129970  15       90      21.0   11        167    208      6025    1-30        \n",
       "\n",
       "                                                                                                                                                                            des_lemmatized  \n",
       "0       aroma include tropical fruit broom brimstone dried herb palate isnt overly expressive offering unripened apple citrus dried sage alongside brisk acidity                            \n",
       "1       ripe fruity wine smooth still structured firm tannin filled juicy red berry fruit freshened acidity already drinkable although certainly better                                     \n",
       "2       tart snappy flavor lime flesh rind dominate green pineapple poke crisp acidity underscoring flavor wine stainlesssteel fermented                                                    \n",
       "3       pineapple rind lemon pith orange blossom start aroma palate bit opulent note honeydrizzled guava mango giving way slightly astringent semidry finish                                \n",
       "4       much like regular bottling come across rather rough tannic rustic earthy herbal characteristic nonetheless think pleasantly unfussy country wine good companion hearty winter stew  \n",
       "...                                                                                                                                                                                    ...  \n",
       "129965  rich beautiful dry wine also offer considerable freshness acidity cut easily ripe white fruit pear red apple allowing room spice provides contrasting aftertaste                    \n",
       "129966  note honeysuckle cantaloupe sweeten deliciously featherlight spätlese intensely juicy quenching palate stream tart tangerine grapefruit acidity yet wrap kiss honey peach           \n",
       "129968  welldrained gravel soil give wine crisp dry character ripe fruity although spice subdued favor serious structure wine age couple year drink                                         \n",
       "129969  dry style pinot gris crisp acidity also weight solid powerful core spice baked apple flavor structure still developing wine need age drink                                          \n",
       "129970  big rich offdry powered intense spiciness rounded texture lychee dominate fruit profile giving opulent feel aftertaste drink                                                        \n",
       "\n",
       "[120912 rows x 9 columns]"
      ]
     },
     "execution_count": 94,
     "metadata": {},
     "output_type": "execute_result"
    }
   ],
   "source": [
    "x"
   ]
  },
  {
   "cell_type": "code",
   "execution_count": 95,
   "id": "46736bf8",
   "metadata": {},
   "outputs": [
    {
     "data": {
      "text/plain": [
       "0         3\n",
       "1         3\n",
       "2         3\n",
       "3         3\n",
       "4         3\n",
       "         ..\n",
       "129965    3\n",
       "129966    3\n",
       "129968    3\n",
       "129969    3\n",
       "129970    3\n",
       "Name: quality, Length: 120912, dtype: int32"
      ]
     },
     "execution_count": 95,
     "metadata": {},
     "output_type": "execute_result"
    }
   ],
   "source": [
    "target"
   ]
  },
  {
   "cell_type": "code",
   "execution_count": 96,
   "id": "326eb24f",
   "metadata": {},
   "outputs": [],
   "source": [
    "x_train, x_test, target_train, target_test = train_test_split(x, target, test_size=0.3, random_state=2000)\n"
   ]
  },
  {
   "cell_type": "code",
   "execution_count": 97,
   "id": "5d4b1a9a",
   "metadata": {},
   "outputs": [
    {
     "data": {
      "text/plain": [
       "((84638, 9), (36274, 9))"
      ]
     },
     "execution_count": 97,
     "metadata": {},
     "output_type": "execute_result"
    }
   ],
   "source": [
    "x_train.shape, x_test.shape"
   ]
  },
  {
   "cell_type": "code",
   "execution_count": 98,
   "id": "ddd24efe",
   "metadata": {},
   "outputs": [
    {
     "data": {
      "text/plain": [
       "((84638,), (36274,))"
      ]
     },
     "execution_count": 98,
     "metadata": {},
     "output_type": "execute_result"
    }
   ],
   "source": [
    "target_train.shape, target_test.shape"
   ]
  },
  {
   "cell_type": "markdown",
   "id": "88092529",
   "metadata": {},
   "source": [
    "# Model Building & Evaluation"
   ]
  },
  {
   "cell_type": "code",
   "execution_count": 99,
   "id": "0d275b9f",
   "metadata": {},
   "outputs": [],
   "source": [
    "from sklearn.linear_model import LogisticRegression\n",
    "from sklearn.ensemble import RandomForestClassifier\n",
    "from sklearn.metrics import mean_squared_error, r2_score\n",
    "from sklearn.feature_extraction.text import CountVectorizer, TfidfVectorizer, HashingVectorizer, TfidfTransformer"
   ]
  },
  {
   "cell_type": "code",
   "execution_count": 100,
   "id": "628ba16f",
   "metadata": {},
   "outputs": [],
   "source": [
    "# initialize transformers\n",
    "count_vect = CountVectorizer()\n",
    "tfidf_transformer = TfidfTransformer()\n"
   ]
  },
  {
   "cell_type": "code",
   "execution_count": 101,
   "id": "9986bb50",
   "metadata": {},
   "outputs": [],
   "source": [
    "# fit and transform train data\n",
    "X_train_counts = count_vect.fit_transform(x_train['des_lemmatized'])\n",
    "X_train_tfidf = tfidf_transformer.fit_transform(X_train_counts)"
   ]
  },
  {
   "cell_type": "code",
   "execution_count": 102,
   "id": "f61c4766",
   "metadata": {},
   "outputs": [
    {
     "data": {
      "text/plain": [
       "(84638, 31946)"
      ]
     },
     "execution_count": 102,
     "metadata": {},
     "output_type": "execute_result"
    }
   ],
   "source": [
    "X_train_tfidf.shape"
   ]
  },
  {
   "cell_type": "code",
   "execution_count": 103,
   "id": "4a617336",
   "metadata": {},
   "outputs": [],
   "source": [
    "# transform test data\n",
    "X_test_counts = count_vect.transform(x_test['des_lemmatized'])\n",
    "\n",
    "X_test_tfidf = tfidf_transformer.transform(X_test_counts)"
   ]
  },
  {
   "cell_type": "code",
   "execution_count": 104,
   "id": "e3bb962c",
   "metadata": {},
   "outputs": [
    {
     "data": {
      "text/plain": [
       "(36274, 31946)"
      ]
     },
     "execution_count": 104,
     "metadata": {},
     "output_type": "execute_result"
    }
   ],
   "source": [
    "X_test_tfidf.shape"
   ]
  },
  {
   "cell_type": "code",
   "execution_count": 105,
   "id": "f5a9fd6a",
   "metadata": {},
   "outputs": [],
   "source": [
    "tfidf_vect = TfidfVectorizer()\n",
    "\n",
    "X_train_tfidf = tfidf_vect.fit_transform(x_train['des_lemmatized'])\n",
    "X_test_tfidf = tfidf_vect.transform(x_test['des_lemmatized'])"
   ]
  },
  {
   "cell_type": "code",
   "execution_count": 106,
   "id": "bef076c7",
   "metadata": {},
   "outputs": [
    {
     "data": {
      "text/plain": [
       "(84638, 31946)"
      ]
     },
     "execution_count": 106,
     "metadata": {},
     "output_type": "execute_result"
    }
   ],
   "source": [
    "X_train_tfidf.shape"
   ]
  },
  {
   "cell_type": "code",
   "execution_count": 107,
   "id": "03e15d79",
   "metadata": {},
   "outputs": [
    {
     "data": {
      "text/plain": [
       "(36274, 31946)"
      ]
     },
     "execution_count": 107,
     "metadata": {},
     "output_type": "execute_result"
    }
   ],
   "source": [
    "X_test_tfidf.shape"
   ]
  },
  {
   "cell_type": "markdown",
   "id": "a6fc8f9d",
   "metadata": {},
   "source": [
    "# Train the model "
   ]
  },
  {
   "cell_type": "markdown",
   "id": "0511200f",
   "metadata": {},
   "source": [
    "# LogisticRegression algorithm for classification"
   ]
  },
  {
   "cell_type": "code",
   "execution_count": 108,
   "id": "d2349364",
   "metadata": {},
   "outputs": [
    {
     "name": "stderr",
     "output_type": "stream",
     "text": [
      "F:\\sofia\\lib\\site-packages\\sklearn\\linear_model\\_logistic.py:444: ConvergenceWarning: lbfgs failed to converge (status=1):\n",
      "STOP: TOTAL NO. of ITERATIONS REACHED LIMIT.\n",
      "\n",
      "Increase the number of iterations (max_iter) or scale the data as shown in:\n",
      "    https://scikit-learn.org/stable/modules/preprocessing.html\n",
      "Please also refer to the documentation for alternative solver options:\n",
      "    https://scikit-learn.org/stable/modules/linear_model.html#logistic-regression\n",
      "  n_iter_i = _check_optimize_result(\n"
     ]
    }
   ],
   "source": [
    "lr = LogisticRegression(multi_class='ovr',solver='lbfgs')\n",
    "model = lr.fit(X_train_tfidf,target_train)"
   ]
  },
  {
   "cell_type": "code",
   "execution_count": 109,
   "id": "2116ac3d",
   "metadata": {},
   "outputs": [],
   "source": [
    "y_pred = lr.predict(X_test_tfidf)"
   ]
  },
  {
   "cell_type": "code",
   "execution_count": 110,
   "id": "70a6ea8d",
   "metadata": {},
   "outputs": [
    {
     "name": "stdout",
     "output_type": "stream",
     "text": [
      "Confusion Matrix : \n",
      " [[ 3201    14     0  3273]\n",
      " [   22  4097     0  3896]\n",
      " [    0    73     0     7]\n",
      " [  846  1515     0 19330]]\n"
     ]
    }
   ],
   "source": [
    "from sklearn.metrics import confusion_matrix\n",
    "cm = confusion_matrix(target_test, y_pred)\n",
    "  \n",
    "print (\"Confusion Matrix : \\n\", cm)"
   ]
  },
  {
   "cell_type": "code",
   "execution_count": 111,
   "id": "f269b91a",
   "metadata": {},
   "outputs": [
    {
     "name": "stdout",
     "output_type": "stream",
     "text": [
      "Accuracy :  0.7340795059822462\n"
     ]
    }
   ],
   "source": [
    "from sklearn.metrics import accuracy_score\n",
    "print (\"Accuracy : \", accuracy_score(target_test, y_pred))"
   ]
  },
  {
   "cell_type": "code",
   "execution_count": 112,
   "id": "a84ec886",
   "metadata": {},
   "outputs": [
    {
     "name": "stdout",
     "output_type": "stream",
     "text": [
      "              precision    recall  f1-score   support\n",
      "\n",
      "           0       0.79      0.49      0.61      6488\n",
      "           1       0.72      0.51      0.60      8015\n",
      "           2       0.00      0.00      0.00        80\n",
      "           3       0.73      0.89      0.80     21691\n",
      "\n",
      "    accuracy                           0.73     36274\n",
      "   macro avg       0.56      0.47      0.50     36274\n",
      "weighted avg       0.74      0.73      0.72     36274\n",
      "\n"
     ]
    },
    {
     "name": "stderr",
     "output_type": "stream",
     "text": [
      "F:\\sofia\\lib\\site-packages\\sklearn\\metrics\\_classification.py:1334: UndefinedMetricWarning: Precision and F-score are ill-defined and being set to 0.0 in labels with no predicted samples. Use `zero_division` parameter to control this behavior.\n",
      "  _warn_prf(average, modifier, msg_start, len(result))\n",
      "F:\\sofia\\lib\\site-packages\\sklearn\\metrics\\_classification.py:1334: UndefinedMetricWarning: Precision and F-score are ill-defined and being set to 0.0 in labels with no predicted samples. Use `zero_division` parameter to control this behavior.\n",
      "  _warn_prf(average, modifier, msg_start, len(result))\n",
      "F:\\sofia\\lib\\site-packages\\sklearn\\metrics\\_classification.py:1334: UndefinedMetricWarning: Precision and F-score are ill-defined and being set to 0.0 in labels with no predicted samples. Use `zero_division` parameter to control this behavior.\n",
      "  _warn_prf(average, modifier, msg_start, len(result))\n"
     ]
    }
   ],
   "source": [
    "from sklearn.metrics import classification_report\n",
    "print(classification_report(target_test, y_pred))"
   ]
  },
  {
   "cell_type": "markdown",
   "id": "a68c2ada",
   "metadata": {},
   "source": [
    "# Random forest Algorithum"
   ]
  },
  {
   "cell_type": "markdown",
   "id": "90b6197d",
   "metadata": {},
   "source": [
    "# split the data"
   ]
  },
  {
   "cell_type": "code",
   "execution_count": 113,
   "id": "8c0c562b",
   "metadata": {},
   "outputs": [],
   "source": [
    "X=data.drop(['priceRange'],axis=1)\n",
    "target_Y=data['priceRange']"
   ]
  },
  {
   "cell_type": "code",
   "execution_count": 114,
   "id": "01abf46c",
   "metadata": {},
   "outputs": [
    {
     "data": {
      "text/html": [
       "<div>\n",
       "<style scoped>\n",
       "    .dataframe tbody tr th:only-of-type {\n",
       "        vertical-align: middle;\n",
       "    }\n",
       "\n",
       "    .dataframe tbody tr th {\n",
       "        vertical-align: top;\n",
       "    }\n",
       "\n",
       "    .dataframe thead th {\n",
       "        text-align: right;\n",
       "    }\n",
       "</style>\n",
       "<table border=\"1\" class=\"dataframe\">\n",
       "  <thead>\n",
       "    <tr style=\"text-align: right;\">\n",
       "      <th></th>\n",
       "      <th>country</th>\n",
       "      <th>points</th>\n",
       "      <th>price</th>\n",
       "      <th>province</th>\n",
       "      <th>title</th>\n",
       "      <th>variety</th>\n",
       "      <th>winery</th>\n",
       "      <th>quality</th>\n",
       "      <th>des_lemmatized</th>\n",
       "    </tr>\n",
       "  </thead>\n",
       "  <tbody>\n",
       "    <tr>\n",
       "      <th>0</th>\n",
       "      <td>22</td>\n",
       "      <td>87</td>\n",
       "      <td>25.0</td>\n",
       "      <td>331</td>\n",
       "      <td>5632</td>\n",
       "      <td>686</td>\n",
       "      <td>11382</td>\n",
       "      <td>3</td>\n",
       "      <td>aroma include tropical fruit broom brimstone dried herb palate isnt overly expressive offering unripened apple citrus dried sage alongside brisk acidity</td>\n",
       "    </tr>\n",
       "    <tr>\n",
       "      <th>1</th>\n",
       "      <td>31</td>\n",
       "      <td>87</td>\n",
       "      <td>15.0</td>\n",
       "      <td>108</td>\n",
       "      <td>5529</td>\n",
       "      <td>449</td>\n",
       "      <td>12690</td>\n",
       "      <td>3</td>\n",
       "      <td>ripe fruity wine smooth still structured firm tannin filled juicy red berry fruit freshened acidity already drinkable although certainly better</td>\n",
       "    </tr>\n",
       "    <tr>\n",
       "      <th>2</th>\n",
       "      <td>40</td>\n",
       "      <td>87</td>\n",
       "      <td>14.0</td>\n",
       "      <td>268</td>\n",
       "      <td>10199</td>\n",
       "      <td>435</td>\n",
       "      <td>12752</td>\n",
       "      <td>3</td>\n",
       "      <td>tart snappy flavor lime flesh rind dominate green pineapple poke crisp acidity underscoring flavor wine stainlesssteel fermented</td>\n",
       "    </tr>\n",
       "    <tr>\n",
       "      <th>3</th>\n",
       "      <td>40</td>\n",
       "      <td>87</td>\n",
       "      <td>13.0</td>\n",
       "      <td>218</td>\n",
       "      <td>6853</td>\n",
       "      <td>477</td>\n",
       "      <td>14094</td>\n",
       "      <td>3</td>\n",
       "      <td>pineapple rind lemon pith orange blossom start aroma palate bit opulent note honeydrizzled guava mango giving way slightly astringent semidry finish</td>\n",
       "    </tr>\n",
       "    <tr>\n",
       "      <th>4</th>\n",
       "      <td>40</td>\n",
       "      <td>87</td>\n",
       "      <td>65.0</td>\n",
       "      <td>268</td>\n",
       "      <td>10199</td>\n",
       "      <td>439</td>\n",
       "      <td>14322</td>\n",
       "      <td>3</td>\n",
       "      <td>much like regular bottling come across rather rough tannic rustic earthy herbal characteristic nonetheless think pleasantly unfussy country wine good companion hearty winter stew</td>\n",
       "    </tr>\n",
       "    <tr>\n",
       "      <th>...</th>\n",
       "      <td>...</td>\n",
       "      <td>...</td>\n",
       "      <td>...</td>\n",
       "      <td>...</td>\n",
       "      <td>...</td>\n",
       "      <td>...</td>\n",
       "      <td>...</td>\n",
       "      <td>...</td>\n",
       "      <td>...</td>\n",
       "    </tr>\n",
       "    <tr>\n",
       "      <th>129965</th>\n",
       "      <td>15</td>\n",
       "      <td>90</td>\n",
       "      <td>28.0</td>\n",
       "      <td>11</td>\n",
       "      <td>167</td>\n",
       "      <td>435</td>\n",
       "      <td>5984</td>\n",
       "      <td>3</td>\n",
       "      <td>rich beautiful dry wine also offer considerable freshness acidity cut easily ripe white fruit pear red apple allowing room spice provides contrasting aftertaste</td>\n",
       "    </tr>\n",
       "    <tr>\n",
       "      <th>129966</th>\n",
       "      <td>17</td>\n",
       "      <td>90</td>\n",
       "      <td>28.0</td>\n",
       "      <td>232</td>\n",
       "      <td>7713</td>\n",
       "      <td>477</td>\n",
       "      <td>6518</td>\n",
       "      <td>3</td>\n",
       "      <td>note honeysuckle cantaloupe sweeten deliciously featherlight spätlese intensely juicy quenching palate stream tart tangerine grapefruit acidity yet wrap kiss honey peach</td>\n",
       "    </tr>\n",
       "    <tr>\n",
       "      <th>129968</th>\n",
       "      <td>15</td>\n",
       "      <td>90</td>\n",
       "      <td>30.0</td>\n",
       "      <td>11</td>\n",
       "      <td>167</td>\n",
       "      <td>208</td>\n",
       "      <td>5818</td>\n",
       "      <td>3</td>\n",
       "      <td>welldrained gravel soil give wine crisp dry character ripe fruity although spice subdued favor serious structure wine age couple year drink</td>\n",
       "    </tr>\n",
       "    <tr>\n",
       "      <th>129969</th>\n",
       "      <td>15</td>\n",
       "      <td>90</td>\n",
       "      <td>32.0</td>\n",
       "      <td>11</td>\n",
       "      <td>167</td>\n",
       "      <td>435</td>\n",
       "      <td>5913</td>\n",
       "      <td>3</td>\n",
       "      <td>dry style pinot gris crisp acidity also weight solid powerful core spice baked apple flavor structure still developing wine need age drink</td>\n",
       "    </tr>\n",
       "    <tr>\n",
       "      <th>129970</th>\n",
       "      <td>15</td>\n",
       "      <td>90</td>\n",
       "      <td>21.0</td>\n",
       "      <td>11</td>\n",
       "      <td>167</td>\n",
       "      <td>208</td>\n",
       "      <td>6025</td>\n",
       "      <td>3</td>\n",
       "      <td>big rich offdry powered intense spiciness rounded texture lychee dominate fruit profile giving opulent feel aftertaste drink</td>\n",
       "    </tr>\n",
       "  </tbody>\n",
       "</table>\n",
       "<p>120912 rows × 9 columns</p>\n",
       "</div>"
      ],
      "text/plain": [
       "        country  points  price  province  title  variety  winery  quality  \\\n",
       "0       22       87      25.0   331       5632   686      11382   3         \n",
       "1       31       87      15.0   108       5529   449      12690   3         \n",
       "2       40       87      14.0   268       10199  435      12752   3         \n",
       "3       40       87      13.0   218       6853   477      14094   3         \n",
       "4       40       87      65.0   268       10199  439      14322   3         \n",
       "...     ..       ..       ...   ...         ...  ...        ...  ..         \n",
       "129965  15       90      28.0   11        167    435      5984    3         \n",
       "129966  17       90      28.0   232       7713   477      6518    3         \n",
       "129968  15       90      30.0   11        167    208      5818    3         \n",
       "129969  15       90      32.0   11        167    435      5913    3         \n",
       "129970  15       90      21.0   11        167    208      6025    3         \n",
       "\n",
       "                                                                                                                                                                            des_lemmatized  \n",
       "0       aroma include tropical fruit broom brimstone dried herb palate isnt overly expressive offering unripened apple citrus dried sage alongside brisk acidity                            \n",
       "1       ripe fruity wine smooth still structured firm tannin filled juicy red berry fruit freshened acidity already drinkable although certainly better                                     \n",
       "2       tart snappy flavor lime flesh rind dominate green pineapple poke crisp acidity underscoring flavor wine stainlesssteel fermented                                                    \n",
       "3       pineapple rind lemon pith orange blossom start aroma palate bit opulent note honeydrizzled guava mango giving way slightly astringent semidry finish                                \n",
       "4       much like regular bottling come across rather rough tannic rustic earthy herbal characteristic nonetheless think pleasantly unfussy country wine good companion hearty winter stew  \n",
       "...                                                                                                                                                                                    ...  \n",
       "129965  rich beautiful dry wine also offer considerable freshness acidity cut easily ripe white fruit pear red apple allowing room spice provides contrasting aftertaste                    \n",
       "129966  note honeysuckle cantaloupe sweeten deliciously featherlight spätlese intensely juicy quenching palate stream tart tangerine grapefruit acidity yet wrap kiss honey peach           \n",
       "129968  welldrained gravel soil give wine crisp dry character ripe fruity although spice subdued favor serious structure wine age couple year drink                                         \n",
       "129969  dry style pinot gris crisp acidity also weight solid powerful core spice baked apple flavor structure still developing wine need age drink                                          \n",
       "129970  big rich offdry powered intense spiciness rounded texture lychee dominate fruit profile giving opulent feel aftertaste drink                                                        \n",
       "\n",
       "[120912 rows x 9 columns]"
      ]
     },
     "execution_count": 114,
     "metadata": {},
     "output_type": "execute_result"
    }
   ],
   "source": [
    "X"
   ]
  },
  {
   "cell_type": "code",
   "execution_count": 115,
   "id": "0b9fa876",
   "metadata": {},
   "outputs": [
    {
     "data": {
      "text/plain": [
       "0         1-30  \n",
       "1         1-30  \n",
       "2         1-30  \n",
       "3         1-30  \n",
       "4         51-100\n",
       "           ...  \n",
       "129965    1-30  \n",
       "129966    1-30  \n",
       "129968    1-30  \n",
       "129969    31-50 \n",
       "129970    1-30  \n",
       "Name: priceRange, Length: 120912, dtype: object"
      ]
     },
     "execution_count": 115,
     "metadata": {},
     "output_type": "execute_result"
    }
   ],
   "source": [
    "target_Y"
   ]
  },
  {
   "cell_type": "code",
   "execution_count": 116,
   "id": "35ec334d",
   "metadata": {},
   "outputs": [],
   "source": [
    "X_train, X_test, Target_train, Target_test = train_test_split(X, target_Y, test_size=0.3, random_state=2000)\n"
   ]
  },
  {
   "cell_type": "code",
   "execution_count": 117,
   "id": "123145e7",
   "metadata": {},
   "outputs": [
    {
     "data": {
      "text/plain": [
       "((84638, 9), (36274, 9))"
      ]
     },
     "execution_count": 117,
     "metadata": {},
     "output_type": "execute_result"
    }
   ],
   "source": [
    "X_train.shape, X_test.shape"
   ]
  },
  {
   "cell_type": "code",
   "execution_count": 118,
   "id": "1582aa85",
   "metadata": {},
   "outputs": [
    {
     "data": {
      "text/plain": [
       "((84638,), (36274,))"
      ]
     },
     "execution_count": 118,
     "metadata": {},
     "output_type": "execute_result"
    }
   ],
   "source": [
    "Target_train.shape,Target_test.shape"
   ]
  },
  {
   "cell_type": "markdown",
   "id": "f01eed81",
   "metadata": {},
   "source": [
    "# vectorization"
   ]
  },
  {
   "cell_type": "code",
   "execution_count": 119,
   "id": "54c91fd4",
   "metadata": {},
   "outputs": [],
   "source": [
    "# initialize transformers\n",
    "count_vect = CountVectorizer()\n",
    "tfidf_transformer = TfidfTransformer()\n"
   ]
  },
  {
   "cell_type": "code",
   "execution_count": 120,
   "id": "2012f5b1",
   "metadata": {},
   "outputs": [],
   "source": [
    "# fit and transform train data\n",
    "X_train_counts = count_vect.fit_transform(X_train['des_lemmatized'])\n",
    "X_train_tfidf = tfidf_transformer.fit_transform(X_train_counts)"
   ]
  },
  {
   "cell_type": "code",
   "execution_count": 121,
   "id": "2d15aa73",
   "metadata": {},
   "outputs": [
    {
     "data": {
      "text/plain": [
       "(84638, 31946)"
      ]
     },
     "execution_count": 121,
     "metadata": {},
     "output_type": "execute_result"
    }
   ],
   "source": [
    "X_train_tfidf.shape"
   ]
  },
  {
   "cell_type": "code",
   "execution_count": 122,
   "id": "e529e185",
   "metadata": {},
   "outputs": [],
   "source": [
    "# transform test data\n",
    "X_test_counts = count_vect.transform(X_test['des_lemmatized'])\n",
    "\n",
    "X_test_tfidf = tfidf_transformer.transform(X_test_counts)"
   ]
  },
  {
   "cell_type": "code",
   "execution_count": 123,
   "id": "6b5dce86",
   "metadata": {},
   "outputs": [
    {
     "data": {
      "text/plain": [
       "(36274, 31946)"
      ]
     },
     "execution_count": 123,
     "metadata": {},
     "output_type": "execute_result"
    }
   ],
   "source": [
    "X_test_tfidf.shape"
   ]
  },
  {
   "cell_type": "code",
   "execution_count": 124,
   "id": "3904abea",
   "metadata": {},
   "outputs": [],
   "source": [
    "tfidf_vect = TfidfVectorizer()\n",
    "\n",
    "X_train_tfidf = tfidf_vect.fit_transform(X_train['des_lemmatized'])\n",
    "X_test_tfidf = tfidf_vect.transform(X_test['des_lemmatized'])"
   ]
  },
  {
   "cell_type": "code",
   "execution_count": 125,
   "id": "bc3789e8",
   "metadata": {},
   "outputs": [
    {
     "data": {
      "text/plain": [
       "(84638, 31946)"
      ]
     },
     "execution_count": 125,
     "metadata": {},
     "output_type": "execute_result"
    }
   ],
   "source": [
    "X_train_tfidf.shape"
   ]
  },
  {
   "cell_type": "code",
   "execution_count": 126,
   "id": "d81e1147",
   "metadata": {},
   "outputs": [
    {
     "data": {
      "text/plain": [
       "(36274, 31946)"
      ]
     },
     "execution_count": 126,
     "metadata": {},
     "output_type": "execute_result"
    }
   ],
   "source": [
    "X_test_tfidf.shape"
   ]
  },
  {
   "cell_type": "code",
   "execution_count": 127,
   "id": "dc516d23",
   "metadata": {},
   "outputs": [],
   "source": [
    "rfc = RandomForestClassifier(n_estimators=200, random_state = 2020,max_depth=6 )"
   ]
  },
  {
   "cell_type": "code",
   "execution_count": 128,
   "id": "8ec4e96f",
   "metadata": {},
   "outputs": [],
   "source": [
    "model = rfc.fit(X_train_tfidf,Target_train)"
   ]
  },
  {
   "cell_type": "code",
   "execution_count": 129,
   "id": "4ac23a41",
   "metadata": {},
   "outputs": [
    {
     "data": {
      "text/plain": [
       "array(['1-30', '1-30', '1-30', ..., '1-30', '1-30', '1-30'], dtype=object)"
      ]
     },
     "execution_count": 129,
     "metadata": {},
     "output_type": "execute_result"
    }
   ],
   "source": [
    "y_pred_rfc = rfc.predict(X_test_tfidf)\n",
    "y_pred_rfc"
   ]
  },
  {
   "cell_type": "code",
   "execution_count": 130,
   "id": "7237d9ec",
   "metadata": {},
   "outputs": [
    {
     "name": "stdout",
     "output_type": "stream",
     "text": [
      "Accuracy :  0.6804046975795336\n"
     ]
    }
   ],
   "source": [
    "from sklearn.metrics import accuracy_score\n",
    "print (\"Accuracy : \", accuracy_score(Target_test, y_pred_rfc))"
   ]
  },
  {
   "cell_type": "code",
   "execution_count": null,
   "id": "6ee674c3",
   "metadata": {},
   "outputs": [],
   "source": []
  }
 ],
 "metadata": {
  "kernelspec": {
   "display_name": "Python 3 (ipykernel)",
   "language": "python",
   "name": "python3"
  },
  "language_info": {
   "codemirror_mode": {
    "name": "ipython",
    "version": 3
   },
   "file_extension": ".py",
   "mimetype": "text/x-python",
   "name": "python",
   "nbconvert_exporter": "python",
   "pygments_lexer": "ipython3",
   "version": "3.9.12"
  }
 },
 "nbformat": 4,
 "nbformat_minor": 5
}
